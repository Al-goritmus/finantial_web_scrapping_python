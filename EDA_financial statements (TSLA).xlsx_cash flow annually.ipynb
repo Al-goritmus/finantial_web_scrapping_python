{
  "cells": [
    {
      "cell_type": "markdown",
      "metadata": {
        "id": "3aa0037e-ea7d-4ee4-983d-2a338d6bd67b"
      },
      "source": [
        "# Import libraries"
      ]
    },
    {
      "cell_type": "code",
      "execution_count": null,
      "metadata": {
        "id": "e8994bf1-4344-43c8-98bb-0754f6cfb0be"
      },
      "outputs": [],
      "source": [
        "pip install sweetviz\n"
      ]
    },
    {
      "cell_type": "code",
      "execution_count": null,
      "metadata": {
        "id": "87854536-ece5-4eb9-89dd-3c6bd81d818b"
      },
      "outputs": [],
      "source": [
        "import pandas as pd\n",
        "import psycopg2\n",
        "import numpy as np\n",
        "import matplotlib.pyplot     as plt\n",
        "import matplotlib.patches    as mpatches\n",
        "import seaborn               as sns\n",
        "import sweetviz as sv\n",
        "import sklearn.metrics       as Metrics\n",
        "from google.colab import drive\n",
        "from pandas_profiling import ProfileReport\n",
        "%matplotlib inline"
      ]
    },
    {
      "cell_type": "markdown",
      "metadata": {
        "id": "b7017c26-25e6-4d96-9f85-d22843867edb"
      },
      "source": [
        "# Read file"
      ]
    },
    {
      "cell_type": "code",
      "execution_count": null,
      "metadata": {
        "id": "57b6ddd1-6941-4955-8502-d8ca53e9eeb3"
      },
      "outputs": [],
      "source": [
        "drive.mount('/content/drive')\n"
      ]
    },
    {
      "cell_type": "code",
      "execution_count": null,
      "metadata": {
        "id": "cf716182-37b9-4a6c-9279-386f435251e2"
      },
      "outputs": [],
      "source": [
        "path_dir = '/mnt/f/PythonFinanceProjects/'\n",
        "filename = 'financial statements (TSLA).xlsx'\n",
        "sheet = 'cash flow annually'\n"
      ]
    },
    {
      "cell_type": "code",
      "execution_count": null,
      "metadata": {
        "id": "3e5f011f-544a-40ea-b044-847cb5c80b5c"
      },
      "outputs": [],
      "source": [
        "df = pd.read_excel(f'{path_dir}{filename}', sheet_name=sheet, header=0)"
      ]
    },
    {
      "cell_type": "code",
      "execution_count": null,
      "metadata": {
        "id": "6f5645bc-0d5d-4cf1-ab35-19f775b2f671"
      },
      "outputs": [],
      "source": [
        "df"
      ]
    },
    {
      "cell_type": "markdown",
      "metadata": {
        "id": "653db3b3-2621-4fac-adf7-33d2fbbf5eb7"
      },
      "source": [
        "# Normalize_cols"
      ]
    },
    {
      "cell_type": "code",
      "execution_count": null,
      "metadata": {
        "id": "c97a6abd-42fd-4c1e-9206-cef407249ede"
      },
      "outputs": [],
      "source": [
        "def remove_accents_cols(df_cols):\n",
        "    return df_cols.str.replace('ñ','ni').str.normalize('NFKD').str.encode('ascii', errors='ignore').str.decode('utf-8')\n",
        "def remove_special_chars(df_cols):\n",
        "    return df_cols.str.replace(r'[$@&/.:-]',' ', regex=True)\n",
        "def regular_camel_case(snake_str):\n",
        "    components = snake_str.split('_')\n",
        "    return components[0] + ''.join(x.title() for x in components[1:])\n",
        "def regular_snake_case(df_cols):\n",
        "    cols = df_cols.str.replace('ñ','ni')\n",
        "    cols = cols.str.lower().str.replace('/',' ').str.replace('.',' ').str.strip()\n",
        "    cols = cols.str.replace(r'\\s+',' ',regex=True)\n",
        "    cols = cols.str.replace(' ','_')\n",
        "    return cols"
      ]
    },
    {
      "cell_type": "code",
      "execution_count": null,
      "metadata": {
        "id": "9475c1b2-b563-4526-af15-754fbf0666be"
      },
      "outputs": [],
      "source": [
        "df.columns = remove_accents_cols(df.columns)\n",
        "df.columns = remove_special_chars(df.columns)\n",
        "df.columns = regular_snake_case(df.columns)"
      ]
    },
    {
      "cell_type": "code",
      "execution_count": null,
      "metadata": {
        "id": "1013e2c4-6d6e-419a-8515-28187496ad4a"
      },
      "outputs": [],
      "source": [
        "df"
      ]
    },
    {
      "cell_type": "markdown",
      "metadata": {
        "id": "35aaf643-d7cc-44aa-80a2-ace98d3d5891"
      },
      "source": [
        "# General stats cells"
      ]
    },
    {
      "cell_type": "code",
      "execution_count": null,
      "metadata": {
        "id": "d083cba4-f8a1-4f20-81b4-2d2dbde863f1"
      },
      "outputs": [],
      "source": [
        "df.describe()"
      ]
    },
    {
      "cell_type": "code",
      "execution_count": null,
      "metadata": {
        "id": "0c1cebc3-b278-45b9-bb8a-c124e85dbbaf"
      },
      "outputs": [],
      "source": [
        "df.dtypes\n"
      ]
    },
    {
      "cell_type": "code",
      "execution_count": null,
      "metadata": {
        "id": "2e8238af-746a-464f-9c37-fd2d303059de"
      },
      "outputs": [],
      "source": [
        "df.info()"
      ]
    },
    {
      "cell_type": "code",
      "execution_count": null,
      "metadata": {
        "id": "b1257035-c189-4065-b8ec-1322ff747c11"
      },
      "outputs": [],
      "source": [
        "print('recuento de columnas por tipo: ', df.dtypes.value_counts())\n",
        "print('sumatoria de valores nulos en el dataframe: ', df.isna().sum())"
      ]
    },
    {
      "cell_type": "markdown",
      "metadata": {
        "id": "b35a8e7a-0af1-45e0-be94-67a023f40878"
      },
      "source": [
        "# General Analyst by columns"
      ]
    },
    {
      "cell_type": "markdown",
      "metadata": {
        "id": "c3e3f5f6-da13-42c8-b364-61f0babc4197"
      },
      "source": [
        "## year\n",
        "type: object"
      ]
    },
    {
      "cell_type": "code",
      "execution_count": null,
      "metadata": {
        "id": "5372d710-6f12-4d6b-baec-c5ce2dc5b2f7"
      },
      "outputs": [],
      "source": [
        "df['year'] = df['year'].astype(str)\n",
        "df['year'] = df['year'].str.replace('.0','')\n",
        "df['year'].unique()"
      ]
    },
    {
      "cell_type": "code",
      "execution_count": null,
      "metadata": {
        "id": "ba25d29c-efc4-46c6-a985-75e035b273d4"
      },
      "outputs": [],
      "source": [
        "df['year'].value_counts()"
      ]
    },
    {
      "cell_type": "code",
      "execution_count": null,
      "metadata": {
        "id": "1f0cf897-379d-4b0b-bcbe-30607936410a"
      },
      "outputs": [],
      "source": [
        "plt.figure(figsize=(10,5))\n",
        "df['year'].value_counts()[:15].plot(kind='pie')"
      ]
    },
    {
      "cell_type": "code",
      "execution_count": null,
      "metadata": {
        "id": "d001a47b-3161-4cd7-a783-ce522b075258"
      },
      "outputs": [],
      "source": [
        "plt.figure(figsize=(30,5))\n",
        "df['year'].value_counts()[:15].plot(kind='barh')"
      ]
    },
    {
      "cell_type": "markdown",
      "metadata": {
        "id": "d621ad74-4120-4daa-a8e9-2caf46655a70"
      },
      "source": [
        "## 2022\n",
        "type: object"
      ]
    },
    {
      "cell_type": "code",
      "execution_count": null,
      "metadata": {
        "id": "bf1f8437-f970-4551-8d38-cee4629ae02c"
      },
      "outputs": [],
      "source": [
        "df['2022'] = pd.to_numeric(df[f'2022'], errors='coerce')"
      ]
    },
    {
      "cell_type": "code",
      "execution_count": null,
      "metadata": {
        "id": "7037cbbd-e5c7-4f8a-b3e5-2de6e6b0186c"
      },
      "outputs": [],
      "source": [
        "print('la media es: ',df['2022'].mean())"
      ]
    },
    {
      "cell_type": "code",
      "execution_count": null,
      "metadata": {
        "id": "34db5932-0984-45dd-a2c4-618df51236e5"
      },
      "outputs": [],
      "source": [
        "print('la moda es: ',df['2022'].mode())"
      ]
    },
    {
      "cell_type": "code",
      "execution_count": null,
      "metadata": {
        "id": "2eb3fd0e-80fb-4ac8-ac15-9376629c3122"
      },
      "outputs": [],
      "source": [
        "print('la mediana es: ',df['2022'].median())"
      ]
    },
    {
      "cell_type": "code",
      "execution_count": null,
      "metadata": {
        "id": "ffebf490-3d5d-492b-ad63-14ccdd29e6e9"
      },
      "outputs": [],
      "source": [
        "print('el valor mínimo de 2022 es: : ',df['2022'].min())"
      ]
    },
    {
      "cell_type": "code",
      "execution_count": null,
      "metadata": {
        "id": "4af8d495-4291-4270-a538-aba01b727510"
      },
      "outputs": [],
      "source": [
        "print('el valor máximo de 2022 es: : ',df['2022'].max())"
      ]
    },
    {
      "cell_type": "code",
      "execution_count": null,
      "metadata": {
        "id": "7635a6c8-64d2-437f-a83a-0f5d3b6c15b4"
      },
      "outputs": [],
      "source": [
        "print('el rango de 2022 es: : ',df['2022'].max() - df['2022'].min())"
      ]
    },
    {
      "cell_type": "code",
      "execution_count": null,
      "metadata": {
        "id": "67cabd3c-62c0-474f-aa1d-c2bc2cf4fec1"
      },
      "outputs": [],
      "source": [
        "print('la desviación éstandar de 2022 es: : ',df['2022'].std())"
      ]
    },
    {
      "cell_type": "code",
      "execution_count": null,
      "metadata": {
        "id": "dd1244ba-9e25-484d-a133-46f286bd5264"
      },
      "outputs": [],
      "source": [
        "sns.histplot(data = df,x = '2022')\n",
        "plt.axvline(x=df.2022.mean(),color='red',linestyle='dashed',linewidth=2)"
      ]
    },
    {
      "cell_type": "markdown",
      "metadata": {
        "id": "cf01b520-2f0f-4617-ab96-32dae96cd5e1"
      },
      "source": [
        "## 2021\n",
        "type: object"
      ]
    },
    {
      "cell_type": "code",
      "execution_count": null,
      "metadata": {
        "id": "092bb19d-fa18-40aa-b2ac-7217b8c2bb52"
      },
      "outputs": [],
      "source": [
        "df['2021'] = pd.to_numeric(df[f'2021'], errors='coerce')"
      ]
    },
    {
      "cell_type": "code",
      "execution_count": null,
      "metadata": {
        "id": "6c28180e-0637-45f3-bb5a-49e796432d8b"
      },
      "outputs": [],
      "source": [
        "print('la media es: ',df['2021'].mean())"
      ]
    },
    {
      "cell_type": "code",
      "execution_count": null,
      "metadata": {
        "id": "ac3eb7fc-0205-44a5-86e6-b644319c4d3e"
      },
      "outputs": [],
      "source": [
        "print('la moda es: ',df['2021'].mode())"
      ]
    },
    {
      "cell_type": "code",
      "execution_count": null,
      "metadata": {
        "id": "c50a1e5b-94b1-4c7a-a05c-b14f297a40bc"
      },
      "outputs": [],
      "source": [
        "print('la mediana es: ',df['2021'].median())"
      ]
    },
    {
      "cell_type": "code",
      "execution_count": null,
      "metadata": {
        "id": "e7187c5f-1bbe-4f67-8db6-4821d742efd4"
      },
      "outputs": [],
      "source": [
        "print('el valor mínimo de 2021 es: : ',df['2021'].min())"
      ]
    },
    {
      "cell_type": "code",
      "execution_count": null,
      "metadata": {
        "id": "32b169a6-99d5-4717-a7fc-8755118c79da"
      },
      "outputs": [],
      "source": [
        "print('el valor máximo de 2021 es: : ',df['2021'].max())"
      ]
    },
    {
      "cell_type": "code",
      "execution_count": null,
      "metadata": {
        "id": "c75af399-f57b-4c67-ba45-95b5e3f96cb5"
      },
      "outputs": [],
      "source": [
        "print('el rango de 2021 es: : ',df['2021'].max() - df['2021'].min())"
      ]
    },
    {
      "cell_type": "code",
      "execution_count": null,
      "metadata": {
        "id": "739dfc39-1802-4984-b25a-a77c3ed417a3"
      },
      "outputs": [],
      "source": [
        "print('la desviación éstandar de 2021 es: : ',df['2021'].std())"
      ]
    },
    {
      "cell_type": "code",
      "execution_count": null,
      "metadata": {
        "id": "b44e834b-c2c1-4255-85c9-7c76fb4386f4"
      },
      "outputs": [],
      "source": [
        "sns.histplot(data = df,x = '2021')\n",
        "plt.axvline(x=df.2021.mean(),color='red',linestyle='dashed',linewidth=2)"
      ]
    },
    {
      "cell_type": "markdown",
      "metadata": {
        "id": "6fd698e8-4f17-4230-a71e-810fa20c800c"
      },
      "source": [
        "## 2020\n",
        "type: object"
      ]
    },
    {
      "cell_type": "code",
      "execution_count": null,
      "metadata": {
        "id": "6758adf9-02e7-4625-a405-e775b74110f7"
      },
      "outputs": [],
      "source": [
        "df['2020'] = pd.to_numeric(df[f'2020'], errors='coerce')"
      ]
    },
    {
      "cell_type": "code",
      "execution_count": null,
      "metadata": {
        "id": "9ac6c322-0ae6-4528-abc6-2e180113daf2"
      },
      "outputs": [],
      "source": [
        "print('la media es: ',df['2020'].mean())"
      ]
    },
    {
      "cell_type": "code",
      "execution_count": null,
      "metadata": {
        "id": "c87899f5-cf81-424c-a954-c4d2c62b98f3"
      },
      "outputs": [],
      "source": [
        "print('la moda es: ',df['2020'].mode())"
      ]
    },
    {
      "cell_type": "code",
      "execution_count": null,
      "metadata": {
        "id": "337b8281-a5cc-4255-9f0d-336d170e5226"
      },
      "outputs": [],
      "source": [
        "print('la mediana es: ',df['2020'].median())"
      ]
    },
    {
      "cell_type": "code",
      "execution_count": null,
      "metadata": {
        "id": "30de38ee-3fa2-4dcf-93e8-b36358046505"
      },
      "outputs": [],
      "source": [
        "print('el valor mínimo de 2020 es: : ',df['2020'].min())"
      ]
    },
    {
      "cell_type": "code",
      "execution_count": null,
      "metadata": {
        "id": "b89192f4-b9ea-421c-adc5-3376bda2248d"
      },
      "outputs": [],
      "source": [
        "print('el valor máximo de 2020 es: : ',df['2020'].max())"
      ]
    },
    {
      "cell_type": "code",
      "execution_count": null,
      "metadata": {
        "id": "2c3d71eb-17d1-4325-bbb3-b5466ecf93a0"
      },
      "outputs": [],
      "source": [
        "print('el rango de 2020 es: : ',df['2020'].max() - df['2020'].min())"
      ]
    },
    {
      "cell_type": "code",
      "execution_count": null,
      "metadata": {
        "id": "5263ade2-c6a8-4d7e-b189-b999ba75d2bc"
      },
      "outputs": [],
      "source": [
        "print('la desviación éstandar de 2020 es: : ',df['2020'].std())"
      ]
    },
    {
      "cell_type": "code",
      "execution_count": null,
      "metadata": {
        "id": "fea645f4-9070-49c1-be19-dbc71251bfe4"
      },
      "outputs": [],
      "source": [
        "sns.histplot(data = df,x = '2020')\n",
        "plt.axvline(x=df.2020.mean(),color='red',linestyle='dashed',linewidth=2)"
      ]
    },
    {
      "cell_type": "markdown",
      "metadata": {
        "id": "c84a754f-1b7a-41db-b90d-98e6e6e142d4"
      },
      "source": [
        "## 2019\n",
        "type: object"
      ]
    },
    {
      "cell_type": "code",
      "execution_count": null,
      "metadata": {
        "id": "ba1ffa41-2382-4c08-991c-d6f048c31bb7"
      },
      "outputs": [],
      "source": [
        "df['2019'] = pd.to_numeric(df[f'2019'], errors='coerce')"
      ]
    },
    {
      "cell_type": "code",
      "execution_count": null,
      "metadata": {
        "id": "5ad81298-0c87-44e7-bd1d-c5717b420b8a"
      },
      "outputs": [],
      "source": [
        "print('la media es: ',df['2019'].mean())"
      ]
    },
    {
      "cell_type": "code",
      "execution_count": null,
      "metadata": {
        "id": "5533742e-b5a0-4a57-a1e2-580a888ad33e"
      },
      "outputs": [],
      "source": [
        "print('la moda es: ',df['2019'].mode())"
      ]
    },
    {
      "cell_type": "code",
      "execution_count": null,
      "metadata": {
        "id": "3ac6e499-2278-4063-999d-a62fdcabab49"
      },
      "outputs": [],
      "source": [
        "print('la mediana es: ',df['2019'].median())"
      ]
    },
    {
      "cell_type": "code",
      "execution_count": null,
      "metadata": {
        "id": "a1da36fb-359b-4191-983f-682076dc916b"
      },
      "outputs": [],
      "source": [
        "print('el valor mínimo de 2019 es: : ',df['2019'].min())"
      ]
    },
    {
      "cell_type": "code",
      "execution_count": null,
      "metadata": {
        "id": "a7318c60-f9d8-448c-9329-5c18b6904e31"
      },
      "outputs": [],
      "source": [
        "print('el valor máximo de 2019 es: : ',df['2019'].max())"
      ]
    },
    {
      "cell_type": "code",
      "execution_count": null,
      "metadata": {
        "id": "66665885-33cc-4427-8fcd-07fe907620e2"
      },
      "outputs": [],
      "source": [
        "print('el rango de 2019 es: : ',df['2019'].max() - df['2019'].min())"
      ]
    },
    {
      "cell_type": "code",
      "execution_count": null,
      "metadata": {
        "id": "084be92d-1e42-4a2e-ada8-b8bc070a9779"
      },
      "outputs": [],
      "source": [
        "print('la desviación éstandar de 2019 es: : ',df['2019'].std())"
      ]
    },
    {
      "cell_type": "code",
      "execution_count": null,
      "metadata": {
        "id": "2375e262-7ec6-46aa-839b-7d6a7bd2159a"
      },
      "outputs": [],
      "source": [
        "sns.histplot(data = df,x = '2019')\n",
        "plt.axvline(x=df.2019.mean(),color='red',linestyle='dashed',linewidth=2)"
      ]
    },
    {
      "cell_type": "markdown",
      "metadata": {
        "id": "f6e77768-526f-4178-818a-635347af7037"
      },
      "source": [
        "## 2018\n",
        "type: object"
      ]
    },
    {
      "cell_type": "code",
      "execution_count": null,
      "metadata": {
        "id": "39f9137b-28dc-48ad-94e4-208cbbb5d723"
      },
      "outputs": [],
      "source": [
        "df['2018'] = pd.to_numeric(df[f'2018'], errors='coerce')"
      ]
    },
    {
      "cell_type": "code",
      "execution_count": null,
      "metadata": {
        "id": "a848d1f1-ae22-469d-806f-d81c196fa8d5"
      },
      "outputs": [],
      "source": [
        "print('la media es: ',df['2018'].mean())"
      ]
    },
    {
      "cell_type": "code",
      "execution_count": null,
      "metadata": {
        "id": "26e7f1f4-614b-42a2-93fd-bf3f8190383b"
      },
      "outputs": [],
      "source": [
        "print('la moda es: ',df['2018'].mode())"
      ]
    },
    {
      "cell_type": "code",
      "execution_count": null,
      "metadata": {
        "id": "debdb446-a03e-4211-9339-04f972ea9542"
      },
      "outputs": [],
      "source": [
        "print('la mediana es: ',df['2018'].median())"
      ]
    },
    {
      "cell_type": "code",
      "execution_count": null,
      "metadata": {
        "id": "5989d82f-26b8-45f2-96cb-410389a70568"
      },
      "outputs": [],
      "source": [
        "print('el valor mínimo de 2018 es: : ',df['2018'].min())"
      ]
    },
    {
      "cell_type": "code",
      "execution_count": null,
      "metadata": {
        "id": "c81898de-f268-4072-a7f8-d662adbb0f24"
      },
      "outputs": [],
      "source": [
        "print('el valor máximo de 2018 es: : ',df['2018'].max())"
      ]
    },
    {
      "cell_type": "code",
      "execution_count": null,
      "metadata": {
        "id": "e1c47f35-a701-4c5d-9414-dd9fe94ee591"
      },
      "outputs": [],
      "source": [
        "print('el rango de 2018 es: : ',df['2018'].max() - df['2018'].min())"
      ]
    },
    {
      "cell_type": "code",
      "execution_count": null,
      "metadata": {
        "id": "769e539f-da68-4ccc-a497-4ce6202b2d3d"
      },
      "outputs": [],
      "source": [
        "print('la desviación éstandar de 2018 es: : ',df['2018'].std())"
      ]
    },
    {
      "cell_type": "code",
      "execution_count": null,
      "metadata": {
        "id": "ebbe8fa3-7028-41fd-be31-82a396d8ade7"
      },
      "outputs": [],
      "source": [
        "sns.histplot(data = df,x = '2018')\n",
        "plt.axvline(x=df.2018.mean(),color='red',linestyle='dashed',linewidth=2)"
      ]
    },
    {
      "cell_type": "markdown",
      "metadata": {
        "id": "98c1ee40-7000-4dec-a112-37b4858b527f"
      },
      "source": [
        "## 2017\n",
        "type: object"
      ]
    },
    {
      "cell_type": "code",
      "execution_count": null,
      "metadata": {
        "id": "a4f96463-4857-429d-ae64-c9d14f6d1859"
      },
      "outputs": [],
      "source": [
        "df['2017'] = pd.to_numeric(df[f'2017'], errors='coerce')"
      ]
    },
    {
      "cell_type": "code",
      "execution_count": null,
      "metadata": {
        "id": "81991795-250a-4fe4-ac11-4180d266e707"
      },
      "outputs": [],
      "source": [
        "print('la media es: ',df['2017'].mean())"
      ]
    },
    {
      "cell_type": "code",
      "execution_count": null,
      "metadata": {
        "id": "31451152-b0bd-4d6a-af73-ffc060f6454c"
      },
      "outputs": [],
      "source": [
        "print('la moda es: ',df['2017'].mode())"
      ]
    },
    {
      "cell_type": "code",
      "execution_count": null,
      "metadata": {
        "id": "40cde5b3-0992-423f-b0c6-f01194fa269f"
      },
      "outputs": [],
      "source": [
        "print('la mediana es: ',df['2017'].median())"
      ]
    },
    {
      "cell_type": "code",
      "execution_count": null,
      "metadata": {
        "id": "5c3ec3ca-8118-41b6-9085-34063bf7e9e9"
      },
      "outputs": [],
      "source": [
        "print('el valor mínimo de 2017 es: : ',df['2017'].min())"
      ]
    },
    {
      "cell_type": "code",
      "execution_count": null,
      "metadata": {
        "id": "7cd0c5a7-a0c4-4a7b-adc9-7a4df1811c29"
      },
      "outputs": [],
      "source": [
        "print('el valor máximo de 2017 es: : ',df['2017'].max())"
      ]
    },
    {
      "cell_type": "code",
      "execution_count": null,
      "metadata": {
        "id": "ad39fc52-d888-4707-bfda-0af96446a3ab"
      },
      "outputs": [],
      "source": [
        "print('el rango de 2017 es: : ',df['2017'].max() - df['2017'].min())"
      ]
    },
    {
      "cell_type": "code",
      "execution_count": null,
      "metadata": {
        "id": "7c0e0e1a-2b24-4742-8003-d05b010ca9c6"
      },
      "outputs": [],
      "source": [
        "print('la desviación éstandar de 2017 es: : ',df['2017'].std())"
      ]
    },
    {
      "cell_type": "code",
      "execution_count": null,
      "metadata": {
        "id": "94d5a1a2-28f6-4973-bd56-7a51ab0b1626"
      },
      "outputs": [],
      "source": [
        "sns.histplot(data = df,x = '2017')\n",
        "plt.axvline(x=df.2017.mean(),color='red',linestyle='dashed',linewidth=2)"
      ]
    },
    {
      "cell_type": "markdown",
      "metadata": {
        "id": "e831aeea-ac1a-4592-bd0f-c4d656d09fe9"
      },
      "source": [
        "## 2016\n",
        "type: object"
      ]
    },
    {
      "cell_type": "code",
      "execution_count": null,
      "metadata": {
        "id": "53d8cbf2-6bf3-4434-ad2f-18bb235c3c3b"
      },
      "outputs": [],
      "source": [
        "df['2016'] = pd.to_numeric(df[f'2016'], errors='coerce')"
      ]
    },
    {
      "cell_type": "code",
      "execution_count": null,
      "metadata": {
        "id": "dd4f22cd-5aad-4786-bb1b-e1b55b7e8f00"
      },
      "outputs": [],
      "source": [
        "print('la media es: ',df['2016'].mean())"
      ]
    },
    {
      "cell_type": "code",
      "execution_count": null,
      "metadata": {
        "id": "54a2119e-a231-483d-99ea-e3ac68ab5a1f"
      },
      "outputs": [],
      "source": [
        "print('la moda es: ',df['2016'].mode())"
      ]
    },
    {
      "cell_type": "code",
      "execution_count": null,
      "metadata": {
        "id": "1e6d043d-d93e-4097-9d5d-dd9dcef867ad"
      },
      "outputs": [],
      "source": [
        "print('la mediana es: ',df['2016'].median())"
      ]
    },
    {
      "cell_type": "code",
      "execution_count": null,
      "metadata": {
        "id": "ab90ddea-7d59-4173-866c-950a63c7e773"
      },
      "outputs": [],
      "source": [
        "print('el valor mínimo de 2016 es: : ',df['2016'].min())"
      ]
    },
    {
      "cell_type": "code",
      "execution_count": null,
      "metadata": {
        "id": "760c8dd8-f866-4bc0-a132-33bd13ccb9e8"
      },
      "outputs": [],
      "source": [
        "print('el valor máximo de 2016 es: : ',df['2016'].max())"
      ]
    },
    {
      "cell_type": "code",
      "execution_count": null,
      "metadata": {
        "id": "92076cbc-294d-4dce-ba4f-4b8a30c5eea8"
      },
      "outputs": [],
      "source": [
        "print('el rango de 2016 es: : ',df['2016'].max() - df['2016'].min())"
      ]
    },
    {
      "cell_type": "code",
      "execution_count": null,
      "metadata": {
        "id": "41e39f93-5719-4d4b-95f5-b6761b6704b6"
      },
      "outputs": [],
      "source": [
        "print('la desviación éstandar de 2016 es: : ',df['2016'].std())"
      ]
    },
    {
      "cell_type": "code",
      "execution_count": null,
      "metadata": {
        "id": "38c509e3-58d7-4751-807d-1a1e346e50f1"
      },
      "outputs": [],
      "source": [
        "sns.histplot(data = df,x = '2016')\n",
        "plt.axvline(x=df.2016.mean(),color='red',linestyle='dashed',linewidth=2)"
      ]
    },
    {
      "cell_type": "markdown",
      "metadata": {
        "id": "c4508693-4786-4ae2-80f0-e368f3f81654"
      },
      "source": [
        "## 2015\n",
        "type: object"
      ]
    },
    {
      "cell_type": "code",
      "execution_count": null,
      "metadata": {
        "id": "91ba0f87-6fc9-4098-9d8c-55e77d0cc5b5"
      },
      "outputs": [],
      "source": [
        "df['2015'] = pd.to_numeric(df[f'2015'], errors='coerce')"
      ]
    },
    {
      "cell_type": "code",
      "execution_count": null,
      "metadata": {
        "id": "6f169ffb-39d6-4b65-a0a9-5011bc5dbceb"
      },
      "outputs": [],
      "source": [
        "print('la media es: ',df['2015'].mean())"
      ]
    },
    {
      "cell_type": "code",
      "execution_count": null,
      "metadata": {
        "id": "dc984c39-2e01-4a7d-809f-65914d0c55e4"
      },
      "outputs": [],
      "source": [
        "print('la moda es: ',df['2015'].mode())"
      ]
    },
    {
      "cell_type": "code",
      "execution_count": null,
      "metadata": {
        "id": "cc494ff9-c076-4fca-9e6b-fcf9c1713551"
      },
      "outputs": [],
      "source": [
        "print('la mediana es: ',df['2015'].median())"
      ]
    },
    {
      "cell_type": "code",
      "execution_count": null,
      "metadata": {
        "id": "4042ba6c-a1e5-43c4-b2ef-3df3ffc0d881"
      },
      "outputs": [],
      "source": [
        "print('el valor mínimo de 2015 es: : ',df['2015'].min())"
      ]
    },
    {
      "cell_type": "code",
      "execution_count": null,
      "metadata": {
        "id": "6a8b0910-ed3f-458e-8afe-e84782967401"
      },
      "outputs": [],
      "source": [
        "print('el valor máximo de 2015 es: : ',df['2015'].max())"
      ]
    },
    {
      "cell_type": "code",
      "execution_count": null,
      "metadata": {
        "id": "3770b3a8-909c-4c76-945f-b7617c0858b2"
      },
      "outputs": [],
      "source": [
        "print('el rango de 2015 es: : ',df['2015'].max() - df['2015'].min())"
      ]
    },
    {
      "cell_type": "code",
      "execution_count": null,
      "metadata": {
        "id": "ecb71e75-daac-4738-99ba-6053a56cd138"
      },
      "outputs": [],
      "source": [
        "print('la desviación éstandar de 2015 es: : ',df['2015'].std())"
      ]
    },
    {
      "cell_type": "code",
      "execution_count": null,
      "metadata": {
        "id": "b7cbd3c7-d821-42f8-8bae-d0aeb17bb121"
      },
      "outputs": [],
      "source": [
        "sns.histplot(data = df,x = '2015')\n",
        "plt.axvline(x=df.2015.mean(),color='red',linestyle='dashed',linewidth=2)"
      ]
    },
    {
      "cell_type": "markdown",
      "metadata": {
        "id": "dc8949da-b4fe-428f-be8e-af556903515d"
      },
      "source": [
        "## 2014\n",
        "type: object"
      ]
    },
    {
      "cell_type": "code",
      "execution_count": null,
      "metadata": {
        "id": "55c42dd8-ee8f-4d2e-9d0e-c159ca17e3ba"
      },
      "outputs": [],
      "source": [
        "df['2014'] = pd.to_numeric(df[f'2014'], errors='coerce')"
      ]
    },
    {
      "cell_type": "code",
      "execution_count": null,
      "metadata": {
        "id": "8e7daa06-e443-4340-8e0b-cb8ca2cd0a3f"
      },
      "outputs": [],
      "source": [
        "print('la media es: ',df['2014'].mean())"
      ]
    },
    {
      "cell_type": "code",
      "execution_count": null,
      "metadata": {
        "id": "2d6d1588-d1e6-48a1-8347-9a545ebfa7bd"
      },
      "outputs": [],
      "source": [
        "print('la moda es: ',df['2014'].mode())"
      ]
    },
    {
      "cell_type": "code",
      "execution_count": null,
      "metadata": {
        "id": "50099469-dd88-493a-90b1-a328fa43ee21"
      },
      "outputs": [],
      "source": [
        "print('la mediana es: ',df['2014'].median())"
      ]
    },
    {
      "cell_type": "code",
      "execution_count": null,
      "metadata": {
        "id": "b75c100c-ff46-459a-a02e-5e21358319ef"
      },
      "outputs": [],
      "source": [
        "print('el valor mínimo de 2014 es: : ',df['2014'].min())"
      ]
    },
    {
      "cell_type": "code",
      "execution_count": null,
      "metadata": {
        "id": "daedb5be-69f0-4219-85a2-6b55da54750d"
      },
      "outputs": [],
      "source": [
        "print('el valor máximo de 2014 es: : ',df['2014'].max())"
      ]
    },
    {
      "cell_type": "code",
      "execution_count": null,
      "metadata": {
        "id": "5a5d4a1e-f827-4dee-95ad-a627bf710714"
      },
      "outputs": [],
      "source": [
        "print('el rango de 2014 es: : ',df['2014'].max() - df['2014'].min())"
      ]
    },
    {
      "cell_type": "code",
      "execution_count": null,
      "metadata": {
        "id": "9a43c9b5-8867-4bd4-a776-3ae7ab734b2f"
      },
      "outputs": [],
      "source": [
        "print('la desviación éstandar de 2014 es: : ',df['2014'].std())"
      ]
    },
    {
      "cell_type": "code",
      "execution_count": null,
      "metadata": {
        "id": "5c7e2591-ffba-44ab-b8e9-fc7535e4df76"
      },
      "outputs": [],
      "source": [
        "sns.histplot(data = df,x = '2014')\n",
        "plt.axvline(x=df.2014.mean(),color='red',linestyle='dashed',linewidth=2)"
      ]
    },
    {
      "cell_type": "markdown",
      "metadata": {
        "id": "01ef5ad9-c3cc-4d7f-8a77-448771a23ef2"
      },
      "source": [
        "## 2013\n",
        "type: object"
      ]
    },
    {
      "cell_type": "code",
      "execution_count": null,
      "metadata": {
        "id": "899dd334-d014-4901-8502-51f03db05598"
      },
      "outputs": [],
      "source": [
        "df['2013'] = pd.to_numeric(df[f'2013'], errors='coerce')"
      ]
    },
    {
      "cell_type": "code",
      "execution_count": null,
      "metadata": {
        "id": "832766a5-5ad1-4bd0-af19-8b9c1b4eef02"
      },
      "outputs": [],
      "source": [
        "print('la media es: ',df['2013'].mean())"
      ]
    },
    {
      "cell_type": "code",
      "execution_count": null,
      "metadata": {
        "id": "2cb2f953-76f6-44d8-8666-10e360d7bf77"
      },
      "outputs": [],
      "source": [
        "print('la moda es: ',df['2013'].mode())"
      ]
    },
    {
      "cell_type": "code",
      "execution_count": null,
      "metadata": {
        "id": "24e6d0e5-569a-4f35-a6df-ec1df4287c30"
      },
      "outputs": [],
      "source": [
        "print('la mediana es: ',df['2013'].median())"
      ]
    },
    {
      "cell_type": "code",
      "execution_count": null,
      "metadata": {
        "id": "e6f05220-b6ad-432c-b747-968739cf2825"
      },
      "outputs": [],
      "source": [
        "print('el valor mínimo de 2013 es: : ',df['2013'].min())"
      ]
    },
    {
      "cell_type": "code",
      "execution_count": null,
      "metadata": {
        "id": "fe1cf641-0fea-4d8b-bfc2-27389595daa4"
      },
      "outputs": [],
      "source": [
        "print('el valor máximo de 2013 es: : ',df['2013'].max())"
      ]
    },
    {
      "cell_type": "code",
      "execution_count": null,
      "metadata": {
        "id": "030c7634-be71-4006-bb11-3db09c746811"
      },
      "outputs": [],
      "source": [
        "print('el rango de 2013 es: : ',df['2013'].max() - df['2013'].min())"
      ]
    },
    {
      "cell_type": "code",
      "execution_count": null,
      "metadata": {
        "id": "c8e256ba-40f9-4629-b572-709c5cfc569f"
      },
      "outputs": [],
      "source": [
        "print('la desviación éstandar de 2013 es: : ',df['2013'].std())"
      ]
    },
    {
      "cell_type": "code",
      "execution_count": null,
      "metadata": {
        "id": "f2bfd878-5d3a-49bd-83a1-70bff998acb3"
      },
      "outputs": [],
      "source": [
        "sns.histplot(data = df,x = '2013')\n",
        "plt.axvline(x=df.2013.mean(),color='red',linestyle='dashed',linewidth=2)"
      ]
    },
    {
      "cell_type": "markdown",
      "metadata": {
        "id": "2eeef874-9b87-4388-82e9-80c3e7d13301"
      },
      "source": [
        "## 2012_2007\n",
        "type: object"
      ]
    },
    {
      "cell_type": "code",
      "execution_count": null,
      "metadata": {
        "id": "66be3d95-b456-44c4-9903-b935cf4f8e6f"
      },
      "outputs": [],
      "source": [
        "df['2012_2007'] = df['2012_2007'].astype(str)\n",
        "df['2012_2007'] = df['2012_2007'].str.replace('.0','')\n",
        "df['2012_2007'].unique()"
      ]
    },
    {
      "cell_type": "code",
      "execution_count": null,
      "metadata": {
        "id": "f41e0a3d-d156-4a9b-982f-b77960f5813e"
      },
      "outputs": [],
      "source": [
        "df['2012_2007'].value_counts()"
      ]
    },
    {
      "cell_type": "code",
      "execution_count": null,
      "metadata": {
        "id": "72b78dc1-20ad-4951-ba35-f0d7da590df5"
      },
      "outputs": [],
      "source": [
        "plt.figure(figsize=(10,5))\n",
        "df['2012_2007'].value_counts()[:15].plot(kind='pie')"
      ]
    },
    {
      "cell_type": "code",
      "execution_count": null,
      "metadata": {
        "id": "4fdcdf61-42e8-4f9a-8800-ff324f22f257"
      },
      "outputs": [],
      "source": [
        "plt.figure(figsize=(30,5))\n",
        "df['2012_2007'].value_counts()[:15].plot(kind='barh')"
      ]
    },
    {
      "cell_type": "markdown",
      "metadata": {
        "id": "0b4c8bfb-ff09-4d90-87a6-9de4da91671d"
      },
      "source": [
        "# Sweetviz report"
      ]
    },
    {
      "cell_type": "code",
      "execution_count": null,
      "metadata": {
        "id": "3560315e-6032-42ec-8bc6-83c4252d128e"
      },
      "outputs": [],
      "source": [
        "sweet_report = sv.analyze(df)\n",
        "sweet_report.show_html(f'{path_dir}sw_report_financial statements (TSLA).xlsx_cash flow annually.html')"
      ]
    }
  ],
  "metadata": {
    "colab": {
      "provenance": []
    },
    "kernelspec": {
      "display_name": "Python 3",
      "name": "python3"
    },
    "language_info": {
      "name": "python"
    }
  },
  "nbformat": 4,
  "nbformat_minor": 0
}
