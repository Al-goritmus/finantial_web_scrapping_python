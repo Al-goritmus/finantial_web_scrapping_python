{
  "cells": [
    {
      "cell_type": "markdown",
      "metadata": {
        "id": "cfad09b0-37d5-4f80-b317-30ca55462af9"
      },
      "source": [
        "# Import libraries"
      ]
    },
    {
      "cell_type": "code",
      "execution_count": null,
      "metadata": {
        "id": "97fa91a1-1b47-4626-a445-74789e97fec4"
      },
      "outputs": [],
      "source": [
        "pip install sweetviz\n"
      ]
    },
    {
      "cell_type": "code",
      "execution_count": null,
      "metadata": {
        "id": "a2b9feda-f233-481a-93c7-3b8210ad0bb5"
      },
      "outputs": [],
      "source": [
        "import pandas as pd\n",
        "import psycopg2\n",
        "import numpy as np\n",
        "import matplotlib.pyplot     as plt\n",
        "import matplotlib.patches    as mpatches\n",
        "import seaborn               as sns\n",
        "import sweetviz as sv\n",
        "import sklearn.metrics       as Metrics\n",
        "from google.colab import drive\n",
        "from pandas_profiling import ProfileReport\n",
        "%matplotlib inline"
      ]
    },
    {
      "cell_type": "markdown",
      "metadata": {
        "id": "e0980d84-82db-480c-ab73-99c848264e75"
      },
      "source": [
        "# Read file"
      ]
    },
    {
      "cell_type": "code",
      "execution_count": null,
      "metadata": {
        "id": "918404bf-469d-486c-ac3d-245fa6f3617a"
      },
      "outputs": [],
      "source": [
        "drive.mount('/content/drive')\n"
      ]
    },
    {
      "cell_type": "code",
      "execution_count": null,
      "metadata": {
        "id": "25edd46b-ca98-4cbd-84bc-0e2b8ece1d8d"
      },
      "outputs": [],
      "source": [
        "path_dir = '/mnt/f/PythonFinanceProjects/'\n",
        "filename = 'financial statements (TSLA).xlsx'\n",
        "sheet = 'income annually'\n"
      ]
    },
    {
      "cell_type": "code",
      "execution_count": null,
      "metadata": {
        "id": "afeb943b-4647-4d91-bd89-f33d469ac86c"
      },
      "outputs": [],
      "source": [
        "df = pd.read_excel(f'{path_dir}{filename}', sheet_name=sheet, header=0)"
      ]
    },
    {
      "cell_type": "code",
      "execution_count": null,
      "metadata": {
        "id": "6a8a07b9-301f-4b97-ad1e-483cb6442456"
      },
      "outputs": [],
      "source": [
        "df"
      ]
    },
    {
      "cell_type": "markdown",
      "metadata": {
        "id": "c04e81c6-dc24-4477-8475-924e8d75e60c"
      },
      "source": [
        "# Normalize_cols"
      ]
    },
    {
      "cell_type": "code",
      "execution_count": null,
      "metadata": {
        "id": "27a32fdd-ce60-4a8f-99d6-4fbaf30b1fad"
      },
      "outputs": [],
      "source": [
        "def remove_accents_cols(df_cols):\n",
        "    return df_cols.str.replace('ñ','ni').str.normalize('NFKD').str.encode('ascii', errors='ignore').str.decode('utf-8')\n",
        "def remove_special_chars(df_cols):\n",
        "    return df_cols.str.replace(r'[$@&/.:-]',' ', regex=True)\n",
        "def regular_camel_case(snake_str):\n",
        "    components = snake_str.split('_')\n",
        "    return components[0] + ''.join(x.title() for x in components[1:])\n",
        "def regular_snake_case(df_cols):\n",
        "    cols = df_cols.str.replace('ñ','ni')\n",
        "    cols = cols.str.lower().str.replace('/',' ').str.replace('.',' ').str.strip()\n",
        "    cols = cols.str.replace(r'\\s+',' ',regex=True)\n",
        "    cols = cols.str.replace(' ','_')\n",
        "    return cols"
      ]
    },
    {
      "cell_type": "code",
      "execution_count": null,
      "metadata": {
        "id": "c53de5c7-1cff-4c6e-93d7-607975055a36"
      },
      "outputs": [],
      "source": [
        "df.columns = remove_accents_cols(df.columns)\n",
        "df.columns = remove_special_chars(df.columns)\n",
        "df.columns = regular_snake_case(df.columns)"
      ]
    },
    {
      "cell_type": "code",
      "execution_count": null,
      "metadata": {
        "id": "d1fc7076-bb02-40e4-bfc6-c24bf7b292e3"
      },
      "outputs": [],
      "source": [
        "df"
      ]
    },
    {
      "cell_type": "markdown",
      "metadata": {
        "id": "3b1d76f0-5774-41b1-8f0b-90dd45fe926c"
      },
      "source": [
        "# General stats cells"
      ]
    },
    {
      "cell_type": "code",
      "execution_count": null,
      "metadata": {
        "id": "837d3fb5-e598-4cab-a1b4-ac4c865e7dab"
      },
      "outputs": [],
      "source": [
        "df.describe()"
      ]
    },
    {
      "cell_type": "code",
      "execution_count": null,
      "metadata": {
        "id": "d9c502ac-eef9-4101-9205-2c659d498061"
      },
      "outputs": [],
      "source": [
        "df.dtypes\n"
      ]
    },
    {
      "cell_type": "code",
      "execution_count": null,
      "metadata": {
        "id": "8d95de46-effa-492e-939e-885a71bd6ac8"
      },
      "outputs": [],
      "source": [
        "df.info()"
      ]
    },
    {
      "cell_type": "code",
      "execution_count": null,
      "metadata": {
        "id": "3245ab41-f2eb-4d55-8e4d-0cd13c42de48"
      },
      "outputs": [],
      "source": [
        "print('recuento de columnas por tipo: ', df.dtypes.value_counts())\n",
        "print('sumatoria de valores nulos en el dataframe: ', df.isna().sum())"
      ]
    },
    {
      "cell_type": "markdown",
      "metadata": {
        "id": "03bb6e64-3ffe-4d78-b4dd-3631b9deefb8"
      },
      "source": [
        "# General Analyst by columns"
      ]
    },
    {
      "cell_type": "markdown",
      "metadata": {
        "id": "fda8d85a-2f51-42e2-966f-03a0a8b1e22b"
      },
      "source": [
        "## year\n",
        "type: object"
      ]
    },
    {
      "cell_type": "code",
      "execution_count": null,
      "metadata": {
        "id": "d975b3f3-a663-4bfc-958e-610a468bd850"
      },
      "outputs": [],
      "source": [
        "df['year'] = df['year'].astype(str)\n",
        "df['year'] = df['year'].str.replace('.0','')\n",
        "df['year'].unique()"
      ]
    },
    {
      "cell_type": "code",
      "execution_count": null,
      "metadata": {
        "id": "5e111819-69b6-4b72-9f41-e20652f9d081"
      },
      "outputs": [],
      "source": [
        "df['year'].value_counts()"
      ]
    },
    {
      "cell_type": "code",
      "execution_count": null,
      "metadata": {
        "id": "974a888b-a04c-4040-8ddc-a325ece49d4c"
      },
      "outputs": [],
      "source": [
        "plt.figure(figsize=(10,5))\n",
        "df['year'].value_counts()[:15].plot(kind='pie')"
      ]
    },
    {
      "cell_type": "code",
      "execution_count": null,
      "metadata": {
        "id": "463b8d79-0aa1-4f1a-aebf-3ddff1769489"
      },
      "outputs": [],
      "source": [
        "plt.figure(figsize=(30,5))\n",
        "df['year'].value_counts()[:15].plot(kind='barh')"
      ]
    },
    {
      "cell_type": "markdown",
      "metadata": {
        "id": "e292e71a-8d61-48d2-bae9-52f44a121dc3"
      },
      "source": [
        "## 2022\n",
        "type: object"
      ]
    },
    {
      "cell_type": "code",
      "execution_count": null,
      "metadata": {
        "id": "1c768e0e-125e-4b33-a848-a73c28aa09db"
      },
      "outputs": [],
      "source": [
        "df['2022'] = pd.to_numeric(df[f'2022'], errors='coerce')"
      ]
    },
    {
      "cell_type": "code",
      "execution_count": null,
      "metadata": {
        "id": "b727bbf6-8cc9-46cf-b4f5-dee97463d9b0"
      },
      "outputs": [],
      "source": [
        "print('la media es: ',df['2022'].mean())"
      ]
    },
    {
      "cell_type": "code",
      "execution_count": null,
      "metadata": {
        "id": "fc95317c-6979-4da8-b2e9-97bc059a848d"
      },
      "outputs": [],
      "source": [
        "print('la moda es: ',df['2022'].mode())"
      ]
    },
    {
      "cell_type": "code",
      "execution_count": null,
      "metadata": {
        "id": "16419131-cf76-4807-9db3-5099af0389dd"
      },
      "outputs": [],
      "source": [
        "print('la mediana es: ',df['2022'].median())"
      ]
    },
    {
      "cell_type": "code",
      "execution_count": null,
      "metadata": {
        "id": "f1918402-f228-4a40-b7bd-3fc4a6f73583"
      },
      "outputs": [],
      "source": [
        "print('el valor mínimo de 2022 es: : ',df['2022'].min())"
      ]
    },
    {
      "cell_type": "code",
      "execution_count": null,
      "metadata": {
        "id": "919f3e82-f920-450d-ab2a-bd90082850b8"
      },
      "outputs": [],
      "source": [
        "print('el valor máximo de 2022 es: : ',df['2022'].max())"
      ]
    },
    {
      "cell_type": "code",
      "execution_count": null,
      "metadata": {
        "id": "4b04f641-e013-4d8b-ab73-2cfa2eb676ef"
      },
      "outputs": [],
      "source": [
        "print('el rango de 2022 es: : ',df['2022'].max() - df['2022'].min())"
      ]
    },
    {
      "cell_type": "code",
      "execution_count": null,
      "metadata": {
        "id": "5d45f207-8b6a-430a-a8e0-600722adb5c9"
      },
      "outputs": [],
      "source": [
        "print('la desviación éstandar de 2022 es: : ',df['2022'].std())"
      ]
    },
    {
      "cell_type": "code",
      "execution_count": null,
      "metadata": {
        "id": "5c718f7e-45b3-473e-8216-7ba5eb3ddb16"
      },
      "outputs": [],
      "source": [
        "sns.histplot(data = df,x = '2022')\n",
        "plt.axvline(x=df.2022.mean(),color='red',linestyle='dashed',linewidth=2)"
      ]
    },
    {
      "cell_type": "markdown",
      "metadata": {
        "id": "40aaa763-0201-42f5-a782-b424cb72a9bf"
      },
      "source": [
        "## 2021\n",
        "type: object"
      ]
    },
    {
      "cell_type": "code",
      "execution_count": null,
      "metadata": {
        "id": "cb2da95b-cc32-46e5-ac24-b1d29c952414"
      },
      "outputs": [],
      "source": [
        "df['2021'] = pd.to_numeric(df[f'2021'], errors='coerce')"
      ]
    },
    {
      "cell_type": "code",
      "execution_count": null,
      "metadata": {
        "id": "913ded46-720e-4083-9ed9-c3c6df8c4e3e"
      },
      "outputs": [],
      "source": [
        "print('la media es: ',df['2021'].mean())"
      ]
    },
    {
      "cell_type": "code",
      "execution_count": null,
      "metadata": {
        "id": "312751d1-2758-4e7c-8de9-a98d01debd57"
      },
      "outputs": [],
      "source": [
        "print('la moda es: ',df['2021'].mode())"
      ]
    },
    {
      "cell_type": "code",
      "execution_count": null,
      "metadata": {
        "id": "30eac644-5075-417c-ab63-95c6b817ada4"
      },
      "outputs": [],
      "source": [
        "print('la mediana es: ',df['2021'].median())"
      ]
    },
    {
      "cell_type": "code",
      "execution_count": null,
      "metadata": {
        "id": "fe2998d8-4778-4881-b608-b8d37d5f1852"
      },
      "outputs": [],
      "source": [
        "print('el valor mínimo de 2021 es: : ',df['2021'].min())"
      ]
    },
    {
      "cell_type": "code",
      "execution_count": null,
      "metadata": {
        "id": "93010fd2-741c-49bb-b75b-b51bff77f47e"
      },
      "outputs": [],
      "source": [
        "print('el valor máximo de 2021 es: : ',df['2021'].max())"
      ]
    },
    {
      "cell_type": "code",
      "execution_count": null,
      "metadata": {
        "id": "8d625d4d-03d1-4d23-b3dd-56a9812113b1"
      },
      "outputs": [],
      "source": [
        "print('el rango de 2021 es: : ',df['2021'].max() - df['2021'].min())"
      ]
    },
    {
      "cell_type": "code",
      "execution_count": null,
      "metadata": {
        "id": "57f95b86-d2b8-448e-874e-c53c3e4d336d"
      },
      "outputs": [],
      "source": [
        "print('la desviación éstandar de 2021 es: : ',df['2021'].std())"
      ]
    },
    {
      "cell_type": "code",
      "execution_count": null,
      "metadata": {
        "id": "e1f4ff3d-c894-4c94-8d76-1e8e8e44b032"
      },
      "outputs": [],
      "source": [
        "sns.histplot(data = df,x = '2021')\n",
        "plt.axvline(x=df.2021.mean(),color='red',linestyle='dashed',linewidth=2)"
      ]
    },
    {
      "cell_type": "markdown",
      "metadata": {
        "id": "2d2b89c2-0a59-4985-9483-cc35c911a931"
      },
      "source": [
        "## 2020\n",
        "type: object"
      ]
    },
    {
      "cell_type": "code",
      "execution_count": null,
      "metadata": {
        "id": "e4415a65-ce08-4bd5-a6b3-1fb14c9271d7"
      },
      "outputs": [],
      "source": [
        "df['2020'] = pd.to_numeric(df[f'2020'], errors='coerce')"
      ]
    },
    {
      "cell_type": "code",
      "execution_count": null,
      "metadata": {
        "id": "9f3db33d-89bd-4657-8520-1b9732409343"
      },
      "outputs": [],
      "source": [
        "print('la media es: ',df['2020'].mean())"
      ]
    },
    {
      "cell_type": "code",
      "execution_count": null,
      "metadata": {
        "id": "b335f121-dcf3-413d-96c4-dfb1c20cb667"
      },
      "outputs": [],
      "source": [
        "print('la moda es: ',df['2020'].mode())"
      ]
    },
    {
      "cell_type": "code",
      "execution_count": null,
      "metadata": {
        "id": "82ec03df-986a-4a38-8162-608aaa73c9bc"
      },
      "outputs": [],
      "source": [
        "print('la mediana es: ',df['2020'].median())"
      ]
    },
    {
      "cell_type": "code",
      "execution_count": null,
      "metadata": {
        "id": "623edbc9-63a6-4ce9-9b66-ae88319dcb83"
      },
      "outputs": [],
      "source": [
        "print('el valor mínimo de 2020 es: : ',df['2020'].min())"
      ]
    },
    {
      "cell_type": "code",
      "execution_count": null,
      "metadata": {
        "id": "5e9be0c8-c9d7-48b4-a2bd-1ededeafe33c"
      },
      "outputs": [],
      "source": [
        "print('el valor máximo de 2020 es: : ',df['2020'].max())"
      ]
    },
    {
      "cell_type": "code",
      "execution_count": null,
      "metadata": {
        "id": "6c6f9a67-2d9b-48aa-8893-24276b8c78e0"
      },
      "outputs": [],
      "source": [
        "print('el rango de 2020 es: : ',df['2020'].max() - df['2020'].min())"
      ]
    },
    {
      "cell_type": "code",
      "execution_count": null,
      "metadata": {
        "id": "83cd5fc1-b31b-4926-88bc-efb868337007"
      },
      "outputs": [],
      "source": [
        "print('la desviación éstandar de 2020 es: : ',df['2020'].std())"
      ]
    },
    {
      "cell_type": "code",
      "execution_count": null,
      "metadata": {
        "id": "bcd28e47-a979-44ee-9d86-7e91c027e6d1"
      },
      "outputs": [],
      "source": [
        "sns.histplot(data = df,x = '2020')\n",
        "plt.axvline(x=df.2020.mean(),color='red',linestyle='dashed',linewidth=2)"
      ]
    },
    {
      "cell_type": "markdown",
      "metadata": {
        "id": "3eb5ab49-cbcc-45fd-9f39-98d45fe801e6"
      },
      "source": [
        "## 2019\n",
        "type: object"
      ]
    },
    {
      "cell_type": "code",
      "execution_count": null,
      "metadata": {
        "id": "6dd15ed3-7644-48e7-946b-02c575040808"
      },
      "outputs": [],
      "source": [
        "df['2019'] = pd.to_numeric(df[f'2019'], errors='coerce')"
      ]
    },
    {
      "cell_type": "code",
      "execution_count": null,
      "metadata": {
        "id": "bd87fe4d-f88c-4209-b13e-85e109dafef0"
      },
      "outputs": [],
      "source": [
        "print('la media es: ',df['2019'].mean())"
      ]
    },
    {
      "cell_type": "code",
      "execution_count": null,
      "metadata": {
        "id": "974032dc-a2c5-4188-8a6d-d8a8fb490ac5"
      },
      "outputs": [],
      "source": [
        "print('la moda es: ',df['2019'].mode())"
      ]
    },
    {
      "cell_type": "code",
      "execution_count": null,
      "metadata": {
        "id": "af629338-ef8b-440c-b146-0aed37bb9a1e"
      },
      "outputs": [],
      "source": [
        "print('la mediana es: ',df['2019'].median())"
      ]
    },
    {
      "cell_type": "code",
      "execution_count": null,
      "metadata": {
        "id": "d9ca5166-ab37-4cef-b8d1-6504665d5e5a"
      },
      "outputs": [],
      "source": [
        "print('el valor mínimo de 2019 es: : ',df['2019'].min())"
      ]
    },
    {
      "cell_type": "code",
      "execution_count": null,
      "metadata": {
        "id": "745aa99c-0dc7-432c-a312-134de7433300"
      },
      "outputs": [],
      "source": [
        "print('el valor máximo de 2019 es: : ',df['2019'].max())"
      ]
    },
    {
      "cell_type": "code",
      "execution_count": null,
      "metadata": {
        "id": "7130a8dd-0c06-41b4-bce5-495d787fa2f6"
      },
      "outputs": [],
      "source": [
        "print('el rango de 2019 es: : ',df['2019'].max() - df['2019'].min())"
      ]
    },
    {
      "cell_type": "code",
      "execution_count": null,
      "metadata": {
        "id": "437dc8bc-e956-46c5-8a9e-b544ef224c54"
      },
      "outputs": [],
      "source": [
        "print('la desviación éstandar de 2019 es: : ',df['2019'].std())"
      ]
    },
    {
      "cell_type": "code",
      "execution_count": null,
      "metadata": {
        "id": "353c5d06-3348-47dc-af29-74c99ffe1f94"
      },
      "outputs": [],
      "source": [
        "sns.histplot(data = df,x = '2019')\n",
        "plt.axvline(x=df.2019.mean(),color='red',linestyle='dashed',linewidth=2)"
      ]
    },
    {
      "cell_type": "markdown",
      "metadata": {
        "id": "c0a62c69-4255-43a0-9215-529cbed793dc"
      },
      "source": [
        "## 2018\n",
        "type: object"
      ]
    },
    {
      "cell_type": "code",
      "execution_count": null,
      "metadata": {
        "id": "1f32d18a-6011-4217-8822-3b0ae7882d71"
      },
      "outputs": [],
      "source": [
        "df['2018'] = pd.to_numeric(df[f'2018'], errors='coerce')"
      ]
    },
    {
      "cell_type": "code",
      "execution_count": null,
      "metadata": {
        "id": "74d6e5e2-1b97-4dd2-9346-0a5e817d97f4"
      },
      "outputs": [],
      "source": [
        "print('la media es: ',df['2018'].mean())"
      ]
    },
    {
      "cell_type": "code",
      "execution_count": null,
      "metadata": {
        "id": "3bac44ce-6a69-4e95-8828-e8477b6bf9e0"
      },
      "outputs": [],
      "source": [
        "print('la moda es: ',df['2018'].mode())"
      ]
    },
    {
      "cell_type": "code",
      "execution_count": null,
      "metadata": {
        "id": "757ab087-3f36-4cd1-9054-489e14d16e3a"
      },
      "outputs": [],
      "source": [
        "print('la mediana es: ',df['2018'].median())"
      ]
    },
    {
      "cell_type": "code",
      "execution_count": null,
      "metadata": {
        "id": "7e0e060d-5d2b-4832-85b6-5735b13171f5"
      },
      "outputs": [],
      "source": [
        "print('el valor mínimo de 2018 es: : ',df['2018'].min())"
      ]
    },
    {
      "cell_type": "code",
      "execution_count": null,
      "metadata": {
        "id": "7fed6559-d9e6-47d9-afed-90a72943d75e"
      },
      "outputs": [],
      "source": [
        "print('el valor máximo de 2018 es: : ',df['2018'].max())"
      ]
    },
    {
      "cell_type": "code",
      "execution_count": null,
      "metadata": {
        "id": "5dae295c-1ee6-4d81-ac34-48b50b6bdf11"
      },
      "outputs": [],
      "source": [
        "print('el rango de 2018 es: : ',df['2018'].max() - df['2018'].min())"
      ]
    },
    {
      "cell_type": "code",
      "execution_count": null,
      "metadata": {
        "id": "23d28f79-23ff-4875-9b77-6308166f58f8"
      },
      "outputs": [],
      "source": [
        "print('la desviación éstandar de 2018 es: : ',df['2018'].std())"
      ]
    },
    {
      "cell_type": "code",
      "execution_count": null,
      "metadata": {
        "id": "c69201c7-73f3-48f7-b275-58ee1f783dcb"
      },
      "outputs": [],
      "source": [
        "sns.histplot(data = df,x = '2018')\n",
        "plt.axvline(x=df.2018.mean(),color='red',linestyle='dashed',linewidth=2)"
      ]
    },
    {
      "cell_type": "markdown",
      "metadata": {
        "id": "9dd207e0-359d-407d-a9ef-a70b26c19d26"
      },
      "source": [
        "## 2017\n",
        "type: object"
      ]
    },
    {
      "cell_type": "code",
      "execution_count": null,
      "metadata": {
        "id": "fcb2831b-96fe-4c37-bc51-cbc1a5cdeb31"
      },
      "outputs": [],
      "source": [
        "df['2017'] = pd.to_numeric(df[f'2017'], errors='coerce')"
      ]
    },
    {
      "cell_type": "code",
      "execution_count": null,
      "metadata": {
        "id": "5a8e0ba2-0754-4601-b862-37d0eb950d82"
      },
      "outputs": [],
      "source": [
        "print('la media es: ',df['2017'].mean())"
      ]
    },
    {
      "cell_type": "code",
      "execution_count": null,
      "metadata": {
        "id": "c3a0aa19-ca32-4245-a287-348d0be309e5"
      },
      "outputs": [],
      "source": [
        "print('la moda es: ',df['2017'].mode())"
      ]
    },
    {
      "cell_type": "code",
      "execution_count": null,
      "metadata": {
        "id": "16d65c05-85dc-4533-ac91-59273e42c12d"
      },
      "outputs": [],
      "source": [
        "print('la mediana es: ',df['2017'].median())"
      ]
    },
    {
      "cell_type": "code",
      "execution_count": null,
      "metadata": {
        "id": "7d37109d-6192-4ab5-9778-117f656f96a9"
      },
      "outputs": [],
      "source": [
        "print('el valor mínimo de 2017 es: : ',df['2017'].min())"
      ]
    },
    {
      "cell_type": "code",
      "execution_count": null,
      "metadata": {
        "id": "6ae3ea60-2669-4f36-b750-363ab2371b33"
      },
      "outputs": [],
      "source": [
        "print('el valor máximo de 2017 es: : ',df['2017'].max())"
      ]
    },
    {
      "cell_type": "code",
      "execution_count": null,
      "metadata": {
        "id": "157d7db2-15f6-494d-b498-abf5c2ec16ad"
      },
      "outputs": [],
      "source": [
        "print('el rango de 2017 es: : ',df['2017'].max() - df['2017'].min())"
      ]
    },
    {
      "cell_type": "code",
      "execution_count": null,
      "metadata": {
        "id": "ceacd9f2-622a-4b6f-8873-07f8c27d9e31"
      },
      "outputs": [],
      "source": [
        "print('la desviación éstandar de 2017 es: : ',df['2017'].std())"
      ]
    },
    {
      "cell_type": "code",
      "execution_count": null,
      "metadata": {
        "id": "2660a4a5-ada3-4a32-9d49-4f68d49a5830"
      },
      "outputs": [],
      "source": [
        "sns.histplot(data = df,x = '2017')\n",
        "plt.axvline(x=df.2017.mean(),color='red',linestyle='dashed',linewidth=2)"
      ]
    },
    {
      "cell_type": "markdown",
      "metadata": {
        "id": "92b46133-ed37-482f-b918-b5235a27aa80"
      },
      "source": [
        "## 2016\n",
        "type: object"
      ]
    },
    {
      "cell_type": "code",
      "execution_count": null,
      "metadata": {
        "id": "e453c6bd-b5c1-46ea-86d0-f42ae3b3f6ba"
      },
      "outputs": [],
      "source": [
        "df['2016'] = pd.to_numeric(df[f'2016'], errors='coerce')"
      ]
    },
    {
      "cell_type": "code",
      "execution_count": null,
      "metadata": {
        "id": "babd4347-6e8f-4997-acf6-065909f6549c"
      },
      "outputs": [],
      "source": [
        "print('la media es: ',df['2016'].mean())"
      ]
    },
    {
      "cell_type": "code",
      "execution_count": null,
      "metadata": {
        "id": "13223bfa-9602-4528-b731-0e670df9901b"
      },
      "outputs": [],
      "source": [
        "print('la moda es: ',df['2016'].mode())"
      ]
    },
    {
      "cell_type": "code",
      "execution_count": null,
      "metadata": {
        "id": "cc3c9f2f-0499-46aa-ad2a-741a7b6d91f5"
      },
      "outputs": [],
      "source": [
        "print('la mediana es: ',df['2016'].median())"
      ]
    },
    {
      "cell_type": "code",
      "execution_count": null,
      "metadata": {
        "id": "411d82ba-0be4-468e-ab57-46d99584cdec"
      },
      "outputs": [],
      "source": [
        "print('el valor mínimo de 2016 es: : ',df['2016'].min())"
      ]
    },
    {
      "cell_type": "code",
      "execution_count": null,
      "metadata": {
        "id": "93eef1ab-2b59-4af5-b865-6e4e6df6906b"
      },
      "outputs": [],
      "source": [
        "print('el valor máximo de 2016 es: : ',df['2016'].max())"
      ]
    },
    {
      "cell_type": "code",
      "execution_count": null,
      "metadata": {
        "id": "45ccf58e-0188-4766-a082-c9a20a36499e"
      },
      "outputs": [],
      "source": [
        "print('el rango de 2016 es: : ',df['2016'].max() - df['2016'].min())"
      ]
    },
    {
      "cell_type": "code",
      "execution_count": null,
      "metadata": {
        "id": "0b3fc5d5-5e05-4523-ae58-2d05d678a06c"
      },
      "outputs": [],
      "source": [
        "print('la desviación éstandar de 2016 es: : ',df['2016'].std())"
      ]
    },
    {
      "cell_type": "code",
      "execution_count": null,
      "metadata": {
        "id": "9275a067-ef30-4cbc-89d5-e749e8ef1f41"
      },
      "outputs": [],
      "source": [
        "sns.histplot(data = df,x = '2016')\n",
        "plt.axvline(x=df.2016.mean(),color='red',linestyle='dashed',linewidth=2)"
      ]
    },
    {
      "cell_type": "markdown",
      "metadata": {
        "id": "a38e89ed-7580-41f6-9b09-423600cc3c67"
      },
      "source": [
        "## 2015\n",
        "type: object"
      ]
    },
    {
      "cell_type": "code",
      "execution_count": null,
      "metadata": {
        "id": "491a1208-4f1a-47aa-9d5c-0e6350a8caf4"
      },
      "outputs": [],
      "source": [
        "df['2015'] = pd.to_numeric(df[f'2015'], errors='coerce')"
      ]
    },
    {
      "cell_type": "code",
      "execution_count": null,
      "metadata": {
        "id": "d304dee8-a1f1-4326-ab57-205ec2a03c93"
      },
      "outputs": [],
      "source": [
        "print('la media es: ',df['2015'].mean())"
      ]
    },
    {
      "cell_type": "code",
      "execution_count": null,
      "metadata": {
        "id": "2ed87b28-51ec-4b26-ba16-a6726d1ed140"
      },
      "outputs": [],
      "source": [
        "print('la moda es: ',df['2015'].mode())"
      ]
    },
    {
      "cell_type": "code",
      "execution_count": null,
      "metadata": {
        "id": "2970ad92-ea86-4f3e-b86a-4166fc3ed44a"
      },
      "outputs": [],
      "source": [
        "print('la mediana es: ',df['2015'].median())"
      ]
    },
    {
      "cell_type": "code",
      "execution_count": null,
      "metadata": {
        "id": "62c86514-c751-4a40-bdf3-7b9835dc0421"
      },
      "outputs": [],
      "source": [
        "print('el valor mínimo de 2015 es: : ',df['2015'].min())"
      ]
    },
    {
      "cell_type": "code",
      "execution_count": null,
      "metadata": {
        "id": "0242595a-9e89-4dbd-84a7-c0901352023a"
      },
      "outputs": [],
      "source": [
        "print('el valor máximo de 2015 es: : ',df['2015'].max())"
      ]
    },
    {
      "cell_type": "code",
      "execution_count": null,
      "metadata": {
        "id": "a8f7cde2-cb59-42f0-ae05-0f98ea8f481f"
      },
      "outputs": [],
      "source": [
        "print('el rango de 2015 es: : ',df['2015'].max() - df['2015'].min())"
      ]
    },
    {
      "cell_type": "code",
      "execution_count": null,
      "metadata": {
        "id": "92dbc870-6574-4ae7-880b-c4378b60dbb7"
      },
      "outputs": [],
      "source": [
        "print('la desviación éstandar de 2015 es: : ',df['2015'].std())"
      ]
    },
    {
      "cell_type": "code",
      "execution_count": null,
      "metadata": {
        "id": "432c8540-e35a-43c5-8009-25a3bbe74060"
      },
      "outputs": [],
      "source": [
        "sns.histplot(data = df,x = '2015')\n",
        "plt.axvline(x=df.2015.mean(),color='red',linestyle='dashed',linewidth=2)"
      ]
    },
    {
      "cell_type": "markdown",
      "metadata": {
        "id": "462d03cd-726f-44ba-bb33-273d4611135a"
      },
      "source": [
        "## 2014\n",
        "type: object"
      ]
    },
    {
      "cell_type": "code",
      "execution_count": null,
      "metadata": {
        "id": "01c3e3a5-178a-4e32-a438-7b835b1c3767"
      },
      "outputs": [],
      "source": [
        "df['2014'] = pd.to_numeric(df[f'2014'], errors='coerce')"
      ]
    },
    {
      "cell_type": "code",
      "execution_count": null,
      "metadata": {
        "id": "cd378797-6b45-47b7-8a72-a65fe25a5209"
      },
      "outputs": [],
      "source": [
        "print('la media es: ',df['2014'].mean())"
      ]
    },
    {
      "cell_type": "code",
      "execution_count": null,
      "metadata": {
        "id": "3cfadae2-ac19-4be5-b2b2-d449ffe44489"
      },
      "outputs": [],
      "source": [
        "print('la moda es: ',df['2014'].mode())"
      ]
    },
    {
      "cell_type": "code",
      "execution_count": null,
      "metadata": {
        "id": "17c843bb-1f88-48f0-bacd-6a35168c0755"
      },
      "outputs": [],
      "source": [
        "print('la mediana es: ',df['2014'].median())"
      ]
    },
    {
      "cell_type": "code",
      "execution_count": null,
      "metadata": {
        "id": "45e2050a-7d80-478d-b520-27da30fce064"
      },
      "outputs": [],
      "source": [
        "print('el valor mínimo de 2014 es: : ',df['2014'].min())"
      ]
    },
    {
      "cell_type": "code",
      "execution_count": null,
      "metadata": {
        "id": "9e1c2758-874d-4bf7-a8d7-4e3c35a96ffa"
      },
      "outputs": [],
      "source": [
        "print('el valor máximo de 2014 es: : ',df['2014'].max())"
      ]
    },
    {
      "cell_type": "code",
      "execution_count": null,
      "metadata": {
        "id": "18ed8396-6d67-4851-9db9-8e170301058d"
      },
      "outputs": [],
      "source": [
        "print('el rango de 2014 es: : ',df['2014'].max() - df['2014'].min())"
      ]
    },
    {
      "cell_type": "code",
      "execution_count": null,
      "metadata": {
        "id": "2b5e1697-14f2-4e29-9017-8afd0b19a045"
      },
      "outputs": [],
      "source": [
        "print('la desviación éstandar de 2014 es: : ',df['2014'].std())"
      ]
    },
    {
      "cell_type": "code",
      "execution_count": null,
      "metadata": {
        "id": "c5941720-582f-4740-90b9-86a83f9a3b7a"
      },
      "outputs": [],
      "source": [
        "sns.histplot(data = df,x = '2014')\n",
        "plt.axvline(x=df.2014.mean(),color='red',linestyle='dashed',linewidth=2)"
      ]
    },
    {
      "cell_type": "markdown",
      "metadata": {
        "id": "898c646d-7267-467e-ae5f-580f1b624598"
      },
      "source": [
        "## 2013\n",
        "type: object"
      ]
    },
    {
      "cell_type": "code",
      "execution_count": null,
      "metadata": {
        "id": "abbdc21a-3b85-4fb4-950a-5ccd86df29e4"
      },
      "outputs": [],
      "source": [
        "df['2013'] = pd.to_numeric(df[f'2013'], errors='coerce')"
      ]
    },
    {
      "cell_type": "code",
      "execution_count": null,
      "metadata": {
        "id": "d3b05163-f16b-4156-b0ce-30346c30325c"
      },
      "outputs": [],
      "source": [
        "print('la media es: ',df['2013'].mean())"
      ]
    },
    {
      "cell_type": "code",
      "execution_count": null,
      "metadata": {
        "id": "a7492029-31e3-4f7a-84e9-5559b98dab6c"
      },
      "outputs": [],
      "source": [
        "print('la moda es: ',df['2013'].mode())"
      ]
    },
    {
      "cell_type": "code",
      "execution_count": null,
      "metadata": {
        "id": "fc11ed35-282f-4b65-a1d7-9d4234d8f9c4"
      },
      "outputs": [],
      "source": [
        "print('la mediana es: ',df['2013'].median())"
      ]
    },
    {
      "cell_type": "code",
      "execution_count": null,
      "metadata": {
        "id": "7567af11-ff80-4080-89e6-734dcac62e16"
      },
      "outputs": [],
      "source": [
        "print('el valor mínimo de 2013 es: : ',df['2013'].min())"
      ]
    },
    {
      "cell_type": "code",
      "execution_count": null,
      "metadata": {
        "id": "715643dd-649a-471c-9cb7-6ad71b882697"
      },
      "outputs": [],
      "source": [
        "print('el valor máximo de 2013 es: : ',df['2013'].max())"
      ]
    },
    {
      "cell_type": "code",
      "execution_count": null,
      "metadata": {
        "id": "8093545f-e876-4f36-9755-6c92622fdc61"
      },
      "outputs": [],
      "source": [
        "print('el rango de 2013 es: : ',df['2013'].max() - df['2013'].min())"
      ]
    },
    {
      "cell_type": "code",
      "execution_count": null,
      "metadata": {
        "id": "e89907e9-e093-44aa-ba4f-14754e26472b"
      },
      "outputs": [],
      "source": [
        "print('la desviación éstandar de 2013 es: : ',df['2013'].std())"
      ]
    },
    {
      "cell_type": "code",
      "execution_count": null,
      "metadata": {
        "id": "58b20e22-7144-4767-bba0-b540886e1d16"
      },
      "outputs": [],
      "source": [
        "sns.histplot(data = df,x = '2013')\n",
        "plt.axvline(x=df.2013.mean(),color='red',linestyle='dashed',linewidth=2)"
      ]
    },
    {
      "cell_type": "markdown",
      "metadata": {
        "id": "55c8dc39-7fc5-4eb1-aec3-0a041bef9217"
      },
      "source": [
        "## 2012_2007\n",
        "type: object"
      ]
    },
    {
      "cell_type": "code",
      "execution_count": null,
      "metadata": {
        "id": "579d73a3-2547-4f88-b5cc-e18881604aad"
      },
      "outputs": [],
      "source": [
        "df['2012_2007'] = df['2012_2007'].astype(str)\n",
        "df['2012_2007'] = df['2012_2007'].str.replace('.0','')\n",
        "df['2012_2007'].unique()"
      ]
    },
    {
      "cell_type": "code",
      "execution_count": null,
      "metadata": {
        "id": "07897b6d-81d1-4a39-82a9-a8ab916c42b5"
      },
      "outputs": [],
      "source": [
        "df['2012_2007'].value_counts()"
      ]
    },
    {
      "cell_type": "code",
      "execution_count": null,
      "metadata": {
        "id": "85f2ccb4-52dd-44cf-ae52-3d80a66ce23e"
      },
      "outputs": [],
      "source": [
        "plt.figure(figsize=(10,5))\n",
        "df['2012_2007'].value_counts()[:15].plot(kind='pie')"
      ]
    },
    {
      "cell_type": "code",
      "execution_count": null,
      "metadata": {
        "id": "0b5ca3c3-1717-4dac-8ecb-9ccf300d3c1f"
      },
      "outputs": [],
      "source": [
        "plt.figure(figsize=(30,5))\n",
        "df['2012_2007'].value_counts()[:15].plot(kind='barh')"
      ]
    },
    {
      "cell_type": "markdown",
      "metadata": {
        "id": "e463f2bc-d45b-42cb-8981-653ce8d4f455"
      },
      "source": [
        "# Sweetviz report"
      ]
    },
    {
      "cell_type": "code",
      "execution_count": null,
      "metadata": {
        "id": "039fa71f-019f-4e23-a3be-46328814f725"
      },
      "outputs": [],
      "source": [
        "sweet_report = sv.analyze(df)\n",
        "sweet_report.show_html(f'{path_dir}sw_report_financial statements (TSLA).xlsx_income annually.html')"
      ]
    }
  ],
  "metadata": {
    "colab": {
      "provenance": []
    },
    "kernelspec": {
      "display_name": "Python 3",
      "name": "python3"
    },
    "language_info": {
      "name": "python"
    }
  },
  "nbformat": 4,
  "nbformat_minor": 0
}
