{
  "cells": [
    {
      "cell_type": "markdown",
      "metadata": {
        "id": "436efe76-966b-423e-80e3-910285682416"
      },
      "source": [
        "# Import libraries"
      ]
    },
    {
      "cell_type": "code",
      "execution_count": null,
      "metadata": {
        "id": "5bb5c430-6914-4877-87ee-60ebd61ca47f"
      },
      "outputs": [],
      "source": [
        "pip install sweetviz\n"
      ]
    },
    {
      "cell_type": "code",
      "execution_count": null,
      "metadata": {
        "id": "affd02be-6a33-4d66-b732-234a98a078c2"
      },
      "outputs": [],
      "source": [
        "import pandas as pd\n",
        "import psycopg2\n",
        "import numpy as np\n",
        "import matplotlib.pyplot     as plt\n",
        "import matplotlib.patches    as mpatches\n",
        "import seaborn               as sns\n",
        "import sweetviz as sv\n",
        "import sklearn.metrics       as Metrics\n",
        "from google.colab import drive\n",
        "from pandas_profiling import ProfileReport\n",
        "%matplotlib inline"
      ]
    },
    {
      "cell_type": "markdown",
      "metadata": {
        "id": "6a91bff9-2af6-4754-9332-96554d20741d"
      },
      "source": [
        "# Read file"
      ]
    },
    {
      "cell_type": "code",
      "execution_count": null,
      "metadata": {
        "id": "e4f6fb38-cb6c-447d-aad1-dcd81e51c095"
      },
      "outputs": [],
      "source": [
        "drive.mount('/content/drive')\n"
      ]
    },
    {
      "cell_type": "code",
      "execution_count": null,
      "metadata": {
        "id": "80a1e5c5-577c-43fa-919f-b640f415d252"
      },
      "outputs": [],
      "source": [
        "path_dir = '/mnt/f/PythonFinanceProjects/'\n",
        "filename = 'financial statements (TSLA).xlsx'\n",
        "sheet = 'income quarterly'\n"
      ]
    },
    {
      "cell_type": "code",
      "execution_count": null,
      "metadata": {
        "id": "9547b718-ee8a-41ec-842b-a3f652f2e238"
      },
      "outputs": [],
      "source": [
        "df = pd.read_excel(f'{path_dir}{filename}', sheet_name=sheet, header=0)"
      ]
    },
    {
      "cell_type": "code",
      "execution_count": null,
      "metadata": {
        "id": "f9584163-9457-48d3-bd8b-7fbaf751f441"
      },
      "outputs": [],
      "source": [
        "df"
      ]
    },
    {
      "cell_type": "markdown",
      "metadata": {
        "id": "5af2b475-3462-441d-8b17-bd152c222e50"
      },
      "source": [
        "# Normalize_cols"
      ]
    },
    {
      "cell_type": "code",
      "execution_count": null,
      "metadata": {
        "id": "8dac98ac-38bb-429a-a6ca-57381646e731"
      },
      "outputs": [],
      "source": [
        "def remove_accents_cols(df_cols):\n",
        "    return df_cols.str.replace('ñ','ni').str.normalize('NFKD').str.encode('ascii', errors='ignore').str.decode('utf-8')\n",
        "def remove_special_chars(df_cols):\n",
        "    return df_cols.str.replace(r'[$@&/.:-]',' ', regex=True)\n",
        "def regular_camel_case(snake_str):\n",
        "    components = snake_str.split('_')\n",
        "    return components[0] + ''.join(x.title() for x in components[1:])\n",
        "def regular_snake_case(df_cols):\n",
        "    cols = df_cols.str.replace('ñ','ni')\n",
        "    cols = cols.str.lower().str.replace('/',' ').str.replace('.',' ').str.strip()\n",
        "    cols = cols.str.replace(r'\\s+',' ',regex=True)\n",
        "    cols = cols.str.replace(' ','_')\n",
        "    return cols"
      ]
    },
    {
      "cell_type": "code",
      "execution_count": null,
      "metadata": {
        "id": "80fc3cfa-b080-4a6d-9a33-aa9e40889f4a"
      },
      "outputs": [],
      "source": [
        "df.columns = remove_accents_cols(df.columns)\n",
        "df.columns = remove_special_chars(df.columns)\n",
        "df.columns = regular_snake_case(df.columns)"
      ]
    },
    {
      "cell_type": "code",
      "execution_count": null,
      "metadata": {
        "id": "32b61f0b-0670-4e09-aa67-eea351f84d0a"
      },
      "outputs": [],
      "source": [
        "df"
      ]
    },
    {
      "cell_type": "markdown",
      "metadata": {
        "id": "416c7410-89ef-4f3f-8b19-b248c687e7f2"
      },
      "source": [
        "# General stats cells"
      ]
    },
    {
      "cell_type": "code",
      "execution_count": null,
      "metadata": {
        "id": "4130247f-c8db-4152-b97f-46f4c688b2e5"
      },
      "outputs": [],
      "source": [
        "df.describe()"
      ]
    },
    {
      "cell_type": "code",
      "execution_count": null,
      "metadata": {
        "id": "9102f4ac-c551-40a1-a68c-e84a2c25babe"
      },
      "outputs": [],
      "source": [
        "df.dtypes\n"
      ]
    },
    {
      "cell_type": "code",
      "execution_count": null,
      "metadata": {
        "id": "95de966f-5f4e-4184-b8e1-439cd44e0a69"
      },
      "outputs": [],
      "source": [
        "df.info()"
      ]
    },
    {
      "cell_type": "code",
      "execution_count": null,
      "metadata": {
        "id": "d84f191e-23c5-4c92-8f55-989961541e33"
      },
      "outputs": [],
      "source": [
        "print('recuento de columnas por tipo: ', df.dtypes.value_counts())\n",
        "print('sumatoria de valores nulos en el dataframe: ', df.isna().sum())"
      ]
    },
    {
      "cell_type": "markdown",
      "metadata": {
        "id": "0ab7b983-a21f-46e2-9f37-c585b54bfd78"
      },
      "source": [
        "# General Analyst by columns"
      ]
    },
    {
      "cell_type": "markdown",
      "metadata": {
        "id": "70225e1b-c7e9-480c-ba8e-b6b3f8128db6"
      },
      "source": [
        "## year\n",
        "type: object"
      ]
    },
    {
      "cell_type": "code",
      "execution_count": null,
      "metadata": {
        "id": "b2ea36b7-47dd-4a07-9b09-5eed58250e50"
      },
      "outputs": [],
      "source": [
        "df['year'] = df['year'].astype(str)\n",
        "df['year'] = df['year'].str.replace('.0','')\n",
        "df['year'].unique()"
      ]
    },
    {
      "cell_type": "code",
      "execution_count": null,
      "metadata": {
        "id": "77c7d859-13cd-4f94-b29b-0194a790e021"
      },
      "outputs": [],
      "source": [
        "df['year'].value_counts()"
      ]
    },
    {
      "cell_type": "code",
      "execution_count": null,
      "metadata": {
        "id": "2325de46-9511-4054-90a4-ace4861b2587"
      },
      "outputs": [],
      "source": [
        "plt.figure(figsize=(10,5))\n",
        "df['year'].value_counts()[:15].plot(kind='pie')"
      ]
    },
    {
      "cell_type": "code",
      "execution_count": null,
      "metadata": {
        "id": "04a8c6c9-ae3f-4301-89e3-9f0eb52d807e"
      },
      "outputs": [],
      "source": [
        "plt.figure(figsize=(30,5))\n",
        "df['year'].value_counts()[:15].plot(kind='barh')"
      ]
    },
    {
      "cell_type": "markdown",
      "metadata": {
        "id": "2c525e1f-a990-405d-b13d-62e8f8241c7a"
      },
      "source": [
        "## 2022\n",
        "type: object"
      ]
    },
    {
      "cell_type": "code",
      "execution_count": null,
      "metadata": {
        "id": "ac0c1897-e4f5-4a82-aa23-61240239e561"
      },
      "outputs": [],
      "source": [
        "df['2022'] = pd.to_numeric(df[f'2022'], errors='coerce')"
      ]
    },
    {
      "cell_type": "code",
      "execution_count": null,
      "metadata": {
        "id": "406fb534-85cc-4da3-a8a4-f421202413c1"
      },
      "outputs": [],
      "source": [
        "print('la media es: ',df['2022'].mean())"
      ]
    },
    {
      "cell_type": "code",
      "execution_count": null,
      "metadata": {
        "id": "8de1f429-f21e-4adf-af32-eafe8ddbf153"
      },
      "outputs": [],
      "source": [
        "print('la moda es: ',df['2022'].mode())"
      ]
    },
    {
      "cell_type": "code",
      "execution_count": null,
      "metadata": {
        "id": "8bf54383-65e2-4ec3-a659-10aa325ab7ac"
      },
      "outputs": [],
      "source": [
        "print('la mediana es: ',df['2022'].median())"
      ]
    },
    {
      "cell_type": "code",
      "execution_count": null,
      "metadata": {
        "id": "3da6b230-bbef-4d0e-9e26-a7347a42fcdd"
      },
      "outputs": [],
      "source": [
        "print('el valor mínimo de 2022 es: : ',df['2022'].min())"
      ]
    },
    {
      "cell_type": "code",
      "execution_count": null,
      "metadata": {
        "id": "30eddf55-8c72-4d7d-a1c9-74342eeb06ec"
      },
      "outputs": [],
      "source": [
        "print('el valor máximo de 2022 es: : ',df['2022'].max())"
      ]
    },
    {
      "cell_type": "code",
      "execution_count": null,
      "metadata": {
        "id": "05339627-afa9-4c35-a1ba-adcdb8aa9dcf"
      },
      "outputs": [],
      "source": [
        "print('el rango de 2022 es: : ',df['2022'].max() - df['2022'].min())"
      ]
    },
    {
      "cell_type": "code",
      "execution_count": null,
      "metadata": {
        "id": "9d8f661c-9de2-44a9-93af-b9c19c94193c"
      },
      "outputs": [],
      "source": [
        "print('la desviación éstandar de 2022 es: : ',df['2022'].std())"
      ]
    },
    {
      "cell_type": "code",
      "execution_count": null,
      "metadata": {
        "id": "6aae9df8-ce19-4b56-b6d0-c2b0e4a28c08"
      },
      "outputs": [],
      "source": [
        "sns.histplot(data = df,x = '2022')\n",
        "plt.axvline(x=df.2022.mean(),color='red',linestyle='dashed',linewidth=2)"
      ]
    },
    {
      "cell_type": "markdown",
      "metadata": {
        "id": "156b0455-6c8f-493a-a586-b0000de62eb0"
      },
      "source": [
        "## 2021\n",
        "type: object"
      ]
    },
    {
      "cell_type": "code",
      "execution_count": null,
      "metadata": {
        "id": "86558ba3-0332-42c2-9dca-77f9ee7eb4fa"
      },
      "outputs": [],
      "source": [
        "df['2021'] = pd.to_numeric(df[f'2021'], errors='coerce')"
      ]
    },
    {
      "cell_type": "code",
      "execution_count": null,
      "metadata": {
        "id": "8c36ba3e-3811-4022-b50f-42565bed45ff"
      },
      "outputs": [],
      "source": [
        "print('la media es: ',df['2021'].mean())"
      ]
    },
    {
      "cell_type": "code",
      "execution_count": null,
      "metadata": {
        "id": "90d762fc-97b9-4aad-b9ed-c94a6acd8653"
      },
      "outputs": [],
      "source": [
        "print('la moda es: ',df['2021'].mode())"
      ]
    },
    {
      "cell_type": "code",
      "execution_count": null,
      "metadata": {
        "id": "39e50353-8a6f-401e-9e9f-8f3ea2c3c704"
      },
      "outputs": [],
      "source": [
        "print('la mediana es: ',df['2021'].median())"
      ]
    },
    {
      "cell_type": "code",
      "execution_count": null,
      "metadata": {
        "id": "bf76cd9c-d49b-4e0e-850b-d76607248578"
      },
      "outputs": [],
      "source": [
        "print('el valor mínimo de 2021 es: : ',df['2021'].min())"
      ]
    },
    {
      "cell_type": "code",
      "execution_count": null,
      "metadata": {
        "id": "3faf69e4-a819-414a-9a4d-add0bbe6eb36"
      },
      "outputs": [],
      "source": [
        "print('el valor máximo de 2021 es: : ',df['2021'].max())"
      ]
    },
    {
      "cell_type": "code",
      "execution_count": null,
      "metadata": {
        "id": "7ac1938d-607e-474e-a229-8381d66388d4"
      },
      "outputs": [],
      "source": [
        "print('el rango de 2021 es: : ',df['2021'].max() - df['2021'].min())"
      ]
    },
    {
      "cell_type": "code",
      "execution_count": null,
      "metadata": {
        "id": "7c53d631-f5fc-473f-ab50-0ec5b687a643"
      },
      "outputs": [],
      "source": [
        "print('la desviación éstandar de 2021 es: : ',df['2021'].std())"
      ]
    },
    {
      "cell_type": "code",
      "execution_count": null,
      "metadata": {
        "id": "eabeaa36-96a3-4ad9-9ad8-1c495dbe07ab"
      },
      "outputs": [],
      "source": [
        "sns.histplot(data = df,x = '2021')\n",
        "plt.axvline(x=df.2021.mean(),color='red',linestyle='dashed',linewidth=2)"
      ]
    },
    {
      "cell_type": "markdown",
      "metadata": {
        "id": "97fd72f8-95e9-415c-9251-ccf44bea5b5d"
      },
      "source": [
        "## 2020\n",
        "type: object"
      ]
    },
    {
      "cell_type": "code",
      "execution_count": null,
      "metadata": {
        "id": "d6b5d2ed-493c-4eb3-b4aa-9384f976a248"
      },
      "outputs": [],
      "source": [
        "df['2020'] = pd.to_numeric(df[f'2020'], errors='coerce')"
      ]
    },
    {
      "cell_type": "code",
      "execution_count": null,
      "metadata": {
        "id": "5b4e6e1d-2123-4eca-995b-ffa342dc08b7"
      },
      "outputs": [],
      "source": [
        "print('la media es: ',df['2020'].mean())"
      ]
    },
    {
      "cell_type": "code",
      "execution_count": null,
      "metadata": {
        "id": "a672d78f-078c-4206-884e-3c465e3c64de"
      },
      "outputs": [],
      "source": [
        "print('la moda es: ',df['2020'].mode())"
      ]
    },
    {
      "cell_type": "code",
      "execution_count": null,
      "metadata": {
        "id": "8ee6e145-9907-4966-b2b9-6f6e915ad300"
      },
      "outputs": [],
      "source": [
        "print('la mediana es: ',df['2020'].median())"
      ]
    },
    {
      "cell_type": "code",
      "execution_count": null,
      "metadata": {
        "id": "19bbcc1d-0492-4705-a087-f817fb64d908"
      },
      "outputs": [],
      "source": [
        "print('el valor mínimo de 2020 es: : ',df['2020'].min())"
      ]
    },
    {
      "cell_type": "code",
      "execution_count": null,
      "metadata": {
        "id": "2781e9d0-dd10-4dc2-8765-b7b5c2cf75ce"
      },
      "outputs": [],
      "source": [
        "print('el valor máximo de 2020 es: : ',df['2020'].max())"
      ]
    },
    {
      "cell_type": "code",
      "execution_count": null,
      "metadata": {
        "id": "8c7daf51-70f0-4c99-bc50-6778f5c1d0f3"
      },
      "outputs": [],
      "source": [
        "print('el rango de 2020 es: : ',df['2020'].max() - df['2020'].min())"
      ]
    },
    {
      "cell_type": "code",
      "execution_count": null,
      "metadata": {
        "id": "9c699349-9920-4087-bf78-ee16f04e4d66"
      },
      "outputs": [],
      "source": [
        "print('la desviación éstandar de 2020 es: : ',df['2020'].std())"
      ]
    },
    {
      "cell_type": "code",
      "execution_count": null,
      "metadata": {
        "id": "e05b1cdb-697b-4838-8b5b-d05ea18cc99c"
      },
      "outputs": [],
      "source": [
        "sns.histplot(data = df,x = '2020')\n",
        "plt.axvline(x=df.2020.mean(),color='red',linestyle='dashed',linewidth=2)"
      ]
    },
    {
      "cell_type": "markdown",
      "metadata": {
        "id": "ac220080-4151-4c6b-8798-ddf3e3c4f012"
      },
      "source": [
        "## 2019\n",
        "type: object"
      ]
    },
    {
      "cell_type": "code",
      "execution_count": null,
      "metadata": {
        "id": "b601d9e1-1296-47fe-afe1-6bc873236e2d"
      },
      "outputs": [],
      "source": [
        "df['2019'] = pd.to_numeric(df[f'2019'], errors='coerce')"
      ]
    },
    {
      "cell_type": "code",
      "execution_count": null,
      "metadata": {
        "id": "0a4316d5-9efe-4d70-a184-f7f91e7a575b"
      },
      "outputs": [],
      "source": [
        "print('la media es: ',df['2019'].mean())"
      ]
    },
    {
      "cell_type": "code",
      "execution_count": null,
      "metadata": {
        "id": "c50d23e4-8a37-4e9e-8212-f7240dcb7d54"
      },
      "outputs": [],
      "source": [
        "print('la moda es: ',df['2019'].mode())"
      ]
    },
    {
      "cell_type": "code",
      "execution_count": null,
      "metadata": {
        "id": "a763886d-b3d0-4e01-8b64-7f8b0a49fd14"
      },
      "outputs": [],
      "source": [
        "print('la mediana es: ',df['2019'].median())"
      ]
    },
    {
      "cell_type": "code",
      "execution_count": null,
      "metadata": {
        "id": "d47b2f8c-bc63-40ab-b548-251f733a6d28"
      },
      "outputs": [],
      "source": [
        "print('el valor mínimo de 2019 es: : ',df['2019'].min())"
      ]
    },
    {
      "cell_type": "code",
      "execution_count": null,
      "metadata": {
        "id": "54aa6cb5-75f3-4df4-93a3-bb9d3fb5efbe"
      },
      "outputs": [],
      "source": [
        "print('el valor máximo de 2019 es: : ',df['2019'].max())"
      ]
    },
    {
      "cell_type": "code",
      "execution_count": null,
      "metadata": {
        "id": "e3d88bbe-3136-4be3-8d1e-27ad924737ed"
      },
      "outputs": [],
      "source": [
        "print('el rango de 2019 es: : ',df['2019'].max() - df['2019'].min())"
      ]
    },
    {
      "cell_type": "code",
      "execution_count": null,
      "metadata": {
        "id": "6d366a6f-5768-47be-a3db-77710e71b9fe"
      },
      "outputs": [],
      "source": [
        "print('la desviación éstandar de 2019 es: : ',df['2019'].std())"
      ]
    },
    {
      "cell_type": "code",
      "execution_count": null,
      "metadata": {
        "id": "4885b874-8585-4ab5-8923-f6ab826ef54d"
      },
      "outputs": [],
      "source": [
        "sns.histplot(data = df,x = '2019')\n",
        "plt.axvline(x=df.2019.mean(),color='red',linestyle='dashed',linewidth=2)"
      ]
    },
    {
      "cell_type": "markdown",
      "metadata": {
        "id": "0140da32-a4e2-4008-821e-25e3c56f6665"
      },
      "source": [
        "## 2018\n",
        "type: object"
      ]
    },
    {
      "cell_type": "code",
      "execution_count": null,
      "metadata": {
        "id": "4540fcdf-d013-47c0-8f81-3be1403aab75"
      },
      "outputs": [],
      "source": [
        "df['2018'] = pd.to_numeric(df[f'2018'], errors='coerce')"
      ]
    },
    {
      "cell_type": "code",
      "execution_count": null,
      "metadata": {
        "id": "ba0f96c3-d63f-4ebd-b592-00193d5491c0"
      },
      "outputs": [],
      "source": [
        "print('la media es: ',df['2018'].mean())"
      ]
    },
    {
      "cell_type": "code",
      "execution_count": null,
      "metadata": {
        "id": "f206fe69-7deb-46b6-9a89-d25df55b5598"
      },
      "outputs": [],
      "source": [
        "print('la moda es: ',df['2018'].mode())"
      ]
    },
    {
      "cell_type": "code",
      "execution_count": null,
      "metadata": {
        "id": "b59966eb-96f6-47e3-ade9-796241a791b7"
      },
      "outputs": [],
      "source": [
        "print('la mediana es: ',df['2018'].median())"
      ]
    },
    {
      "cell_type": "code",
      "execution_count": null,
      "metadata": {
        "id": "5249a471-fb7b-451b-9ef3-b76c33d632e1"
      },
      "outputs": [],
      "source": [
        "print('el valor mínimo de 2018 es: : ',df['2018'].min())"
      ]
    },
    {
      "cell_type": "code",
      "execution_count": null,
      "metadata": {
        "id": "d32c87f6-88c5-452b-ad16-83c4ce973a34"
      },
      "outputs": [],
      "source": [
        "print('el valor máximo de 2018 es: : ',df['2018'].max())"
      ]
    },
    {
      "cell_type": "code",
      "execution_count": null,
      "metadata": {
        "id": "c17b00ce-8616-44ed-9b07-0cea09628da2"
      },
      "outputs": [],
      "source": [
        "print('el rango de 2018 es: : ',df['2018'].max() - df['2018'].min())"
      ]
    },
    {
      "cell_type": "code",
      "execution_count": null,
      "metadata": {
        "id": "3a720c2a-9629-40c2-9604-22af9425f64c"
      },
      "outputs": [],
      "source": [
        "print('la desviación éstandar de 2018 es: : ',df['2018'].std())"
      ]
    },
    {
      "cell_type": "code",
      "execution_count": null,
      "metadata": {
        "id": "734fdc92-6e3c-40e8-a352-5e30175b06f1"
      },
      "outputs": [],
      "source": [
        "sns.histplot(data = df,x = '2018')\n",
        "plt.axvline(x=df.2018.mean(),color='red',linestyle='dashed',linewidth=2)"
      ]
    },
    {
      "cell_type": "markdown",
      "metadata": {
        "id": "bad6821a-60c0-49b5-9ee7-45c285769020"
      },
      "source": [
        "## 2017\n",
        "type: object"
      ]
    },
    {
      "cell_type": "code",
      "execution_count": null,
      "metadata": {
        "id": "6e069235-9098-43c3-9e5c-dad6239849fb"
      },
      "outputs": [],
      "source": [
        "df['2017'] = pd.to_numeric(df[f'2017'], errors='coerce')"
      ]
    },
    {
      "cell_type": "code",
      "execution_count": null,
      "metadata": {
        "id": "e692e19a-bcf1-41ec-b79b-f7f52139e207"
      },
      "outputs": [],
      "source": [
        "print('la media es: ',df['2017'].mean())"
      ]
    },
    {
      "cell_type": "code",
      "execution_count": null,
      "metadata": {
        "id": "67fd2e86-751a-4d57-a035-4f76d766b04d"
      },
      "outputs": [],
      "source": [
        "print('la moda es: ',df['2017'].mode())"
      ]
    },
    {
      "cell_type": "code",
      "execution_count": null,
      "metadata": {
        "id": "f394cee5-5d5f-4f2e-bbca-2444887b1299"
      },
      "outputs": [],
      "source": [
        "print('la mediana es: ',df['2017'].median())"
      ]
    },
    {
      "cell_type": "code",
      "execution_count": null,
      "metadata": {
        "id": "fa480f5a-d929-47bc-ae80-9fe22a4b47cc"
      },
      "outputs": [],
      "source": [
        "print('el valor mínimo de 2017 es: : ',df['2017'].min())"
      ]
    },
    {
      "cell_type": "code",
      "execution_count": null,
      "metadata": {
        "id": "f95546ad-9955-4a4c-b0f3-bc95997bf5ca"
      },
      "outputs": [],
      "source": [
        "print('el valor máximo de 2017 es: : ',df['2017'].max())"
      ]
    },
    {
      "cell_type": "code",
      "execution_count": null,
      "metadata": {
        "id": "19012ab8-a690-4aaa-8a03-7dd08287dadf"
      },
      "outputs": [],
      "source": [
        "print('el rango de 2017 es: : ',df['2017'].max() - df['2017'].min())"
      ]
    },
    {
      "cell_type": "code",
      "execution_count": null,
      "metadata": {
        "id": "61a0ff23-c413-4acc-b6cc-47b8f02145b3"
      },
      "outputs": [],
      "source": [
        "print('la desviación éstandar de 2017 es: : ',df['2017'].std())"
      ]
    },
    {
      "cell_type": "code",
      "execution_count": null,
      "metadata": {
        "id": "2b0f21c7-3662-47bd-bf3e-b67365400577"
      },
      "outputs": [],
      "source": [
        "sns.histplot(data = df,x = '2017')\n",
        "plt.axvline(x=df.2017.mean(),color='red',linestyle='dashed',linewidth=2)"
      ]
    },
    {
      "cell_type": "markdown",
      "metadata": {
        "id": "a1feefb7-13ac-40a3-bd9e-e3f2c6a01ce4"
      },
      "source": [
        "## 2016\n",
        "type: object"
      ]
    },
    {
      "cell_type": "code",
      "execution_count": null,
      "metadata": {
        "id": "65ba8be9-0f26-41b3-8b59-4829612014c0"
      },
      "outputs": [],
      "source": [
        "df['2016'] = pd.to_numeric(df[f'2016'], errors='coerce')"
      ]
    },
    {
      "cell_type": "code",
      "execution_count": null,
      "metadata": {
        "id": "ab7e70a2-8a83-4cc4-8a8d-98dad773ef54"
      },
      "outputs": [],
      "source": [
        "print('la media es: ',df['2016'].mean())"
      ]
    },
    {
      "cell_type": "code",
      "execution_count": null,
      "metadata": {
        "id": "5810b93e-909c-4e2c-a667-c7e43ee1620a"
      },
      "outputs": [],
      "source": [
        "print('la moda es: ',df['2016'].mode())"
      ]
    },
    {
      "cell_type": "code",
      "execution_count": null,
      "metadata": {
        "id": "9ea1446f-a98b-49d3-bdb4-b5d5dd72ec8e"
      },
      "outputs": [],
      "source": [
        "print('la mediana es: ',df['2016'].median())"
      ]
    },
    {
      "cell_type": "code",
      "execution_count": null,
      "metadata": {
        "id": "6e3f74a8-ad77-4058-8a48-c2686ec81650"
      },
      "outputs": [],
      "source": [
        "print('el valor mínimo de 2016 es: : ',df['2016'].min())"
      ]
    },
    {
      "cell_type": "code",
      "execution_count": null,
      "metadata": {
        "id": "f83cb3d1-ae59-43c7-9b28-1553fc479888"
      },
      "outputs": [],
      "source": [
        "print('el valor máximo de 2016 es: : ',df['2016'].max())"
      ]
    },
    {
      "cell_type": "code",
      "execution_count": null,
      "metadata": {
        "id": "39dca92f-b122-4bfe-8822-37b18343bac8"
      },
      "outputs": [],
      "source": [
        "print('el rango de 2016 es: : ',df['2016'].max() - df['2016'].min())"
      ]
    },
    {
      "cell_type": "code",
      "execution_count": null,
      "metadata": {
        "id": "26f15c60-017a-4424-bd52-272ef8853a57"
      },
      "outputs": [],
      "source": [
        "print('la desviación éstandar de 2016 es: : ',df['2016'].std())"
      ]
    },
    {
      "cell_type": "code",
      "execution_count": null,
      "metadata": {
        "id": "a5287c14-a95d-4e1c-8da3-a334234ec40c"
      },
      "outputs": [],
      "source": [
        "sns.histplot(data = df,x = '2016')\n",
        "plt.axvline(x=df.2016.mean(),color='red',linestyle='dashed',linewidth=2)"
      ]
    },
    {
      "cell_type": "markdown",
      "metadata": {
        "id": "dec5e88d-0dae-492a-95ae-d49ab8814b0f"
      },
      "source": [
        "## 2015\n",
        "type: object"
      ]
    },
    {
      "cell_type": "code",
      "execution_count": null,
      "metadata": {
        "id": "815073db-1996-419f-b100-45a2b35c6ce4"
      },
      "outputs": [],
      "source": [
        "df['2015'] = pd.to_numeric(df[f'2015'], errors='coerce')"
      ]
    },
    {
      "cell_type": "code",
      "execution_count": null,
      "metadata": {
        "id": "2914fd60-3eeb-4eb9-a1b1-6d3366090fed"
      },
      "outputs": [],
      "source": [
        "print('la media es: ',df['2015'].mean())"
      ]
    },
    {
      "cell_type": "code",
      "execution_count": null,
      "metadata": {
        "id": "980efa5b-f4c4-498a-b725-42002096e836"
      },
      "outputs": [],
      "source": [
        "print('la moda es: ',df['2015'].mode())"
      ]
    },
    {
      "cell_type": "code",
      "execution_count": null,
      "metadata": {
        "id": "b6d286f9-2370-4bee-81a7-2963a63ad98f"
      },
      "outputs": [],
      "source": [
        "print('la mediana es: ',df['2015'].median())"
      ]
    },
    {
      "cell_type": "code",
      "execution_count": null,
      "metadata": {
        "id": "97607c14-8a4b-49e8-9e98-86c5de33407a"
      },
      "outputs": [],
      "source": [
        "print('el valor mínimo de 2015 es: : ',df['2015'].min())"
      ]
    },
    {
      "cell_type": "code",
      "execution_count": null,
      "metadata": {
        "id": "e29cbf69-f86f-4c25-959f-521b7f95b961"
      },
      "outputs": [],
      "source": [
        "print('el valor máximo de 2015 es: : ',df['2015'].max())"
      ]
    },
    {
      "cell_type": "code",
      "execution_count": null,
      "metadata": {
        "id": "25e2d485-dd3b-447d-9783-87452cb539d4"
      },
      "outputs": [],
      "source": [
        "print('el rango de 2015 es: : ',df['2015'].max() - df['2015'].min())"
      ]
    },
    {
      "cell_type": "code",
      "execution_count": null,
      "metadata": {
        "id": "3666ca00-4e8c-4760-b018-a2a5cdb84a53"
      },
      "outputs": [],
      "source": [
        "print('la desviación éstandar de 2015 es: : ',df['2015'].std())"
      ]
    },
    {
      "cell_type": "code",
      "execution_count": null,
      "metadata": {
        "id": "65b2a843-6ad5-46b1-977a-20a2adc6a4fd"
      },
      "outputs": [],
      "source": [
        "sns.histplot(data = df,x = '2015')\n",
        "plt.axvline(x=df.2015.mean(),color='red',linestyle='dashed',linewidth=2)"
      ]
    },
    {
      "cell_type": "markdown",
      "metadata": {
        "id": "0f198d52-0c43-40a1-ac8e-189c36c3972f"
      },
      "source": [
        "## 2014\n",
        "type: object"
      ]
    },
    {
      "cell_type": "code",
      "execution_count": null,
      "metadata": {
        "id": "235b3fa2-5f1b-4e3b-a81a-64da547e52d9"
      },
      "outputs": [],
      "source": [
        "df['2014'] = pd.to_numeric(df[f'2014'], errors='coerce')"
      ]
    },
    {
      "cell_type": "code",
      "execution_count": null,
      "metadata": {
        "id": "fb0da1ab-cdcc-4d36-8cba-2c0dcdff8186"
      },
      "outputs": [],
      "source": [
        "print('la media es: ',df['2014'].mean())"
      ]
    },
    {
      "cell_type": "code",
      "execution_count": null,
      "metadata": {
        "id": "91fea4ea-242c-404b-85a8-16e35d52ded4"
      },
      "outputs": [],
      "source": [
        "print('la moda es: ',df['2014'].mode())"
      ]
    },
    {
      "cell_type": "code",
      "execution_count": null,
      "metadata": {
        "id": "b1b4753f-dca5-41ff-a2e9-c9a6704cd9d7"
      },
      "outputs": [],
      "source": [
        "print('la mediana es: ',df['2014'].median())"
      ]
    },
    {
      "cell_type": "code",
      "execution_count": null,
      "metadata": {
        "id": "487d6d69-d616-4fee-969d-6572ed938f8c"
      },
      "outputs": [],
      "source": [
        "print('el valor mínimo de 2014 es: : ',df['2014'].min())"
      ]
    },
    {
      "cell_type": "code",
      "execution_count": null,
      "metadata": {
        "id": "ff20c231-b0ce-4147-a8a1-b094b7770449"
      },
      "outputs": [],
      "source": [
        "print('el valor máximo de 2014 es: : ',df['2014'].max())"
      ]
    },
    {
      "cell_type": "code",
      "execution_count": null,
      "metadata": {
        "id": "8be454b7-e104-4018-b6bb-04e0b4f768e0"
      },
      "outputs": [],
      "source": [
        "print('el rango de 2014 es: : ',df['2014'].max() - df['2014'].min())"
      ]
    },
    {
      "cell_type": "code",
      "execution_count": null,
      "metadata": {
        "id": "cf4d405e-b7ff-4360-9a53-d6da02d91ef4"
      },
      "outputs": [],
      "source": [
        "print('la desviación éstandar de 2014 es: : ',df['2014'].std())"
      ]
    },
    {
      "cell_type": "code",
      "execution_count": null,
      "metadata": {
        "id": "580435a5-4ed3-4ff7-8059-9aae10afb38c"
      },
      "outputs": [],
      "source": [
        "sns.histplot(data = df,x = '2014')\n",
        "plt.axvline(x=df.2014.mean(),color='red',linestyle='dashed',linewidth=2)"
      ]
    },
    {
      "cell_type": "markdown",
      "metadata": {
        "id": "ae3a2bea-f702-40d7-8fc8-4109bcc7d09b"
      },
      "source": [
        "## 2013\n",
        "type: object"
      ]
    },
    {
      "cell_type": "code",
      "execution_count": null,
      "metadata": {
        "id": "502ac1a2-5264-4313-b358-97e788a69d55"
      },
      "outputs": [],
      "source": [
        "df['2013'] = pd.to_numeric(df[f'2013'], errors='coerce')"
      ]
    },
    {
      "cell_type": "code",
      "execution_count": null,
      "metadata": {
        "id": "01e91d42-7b2b-42a6-a499-b219ff824e5f"
      },
      "outputs": [],
      "source": [
        "print('la media es: ',df['2013'].mean())"
      ]
    },
    {
      "cell_type": "code",
      "execution_count": null,
      "metadata": {
        "id": "0e65a34c-e961-4212-9d62-c167ae9efe00"
      },
      "outputs": [],
      "source": [
        "print('la moda es: ',df['2013'].mode())"
      ]
    },
    {
      "cell_type": "code",
      "execution_count": null,
      "metadata": {
        "id": "4450f9af-882c-4c25-918a-ff9251c3251a"
      },
      "outputs": [],
      "source": [
        "print('la mediana es: ',df['2013'].median())"
      ]
    },
    {
      "cell_type": "code",
      "execution_count": null,
      "metadata": {
        "id": "63f035f2-f3a9-43f7-b854-e796585ac092"
      },
      "outputs": [],
      "source": [
        "print('el valor mínimo de 2013 es: : ',df['2013'].min())"
      ]
    },
    {
      "cell_type": "code",
      "execution_count": null,
      "metadata": {
        "id": "2a851cae-2dd5-4a27-a565-9fb93ab199a3"
      },
      "outputs": [],
      "source": [
        "print('el valor máximo de 2013 es: : ',df['2013'].max())"
      ]
    },
    {
      "cell_type": "code",
      "execution_count": null,
      "metadata": {
        "id": "2900fa03-f683-45a3-8ad5-6a052b8990f3"
      },
      "outputs": [],
      "source": [
        "print('el rango de 2013 es: : ',df['2013'].max() - df['2013'].min())"
      ]
    },
    {
      "cell_type": "code",
      "execution_count": null,
      "metadata": {
        "id": "ef98d0b4-3813-43c4-8be9-052c221bff98"
      },
      "outputs": [],
      "source": [
        "print('la desviación éstandar de 2013 es: : ',df['2013'].std())"
      ]
    },
    {
      "cell_type": "code",
      "execution_count": null,
      "metadata": {
        "id": "9651a84f-1934-4c6d-b936-babbc2d249b7"
      },
      "outputs": [],
      "source": [
        "sns.histplot(data = df,x = '2013')\n",
        "plt.axvline(x=df.2013.mean(),color='red',linestyle='dashed',linewidth=2)"
      ]
    },
    {
      "cell_type": "markdown",
      "metadata": {
        "id": "6572fc1f-4fd8-4292-a737-3830c5aaf736"
      },
      "source": [
        "## 2012_2007\n",
        "type: object"
      ]
    },
    {
      "cell_type": "code",
      "execution_count": null,
      "metadata": {
        "id": "e7a0f50b-11b0-41fd-b962-f2ffbfeed154"
      },
      "outputs": [],
      "source": [
        "df['2012_2007'] = df['2012_2007'].astype(str)\n",
        "df['2012_2007'] = df['2012_2007'].str.replace('.0','')\n",
        "df['2012_2007'].unique()"
      ]
    },
    {
      "cell_type": "code",
      "execution_count": null,
      "metadata": {
        "id": "85e55711-8f6a-403c-9028-786fab7d63ff"
      },
      "outputs": [],
      "source": [
        "df['2012_2007'].value_counts()"
      ]
    },
    {
      "cell_type": "code",
      "execution_count": null,
      "metadata": {
        "id": "4113d00e-70dd-457e-875a-de27ecc1b7f3"
      },
      "outputs": [],
      "source": [
        "plt.figure(figsize=(10,5))\n",
        "df['2012_2007'].value_counts()[:15].plot(kind='pie')"
      ]
    },
    {
      "cell_type": "code",
      "execution_count": null,
      "metadata": {
        "id": "79a2c21c-6856-4736-ac86-f470551a879e"
      },
      "outputs": [],
      "source": [
        "plt.figure(figsize=(30,5))\n",
        "df['2012_2007'].value_counts()[:15].plot(kind='barh')"
      ]
    },
    {
      "cell_type": "markdown",
      "metadata": {
        "id": "16c86441-6c44-4076-b8a1-6f118998c99d"
      },
      "source": [
        "# Sweetviz report"
      ]
    },
    {
      "cell_type": "code",
      "execution_count": null,
      "metadata": {
        "id": "5053509c-8bb2-48ce-ba51-0292b6e3168e"
      },
      "outputs": [],
      "source": [
        "sweet_report = sv.analyze(df)\n",
        "sweet_report.show_html(f'{path_dir}sw_report_financial statements (TSLA).xlsx_income quarterly.html')"
      ]
    }
  ],
  "metadata": {
    "colab": {
      "provenance": []
    },
    "kernelspec": {
      "display_name": "Python 3",
      "name": "python3"
    },
    "language_info": {
      "name": "python"
    }
  },
  "nbformat": 4,
  "nbformat_minor": 0
}
