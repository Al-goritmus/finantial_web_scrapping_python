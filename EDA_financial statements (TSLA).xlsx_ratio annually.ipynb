{
  "cells": [
    {
      "cell_type": "markdown",
      "metadata": {
        "id": "1b605031-4114-48ca-b300-754245b74f5b"
      },
      "source": [
        "# Import libraries"
      ]
    },
    {
      "cell_type": "code",
      "execution_count": null,
      "metadata": {
        "id": "4851056a-8d4b-463e-a1db-5c4b08673659"
      },
      "outputs": [],
      "source": [
        "pip install sweetviz\n"
      ]
    },
    {
      "cell_type": "code",
      "execution_count": null,
      "metadata": {
        "id": "b0043445-77da-4ee4-8f98-36886b629e35"
      },
      "outputs": [],
      "source": [
        "import pandas as pd\n",
        "import psycopg2\n",
        "import numpy as np\n",
        "import matplotlib.pyplot     as plt\n",
        "import matplotlib.patches    as mpatches\n",
        "import seaborn               as sns\n",
        "import sweetviz as sv\n",
        "import sklearn.metrics       as Metrics\n",
        "from google.colab import drive\n",
        "from pandas_profiling import ProfileReport\n",
        "%matplotlib inline"
      ]
    },
    {
      "cell_type": "markdown",
      "metadata": {
        "id": "e25ae4c3-9e6e-4f36-aa80-d13187504ba4"
      },
      "source": [
        "# Read file"
      ]
    },
    {
      "cell_type": "code",
      "execution_count": null,
      "metadata": {
        "id": "fbb12352-5d0a-4969-a354-6396be6001ba"
      },
      "outputs": [],
      "source": [
        "drive.mount('/content/drive')\n"
      ]
    },
    {
      "cell_type": "code",
      "execution_count": null,
      "metadata": {
        "id": "5e6c691e-9da0-475c-8ef9-5e4eb24d79c2"
      },
      "outputs": [],
      "source": [
        "path_dir = '/mnt/f/PythonFinanceProjects/'\n",
        "filename = 'financial statements (TSLA).xlsx'\n",
        "sheet = 'ratio annually'\n"
      ]
    },
    {
      "cell_type": "code",
      "execution_count": null,
      "metadata": {
        "id": "1d07e170-83ad-42fb-ba0e-f1ed4f66aa7d"
      },
      "outputs": [],
      "source": [
        "df = pd.read_excel(f'{path_dir}{filename}', sheet_name=sheet, header=0)"
      ]
    },
    {
      "cell_type": "code",
      "execution_count": null,
      "metadata": {
        "id": "82cdd136-eba6-4f0a-8965-84606d30394e"
      },
      "outputs": [],
      "source": [
        "df"
      ]
    },
    {
      "cell_type": "markdown",
      "metadata": {
        "id": "7c773304-1802-489b-b0f3-4fbc4deedb9f"
      },
      "source": [
        "# Normalize_cols"
      ]
    },
    {
      "cell_type": "code",
      "execution_count": null,
      "metadata": {
        "id": "9fcf3127-6865-433e-b47a-bf7baae2e1ad"
      },
      "outputs": [],
      "source": [
        "def remove_accents_cols(df_cols):\n",
        "    return df_cols.str.replace('ñ','ni').str.normalize('NFKD').str.encode('ascii', errors='ignore').str.decode('utf-8')\n",
        "def remove_special_chars(df_cols):\n",
        "    return df_cols.str.replace(r'[$@&/.:-]',' ', regex=True)\n",
        "def regular_camel_case(snake_str):\n",
        "    components = snake_str.split('_')\n",
        "    return components[0] + ''.join(x.title() for x in components[1:])\n",
        "def regular_snake_case(df_cols):\n",
        "    cols = df_cols.str.replace('ñ','ni')\n",
        "    cols = cols.str.lower().str.replace('/',' ').str.replace('.',' ').str.strip()\n",
        "    cols = cols.str.replace(r'\\s+',' ',regex=True)\n",
        "    cols = cols.str.replace(' ','_')\n",
        "    return cols"
      ]
    },
    {
      "cell_type": "code",
      "execution_count": null,
      "metadata": {
        "id": "2e0886df-8fb2-42c7-b302-6945bc503984"
      },
      "outputs": [],
      "source": [
        "df.columns = remove_accents_cols(df.columns)\n",
        "df.columns = remove_special_chars(df.columns)\n",
        "df.columns = regular_snake_case(df.columns)"
      ]
    },
    {
      "cell_type": "code",
      "execution_count": null,
      "metadata": {
        "id": "efe91bb8-69fa-475b-9cf3-9b5c66c2b254"
      },
      "outputs": [],
      "source": [
        "df"
      ]
    },
    {
      "cell_type": "markdown",
      "metadata": {
        "id": "6518c40f-75fd-4f3e-bcb8-eef2c4fa51d4"
      },
      "source": [
        "# General stats cells"
      ]
    },
    {
      "cell_type": "code",
      "execution_count": null,
      "metadata": {
        "id": "cc24f446-943f-4de8-a5f3-18c4675ac7f3"
      },
      "outputs": [],
      "source": [
        "df.describe()"
      ]
    },
    {
      "cell_type": "code",
      "execution_count": null,
      "metadata": {
        "id": "2e0e9e16-3198-4549-978b-f660a3cc93a7"
      },
      "outputs": [],
      "source": [
        "df.dtypes\n"
      ]
    },
    {
      "cell_type": "code",
      "execution_count": null,
      "metadata": {
        "id": "ba8097e0-7d06-4d06-b470-fd7a4014fdcd"
      },
      "outputs": [],
      "source": [
        "df.info()"
      ]
    },
    {
      "cell_type": "code",
      "execution_count": null,
      "metadata": {
        "id": "9d9917e9-b361-4e46-98e8-3fdb3851b5c7"
      },
      "outputs": [],
      "source": [
        "print('recuento de columnas por tipo: ', df.dtypes.value_counts())\n",
        "print('sumatoria de valores nulos en el dataframe: ', df.isna().sum())"
      ]
    },
    {
      "cell_type": "markdown",
      "metadata": {
        "id": "91b7bf49-48d2-414d-ae85-4812d94db2ff"
      },
      "source": [
        "# General Analyst by columns"
      ]
    },
    {
      "cell_type": "markdown",
      "metadata": {
        "id": "fa954c18-b647-444a-9e7b-5e2396c49445"
      },
      "source": [
        "## year\n",
        "type: object"
      ]
    },
    {
      "cell_type": "code",
      "execution_count": null,
      "metadata": {
        "id": "6fcf1caf-5225-4031-8e0a-c7b983349438"
      },
      "outputs": [],
      "source": [
        "df['year'] = df['year'].astype(str)\n",
        "df['year'] = df['year'].str.replace('.0','')\n",
        "df['year'].unique()"
      ]
    },
    {
      "cell_type": "code",
      "execution_count": null,
      "metadata": {
        "id": "85573d4f-e066-484b-a6f1-ac473c4fe927"
      },
      "outputs": [],
      "source": [
        "df['year'].value_counts()"
      ]
    },
    {
      "cell_type": "code",
      "execution_count": null,
      "metadata": {
        "id": "154c24fe-847e-4272-8398-69846e051cb8"
      },
      "outputs": [],
      "source": [
        "plt.figure(figsize=(10,5))\n",
        "df['year'].value_counts()[:15].plot(kind='pie')"
      ]
    },
    {
      "cell_type": "code",
      "execution_count": null,
      "metadata": {
        "id": "86803b3d-fe40-409c-a99c-5897216d88bc"
      },
      "outputs": [],
      "source": [
        "plt.figure(figsize=(30,5))\n",
        "df['year'].value_counts()[:15].plot(kind='barh')"
      ]
    },
    {
      "cell_type": "markdown",
      "metadata": {
        "id": "659c0653-3ff8-4e97-8ba8-2e626225cc8f"
      },
      "source": [
        "## current\n",
        "type: object"
      ]
    },
    {
      "cell_type": "code",
      "execution_count": null,
      "metadata": {
        "id": "ee5d473a-0f4f-403e-95a3-d5b9291e4ce6"
      },
      "outputs": [],
      "source": [
        "df['current'] = pd.to_numeric(df[f'current'], errors='coerce')"
      ]
    },
    {
      "cell_type": "code",
      "execution_count": null,
      "metadata": {
        "id": "df906c7c-7ce1-4cfd-a3d8-d8bd456bb606"
      },
      "outputs": [],
      "source": [
        "print('la media es: ',df['current'].mean())"
      ]
    },
    {
      "cell_type": "code",
      "execution_count": null,
      "metadata": {
        "id": "a3524dc5-258a-4a52-898d-28ad240b1624"
      },
      "outputs": [],
      "source": [
        "print('la moda es: ',df['current'].mode())"
      ]
    },
    {
      "cell_type": "code",
      "execution_count": null,
      "metadata": {
        "id": "fe7693aa-c81f-486c-a962-68ec52081721"
      },
      "outputs": [],
      "source": [
        "print('la mediana es: ',df['current'].median())"
      ]
    },
    {
      "cell_type": "code",
      "execution_count": null,
      "metadata": {
        "id": "60a6ad8c-2981-4ef0-969c-addfec9c5342"
      },
      "outputs": [],
      "source": [
        "print('el valor mínimo de current es: : ',df['current'].min())"
      ]
    },
    {
      "cell_type": "code",
      "execution_count": null,
      "metadata": {
        "id": "e961435b-3bcb-40f5-a35c-850720df72de"
      },
      "outputs": [],
      "source": [
        "print('el valor máximo de current es: : ',df['current'].max())"
      ]
    },
    {
      "cell_type": "code",
      "execution_count": null,
      "metadata": {
        "id": "724a469e-9dc9-49b5-a31a-61b867355c57"
      },
      "outputs": [],
      "source": [
        "print('el rango de current es: : ',df['current'].max() - df['current'].min())"
      ]
    },
    {
      "cell_type": "code",
      "execution_count": null,
      "metadata": {
        "id": "b017ff0b-5063-4778-9c53-8d35dd1cee3a"
      },
      "outputs": [],
      "source": [
        "print('la desviación éstandar de current es: : ',df['current'].std())"
      ]
    },
    {
      "cell_type": "code",
      "execution_count": null,
      "metadata": {
        "id": "23ca24db-f071-4292-8545-f2b258c83e96"
      },
      "outputs": [],
      "source": [
        "sns.histplot(data = df,x = 'current')\n",
        "plt.axvline(x=df.current.mean(),color='red',linestyle='dashed',linewidth=2)"
      ]
    },
    {
      "cell_type": "markdown",
      "metadata": {
        "id": "3a14d766-c987-4f96-aad3-dbc05b79180a"
      },
      "source": [
        "## 2022\n",
        "type: object"
      ]
    },
    {
      "cell_type": "code",
      "execution_count": null,
      "metadata": {
        "id": "2334dc81-1bd5-499e-bdd0-c3168f4a58c2"
      },
      "outputs": [],
      "source": [
        "df['2022'] = pd.to_numeric(df[f'2022'], errors='coerce')"
      ]
    },
    {
      "cell_type": "code",
      "execution_count": null,
      "metadata": {
        "id": "fd44bfb2-3185-4244-935d-c55dfbbe09e3"
      },
      "outputs": [],
      "source": [
        "print('la media es: ',df['2022'].mean())"
      ]
    },
    {
      "cell_type": "code",
      "execution_count": null,
      "metadata": {
        "id": "844edc86-5ee8-4d98-9890-ea2ac83a3922"
      },
      "outputs": [],
      "source": [
        "print('la moda es: ',df['2022'].mode())"
      ]
    },
    {
      "cell_type": "code",
      "execution_count": null,
      "metadata": {
        "id": "7eedc0dc-dfe4-4deb-b3f5-a5d1314095f5"
      },
      "outputs": [],
      "source": [
        "print('la mediana es: ',df['2022'].median())"
      ]
    },
    {
      "cell_type": "code",
      "execution_count": null,
      "metadata": {
        "id": "4f09522e-e584-4674-87b0-e3ea8010f406"
      },
      "outputs": [],
      "source": [
        "print('el valor mínimo de 2022 es: : ',df['2022'].min())"
      ]
    },
    {
      "cell_type": "code",
      "execution_count": null,
      "metadata": {
        "id": "2a6cc9d8-7b39-4500-a2b4-106bca337912"
      },
      "outputs": [],
      "source": [
        "print('el valor máximo de 2022 es: : ',df['2022'].max())"
      ]
    },
    {
      "cell_type": "code",
      "execution_count": null,
      "metadata": {
        "id": "da2d0775-bd4e-4ebb-a254-35f74de77265"
      },
      "outputs": [],
      "source": [
        "print('el rango de 2022 es: : ',df['2022'].max() - df['2022'].min())"
      ]
    },
    {
      "cell_type": "code",
      "execution_count": null,
      "metadata": {
        "id": "54321bd2-6c8a-448c-b493-0c50dfb389c0"
      },
      "outputs": [],
      "source": [
        "print('la desviación éstandar de 2022 es: : ',df['2022'].std())"
      ]
    },
    {
      "cell_type": "code",
      "execution_count": null,
      "metadata": {
        "id": "6f68ebd3-e267-41a6-8ad1-c6602caa1307"
      },
      "outputs": [],
      "source": [
        "sns.histplot(data = df,x = '2022')\n",
        "plt.axvline(x=df.2022.mean(),color='red',linestyle='dashed',linewidth=2)"
      ]
    },
    {
      "cell_type": "markdown",
      "metadata": {
        "id": "b0e84160-60a8-4244-9db4-44d0c52bf0a8"
      },
      "source": [
        "## 2021\n",
        "type: object"
      ]
    },
    {
      "cell_type": "code",
      "execution_count": null,
      "metadata": {
        "id": "fcb51eed-8788-4baa-9bef-41e992750506"
      },
      "outputs": [],
      "source": [
        "df['2021'] = pd.to_numeric(df[f'2021'], errors='coerce')"
      ]
    },
    {
      "cell_type": "code",
      "execution_count": null,
      "metadata": {
        "id": "98f84931-fc18-432e-acd6-0e2500465e07"
      },
      "outputs": [],
      "source": [
        "print('la media es: ',df['2021'].mean())"
      ]
    },
    {
      "cell_type": "code",
      "execution_count": null,
      "metadata": {
        "id": "60359c2f-fb3c-407f-8274-359078a49b5a"
      },
      "outputs": [],
      "source": [
        "print('la moda es: ',df['2021'].mode())"
      ]
    },
    {
      "cell_type": "code",
      "execution_count": null,
      "metadata": {
        "id": "bcaed6a7-df9e-4974-b2bf-93c6b33a2aaa"
      },
      "outputs": [],
      "source": [
        "print('la mediana es: ',df['2021'].median())"
      ]
    },
    {
      "cell_type": "code",
      "execution_count": null,
      "metadata": {
        "id": "96c916e3-ed4e-4779-b7eb-5b0f99e6f94a"
      },
      "outputs": [],
      "source": [
        "print('el valor mínimo de 2021 es: : ',df['2021'].min())"
      ]
    },
    {
      "cell_type": "code",
      "execution_count": null,
      "metadata": {
        "id": "80b1c352-6552-4be4-b56e-11265031bfa4"
      },
      "outputs": [],
      "source": [
        "print('el valor máximo de 2021 es: : ',df['2021'].max())"
      ]
    },
    {
      "cell_type": "code",
      "execution_count": null,
      "metadata": {
        "id": "824d6497-73cf-4c99-8a7e-1e9b4f6da640"
      },
      "outputs": [],
      "source": [
        "print('el rango de 2021 es: : ',df['2021'].max() - df['2021'].min())"
      ]
    },
    {
      "cell_type": "code",
      "execution_count": null,
      "metadata": {
        "id": "3c6bbd15-7adb-45ac-8e29-70d7bd6bd69e"
      },
      "outputs": [],
      "source": [
        "print('la desviación éstandar de 2021 es: : ',df['2021'].std())"
      ]
    },
    {
      "cell_type": "code",
      "execution_count": null,
      "metadata": {
        "id": "62f1a3a1-464c-478a-b77a-0dfe2076af30"
      },
      "outputs": [],
      "source": [
        "sns.histplot(data = df,x = '2021')\n",
        "plt.axvline(x=df.2021.mean(),color='red',linestyle='dashed',linewidth=2)"
      ]
    },
    {
      "cell_type": "markdown",
      "metadata": {
        "id": "8533f6dc-0fb0-4959-845a-a600500cb08e"
      },
      "source": [
        "## 2020\n",
        "type: object"
      ]
    },
    {
      "cell_type": "code",
      "execution_count": null,
      "metadata": {
        "id": "842e8254-841f-49f4-af78-7ad9a793c748"
      },
      "outputs": [],
      "source": [
        "df['2020'] = pd.to_numeric(df[f'2020'], errors='coerce')"
      ]
    },
    {
      "cell_type": "code",
      "execution_count": null,
      "metadata": {
        "id": "ec3cdc0b-6fa2-4403-8b84-c5cda1ede0d4"
      },
      "outputs": [],
      "source": [
        "print('la media es: ',df['2020'].mean())"
      ]
    },
    {
      "cell_type": "code",
      "execution_count": null,
      "metadata": {
        "id": "a7436b7f-4788-477b-a436-2353ba9d9897"
      },
      "outputs": [],
      "source": [
        "print('la moda es: ',df['2020'].mode())"
      ]
    },
    {
      "cell_type": "code",
      "execution_count": null,
      "metadata": {
        "id": "64aa7ec3-cdb3-4647-8d69-bf59f96bba4a"
      },
      "outputs": [],
      "source": [
        "print('la mediana es: ',df['2020'].median())"
      ]
    },
    {
      "cell_type": "code",
      "execution_count": null,
      "metadata": {
        "id": "d9784ca0-69ae-4c64-9fa0-8400878f0781"
      },
      "outputs": [],
      "source": [
        "print('el valor mínimo de 2020 es: : ',df['2020'].min())"
      ]
    },
    {
      "cell_type": "code",
      "execution_count": null,
      "metadata": {
        "id": "28b97dbc-dd61-48ce-a962-8a32e72f5ad7"
      },
      "outputs": [],
      "source": [
        "print('el valor máximo de 2020 es: : ',df['2020'].max())"
      ]
    },
    {
      "cell_type": "code",
      "execution_count": null,
      "metadata": {
        "id": "2f278e4b-c6b3-46e7-b03e-50ab0700b147"
      },
      "outputs": [],
      "source": [
        "print('el rango de 2020 es: : ',df['2020'].max() - df['2020'].min())"
      ]
    },
    {
      "cell_type": "code",
      "execution_count": null,
      "metadata": {
        "id": "ad9c261e-9e96-46e4-9b1f-269391c00203"
      },
      "outputs": [],
      "source": [
        "print('la desviación éstandar de 2020 es: : ',df['2020'].std())"
      ]
    },
    {
      "cell_type": "code",
      "execution_count": null,
      "metadata": {
        "id": "da219806-be55-4103-854d-219377318174"
      },
      "outputs": [],
      "source": [
        "sns.histplot(data = df,x = '2020')\n",
        "plt.axvline(x=df.2020.mean(),color='red',linestyle='dashed',linewidth=2)"
      ]
    },
    {
      "cell_type": "markdown",
      "metadata": {
        "id": "76b8bf43-0003-47e0-8ebb-32add1054ae9"
      },
      "source": [
        "## 2019\n",
        "type: object"
      ]
    },
    {
      "cell_type": "code",
      "execution_count": null,
      "metadata": {
        "id": "df92781b-674c-4658-970f-f18deb3e5fa4"
      },
      "outputs": [],
      "source": [
        "df['2019'] = pd.to_numeric(df[f'2019'], errors='coerce')"
      ]
    },
    {
      "cell_type": "code",
      "execution_count": null,
      "metadata": {
        "id": "8274b797-4f15-48b9-893f-b4a11fba972c"
      },
      "outputs": [],
      "source": [
        "print('la media es: ',df['2019'].mean())"
      ]
    },
    {
      "cell_type": "code",
      "execution_count": null,
      "metadata": {
        "id": "e8e0a0cb-57df-43a0-bed4-04ed7611c361"
      },
      "outputs": [],
      "source": [
        "print('la moda es: ',df['2019'].mode())"
      ]
    },
    {
      "cell_type": "code",
      "execution_count": null,
      "metadata": {
        "id": "0102726a-fb22-42ff-bb58-11d0e5987c41"
      },
      "outputs": [],
      "source": [
        "print('la mediana es: ',df['2019'].median())"
      ]
    },
    {
      "cell_type": "code",
      "execution_count": null,
      "metadata": {
        "id": "e79ef0bb-bba8-4d20-a131-d54c902589f9"
      },
      "outputs": [],
      "source": [
        "print('el valor mínimo de 2019 es: : ',df['2019'].min())"
      ]
    },
    {
      "cell_type": "code",
      "execution_count": null,
      "metadata": {
        "id": "4fb21fd6-29fc-48e8-8e86-469a0f531f7b"
      },
      "outputs": [],
      "source": [
        "print('el valor máximo de 2019 es: : ',df['2019'].max())"
      ]
    },
    {
      "cell_type": "code",
      "execution_count": null,
      "metadata": {
        "id": "785adda8-8a22-41a9-b039-a45e65edd642"
      },
      "outputs": [],
      "source": [
        "print('el rango de 2019 es: : ',df['2019'].max() - df['2019'].min())"
      ]
    },
    {
      "cell_type": "code",
      "execution_count": null,
      "metadata": {
        "id": "f44da546-c407-4d9e-a11e-276999cdb0ab"
      },
      "outputs": [],
      "source": [
        "print('la desviación éstandar de 2019 es: : ',df['2019'].std())"
      ]
    },
    {
      "cell_type": "code",
      "execution_count": null,
      "metadata": {
        "id": "db6e8ec8-4e5a-4068-a40e-c59c596be438"
      },
      "outputs": [],
      "source": [
        "sns.histplot(data = df,x = '2019')\n",
        "plt.axvline(x=df.2019.mean(),color='red',linestyle='dashed',linewidth=2)"
      ]
    },
    {
      "cell_type": "markdown",
      "metadata": {
        "id": "c027efe8-74da-4d04-b19e-9f4009567546"
      },
      "source": [
        "## 2018\n",
        "type: object"
      ]
    },
    {
      "cell_type": "code",
      "execution_count": null,
      "metadata": {
        "id": "ade0c810-3de7-47e7-a786-b973092b2daf"
      },
      "outputs": [],
      "source": [
        "df['2018'] = pd.to_numeric(df[f'2018'], errors='coerce')"
      ]
    },
    {
      "cell_type": "code",
      "execution_count": null,
      "metadata": {
        "id": "ec28dec5-32d4-45bb-9d94-acf4f11bf390"
      },
      "outputs": [],
      "source": [
        "print('la media es: ',df['2018'].mean())"
      ]
    },
    {
      "cell_type": "code",
      "execution_count": null,
      "metadata": {
        "id": "1f77be56-d0c1-42ca-8ee1-98755b3b854d"
      },
      "outputs": [],
      "source": [
        "print('la moda es: ',df['2018'].mode())"
      ]
    },
    {
      "cell_type": "code",
      "execution_count": null,
      "metadata": {
        "id": "75a1b0fc-9cb5-4705-830f-5751357c9875"
      },
      "outputs": [],
      "source": [
        "print('la mediana es: ',df['2018'].median())"
      ]
    },
    {
      "cell_type": "code",
      "execution_count": null,
      "metadata": {
        "id": "e8f6d93e-2764-447a-8db1-ea9017769fcc"
      },
      "outputs": [],
      "source": [
        "print('el valor mínimo de 2018 es: : ',df['2018'].min())"
      ]
    },
    {
      "cell_type": "code",
      "execution_count": null,
      "metadata": {
        "id": "4f66a658-b33b-46ae-ba1b-7f1b3b4d11cb"
      },
      "outputs": [],
      "source": [
        "print('el valor máximo de 2018 es: : ',df['2018'].max())"
      ]
    },
    {
      "cell_type": "code",
      "execution_count": null,
      "metadata": {
        "id": "c903b3ee-d6aa-4b96-8dbd-c728c93573c6"
      },
      "outputs": [],
      "source": [
        "print('el rango de 2018 es: : ',df['2018'].max() - df['2018'].min())"
      ]
    },
    {
      "cell_type": "code",
      "execution_count": null,
      "metadata": {
        "id": "c66d3ea9-1199-434a-b217-a92bc9f1a67c"
      },
      "outputs": [],
      "source": [
        "print('la desviación éstandar de 2018 es: : ',df['2018'].std())"
      ]
    },
    {
      "cell_type": "code",
      "execution_count": null,
      "metadata": {
        "id": "4f7ce9e2-cd1f-4dc3-8517-20ab90c75a01"
      },
      "outputs": [],
      "source": [
        "sns.histplot(data = df,x = '2018')\n",
        "plt.axvline(x=df.2018.mean(),color='red',linestyle='dashed',linewidth=2)"
      ]
    },
    {
      "cell_type": "markdown",
      "metadata": {
        "id": "1a6d9211-f537-4624-b6ff-c90636d01b8a"
      },
      "source": [
        "## 2017\n",
        "type: object"
      ]
    },
    {
      "cell_type": "code",
      "execution_count": null,
      "metadata": {
        "id": "8b768cf4-4f77-41c3-a402-92492ab9c8fc"
      },
      "outputs": [],
      "source": [
        "df['2017'] = pd.to_numeric(df[f'2017'], errors='coerce')"
      ]
    },
    {
      "cell_type": "code",
      "execution_count": null,
      "metadata": {
        "id": "dd6459ea-6e20-4103-80da-a46976cee877"
      },
      "outputs": [],
      "source": [
        "print('la media es: ',df['2017'].mean())"
      ]
    },
    {
      "cell_type": "code",
      "execution_count": null,
      "metadata": {
        "id": "2ee67ed5-469c-4095-9d4e-fa48d4224857"
      },
      "outputs": [],
      "source": [
        "print('la moda es: ',df['2017'].mode())"
      ]
    },
    {
      "cell_type": "code",
      "execution_count": null,
      "metadata": {
        "id": "f98b7dc8-1b05-4c59-b50a-734470a46a04"
      },
      "outputs": [],
      "source": [
        "print('la mediana es: ',df['2017'].median())"
      ]
    },
    {
      "cell_type": "code",
      "execution_count": null,
      "metadata": {
        "id": "303daba0-23a3-48f0-805b-9ef946190210"
      },
      "outputs": [],
      "source": [
        "print('el valor mínimo de 2017 es: : ',df['2017'].min())"
      ]
    },
    {
      "cell_type": "code",
      "execution_count": null,
      "metadata": {
        "id": "a6ab86e5-3b7f-452a-ba43-af0e2674a6d9"
      },
      "outputs": [],
      "source": [
        "print('el valor máximo de 2017 es: : ',df['2017'].max())"
      ]
    },
    {
      "cell_type": "code",
      "execution_count": null,
      "metadata": {
        "id": "15553b0d-6d8d-4302-b1cf-726a70d574fc"
      },
      "outputs": [],
      "source": [
        "print('el rango de 2017 es: : ',df['2017'].max() - df['2017'].min())"
      ]
    },
    {
      "cell_type": "code",
      "execution_count": null,
      "metadata": {
        "id": "02dfb234-c575-4963-97f9-15a888688781"
      },
      "outputs": [],
      "source": [
        "print('la desviación éstandar de 2017 es: : ',df['2017'].std())"
      ]
    },
    {
      "cell_type": "code",
      "execution_count": null,
      "metadata": {
        "id": "94417c3c-9f84-4e94-81d6-d50a7877931c"
      },
      "outputs": [],
      "source": [
        "sns.histplot(data = df,x = '2017')\n",
        "plt.axvline(x=df.2017.mean(),color='red',linestyle='dashed',linewidth=2)"
      ]
    },
    {
      "cell_type": "markdown",
      "metadata": {
        "id": "8932646c-a468-46b1-9bb3-bcf260f8c21a"
      },
      "source": [
        "## 2016\n",
        "type: object"
      ]
    },
    {
      "cell_type": "code",
      "execution_count": null,
      "metadata": {
        "id": "6f52acf7-319d-477f-9529-ea072b2700ff"
      },
      "outputs": [],
      "source": [
        "df['2016'] = pd.to_numeric(df[f'2016'], errors='coerce')"
      ]
    },
    {
      "cell_type": "code",
      "execution_count": null,
      "metadata": {
        "id": "0811a01a-46df-4c17-be03-6104a4029aad"
      },
      "outputs": [],
      "source": [
        "print('la media es: ',df['2016'].mean())"
      ]
    },
    {
      "cell_type": "code",
      "execution_count": null,
      "metadata": {
        "id": "349cefda-ca36-400c-b0d6-d6725a5ec2b8"
      },
      "outputs": [],
      "source": [
        "print('la moda es: ',df['2016'].mode())"
      ]
    },
    {
      "cell_type": "code",
      "execution_count": null,
      "metadata": {
        "id": "63adc1ac-c5f2-4e88-97ec-02617019d9e5"
      },
      "outputs": [],
      "source": [
        "print('la mediana es: ',df['2016'].median())"
      ]
    },
    {
      "cell_type": "code",
      "execution_count": null,
      "metadata": {
        "id": "9e6f9a92-d07c-4bf2-a391-11120855bfdc"
      },
      "outputs": [],
      "source": [
        "print('el valor mínimo de 2016 es: : ',df['2016'].min())"
      ]
    },
    {
      "cell_type": "code",
      "execution_count": null,
      "metadata": {
        "id": "13ef30a1-d865-4f81-95fb-5d7b3d95dd2a"
      },
      "outputs": [],
      "source": [
        "print('el valor máximo de 2016 es: : ',df['2016'].max())"
      ]
    },
    {
      "cell_type": "code",
      "execution_count": null,
      "metadata": {
        "id": "5d33309f-8ae6-43c3-807f-073763f31223"
      },
      "outputs": [],
      "source": [
        "print('el rango de 2016 es: : ',df['2016'].max() - df['2016'].min())"
      ]
    },
    {
      "cell_type": "code",
      "execution_count": null,
      "metadata": {
        "id": "835604d3-0614-454e-b070-eae8c6185f66"
      },
      "outputs": [],
      "source": [
        "print('la desviación éstandar de 2016 es: : ',df['2016'].std())"
      ]
    },
    {
      "cell_type": "code",
      "execution_count": null,
      "metadata": {
        "id": "827e0003-4c33-4779-bb63-71f7c9f5372f"
      },
      "outputs": [],
      "source": [
        "sns.histplot(data = df,x = '2016')\n",
        "plt.axvline(x=df.2016.mean(),color='red',linestyle='dashed',linewidth=2)"
      ]
    },
    {
      "cell_type": "markdown",
      "metadata": {
        "id": "3d9ab0c4-fe29-4281-a04b-e0096ff3fa5a"
      },
      "source": [
        "## 2015\n",
        "type: object"
      ]
    },
    {
      "cell_type": "code",
      "execution_count": null,
      "metadata": {
        "id": "e8a71aea-072c-415f-b5f8-a3fbc741cb4d"
      },
      "outputs": [],
      "source": [
        "df['2015'] = pd.to_numeric(df[f'2015'], errors='coerce')"
      ]
    },
    {
      "cell_type": "code",
      "execution_count": null,
      "metadata": {
        "id": "e714efc5-d088-4219-a4a1-ad526c946d04"
      },
      "outputs": [],
      "source": [
        "print('la media es: ',df['2015'].mean())"
      ]
    },
    {
      "cell_type": "code",
      "execution_count": null,
      "metadata": {
        "id": "66beda8e-91eb-40c7-87bf-bf65e112b31d"
      },
      "outputs": [],
      "source": [
        "print('la moda es: ',df['2015'].mode())"
      ]
    },
    {
      "cell_type": "code",
      "execution_count": null,
      "metadata": {
        "id": "97976e24-495f-42cf-83e3-28dc431aa387"
      },
      "outputs": [],
      "source": [
        "print('la mediana es: ',df['2015'].median())"
      ]
    },
    {
      "cell_type": "code",
      "execution_count": null,
      "metadata": {
        "id": "cc42f1f6-88e9-421d-abc4-5f2c08af6f99"
      },
      "outputs": [],
      "source": [
        "print('el valor mínimo de 2015 es: : ',df['2015'].min())"
      ]
    },
    {
      "cell_type": "code",
      "execution_count": null,
      "metadata": {
        "id": "4862bab9-7bdc-4c39-ab76-22829c7771d0"
      },
      "outputs": [],
      "source": [
        "print('el valor máximo de 2015 es: : ',df['2015'].max())"
      ]
    },
    {
      "cell_type": "code",
      "execution_count": null,
      "metadata": {
        "id": "f83df655-603e-4f0e-bb32-08f0055b01b7"
      },
      "outputs": [],
      "source": [
        "print('el rango de 2015 es: : ',df['2015'].max() - df['2015'].min())"
      ]
    },
    {
      "cell_type": "code",
      "execution_count": null,
      "metadata": {
        "id": "ee89a644-b2a8-4c01-bf11-384f12af0ae5"
      },
      "outputs": [],
      "source": [
        "print('la desviación éstandar de 2015 es: : ',df['2015'].std())"
      ]
    },
    {
      "cell_type": "code",
      "execution_count": null,
      "metadata": {
        "id": "15aa18d8-f115-4881-a7b7-7620cbcd37df"
      },
      "outputs": [],
      "source": [
        "sns.histplot(data = df,x = '2015')\n",
        "plt.axvline(x=df.2015.mean(),color='red',linestyle='dashed',linewidth=2)"
      ]
    },
    {
      "cell_type": "markdown",
      "metadata": {
        "id": "9a89dbc7-9ae0-4be9-aabc-54557c056a6f"
      },
      "source": [
        "## 2014\n",
        "type: object"
      ]
    },
    {
      "cell_type": "code",
      "execution_count": null,
      "metadata": {
        "id": "7b2b9690-b4b9-4f41-b148-455990378b64"
      },
      "outputs": [],
      "source": [
        "df['2014'] = pd.to_numeric(df[f'2014'], errors='coerce')"
      ]
    },
    {
      "cell_type": "code",
      "execution_count": null,
      "metadata": {
        "id": "c49ca136-3ec5-4f26-8f12-bf0e1fdf52c1"
      },
      "outputs": [],
      "source": [
        "print('la media es: ',df['2014'].mean())"
      ]
    },
    {
      "cell_type": "code",
      "execution_count": null,
      "metadata": {
        "id": "d3c22180-bd7b-4536-8e02-ad4dff1c04f7"
      },
      "outputs": [],
      "source": [
        "print('la moda es: ',df['2014'].mode())"
      ]
    },
    {
      "cell_type": "code",
      "execution_count": null,
      "metadata": {
        "id": "e91fc428-53e4-4d6a-89ac-70fc9656cfc0"
      },
      "outputs": [],
      "source": [
        "print('la mediana es: ',df['2014'].median())"
      ]
    },
    {
      "cell_type": "code",
      "execution_count": null,
      "metadata": {
        "id": "5728173c-e37d-4f9c-81a0-5f4f9fcca082"
      },
      "outputs": [],
      "source": [
        "print('el valor mínimo de 2014 es: : ',df['2014'].min())"
      ]
    },
    {
      "cell_type": "code",
      "execution_count": null,
      "metadata": {
        "id": "37717b4f-75b7-4771-b325-200ec516cd5f"
      },
      "outputs": [],
      "source": [
        "print('el valor máximo de 2014 es: : ',df['2014'].max())"
      ]
    },
    {
      "cell_type": "code",
      "execution_count": null,
      "metadata": {
        "id": "11ceec40-8820-47dd-bd55-563faac88f5c"
      },
      "outputs": [],
      "source": [
        "print('el rango de 2014 es: : ',df['2014'].max() - df['2014'].min())"
      ]
    },
    {
      "cell_type": "code",
      "execution_count": null,
      "metadata": {
        "id": "ea803c93-1035-4b87-bedb-318ddb5724e3"
      },
      "outputs": [],
      "source": [
        "print('la desviación éstandar de 2014 es: : ',df['2014'].std())"
      ]
    },
    {
      "cell_type": "code",
      "execution_count": null,
      "metadata": {
        "id": "61f20bcf-2f81-41ba-9fa2-13f7573da859"
      },
      "outputs": [],
      "source": [
        "sns.histplot(data = df,x = '2014')\n",
        "plt.axvline(x=df.2014.mean(),color='red',linestyle='dashed',linewidth=2)"
      ]
    },
    {
      "cell_type": "markdown",
      "metadata": {
        "id": "028ab005-18c2-4ba4-93cf-92d6b40b33f1"
      },
      "source": [
        "## 2013\n",
        "type: object"
      ]
    },
    {
      "cell_type": "code",
      "execution_count": null,
      "metadata": {
        "id": "5ebad76d-139a-460c-b708-84d2de75b217"
      },
      "outputs": [],
      "source": [
        "df['2013'] = pd.to_numeric(df[f'2013'], errors='coerce')"
      ]
    },
    {
      "cell_type": "code",
      "execution_count": null,
      "metadata": {
        "id": "2fe413f9-1aa9-4e4f-8187-f0f28081478e"
      },
      "outputs": [],
      "source": [
        "print('la media es: ',df['2013'].mean())"
      ]
    },
    {
      "cell_type": "code",
      "execution_count": null,
      "metadata": {
        "id": "a5a53625-f8ea-45ae-9dbf-95eee8df73a2"
      },
      "outputs": [],
      "source": [
        "print('la moda es: ',df['2013'].mode())"
      ]
    },
    {
      "cell_type": "code",
      "execution_count": null,
      "metadata": {
        "id": "9be41d5a-f810-4cd9-a7c9-49a72f7fb131"
      },
      "outputs": [],
      "source": [
        "print('la mediana es: ',df['2013'].median())"
      ]
    },
    {
      "cell_type": "code",
      "execution_count": null,
      "metadata": {
        "id": "94939609-de93-4e98-b72f-b5444c9fa483"
      },
      "outputs": [],
      "source": [
        "print('el valor mínimo de 2013 es: : ',df['2013'].min())"
      ]
    },
    {
      "cell_type": "code",
      "execution_count": null,
      "metadata": {
        "id": "6234db4c-7890-4eb0-9ed7-1ea455cce68f"
      },
      "outputs": [],
      "source": [
        "print('el valor máximo de 2013 es: : ',df['2013'].max())"
      ]
    },
    {
      "cell_type": "code",
      "execution_count": null,
      "metadata": {
        "id": "ce1ef348-ae07-42a6-9442-2e528f316ac4"
      },
      "outputs": [],
      "source": [
        "print('el rango de 2013 es: : ',df['2013'].max() - df['2013'].min())"
      ]
    },
    {
      "cell_type": "code",
      "execution_count": null,
      "metadata": {
        "id": "fc2cfdf5-0681-47be-9bb1-071534ec8968"
      },
      "outputs": [],
      "source": [
        "print('la desviación éstandar de 2013 es: : ',df['2013'].std())"
      ]
    },
    {
      "cell_type": "code",
      "execution_count": null,
      "metadata": {
        "id": "4d49215e-e85a-40cc-9eba-366cc9ef4517"
      },
      "outputs": [],
      "source": [
        "sns.histplot(data = df,x = '2013')\n",
        "plt.axvline(x=df.2013.mean(),color='red',linestyle='dashed',linewidth=2)"
      ]
    },
    {
      "cell_type": "markdown",
      "metadata": {
        "id": "a66e0867-70cd-4c95-a430-cc9fdbb6aaef"
      },
      "source": [
        "## 2012_2008\n",
        "type: object"
      ]
    },
    {
      "cell_type": "code",
      "execution_count": null,
      "metadata": {
        "id": "5b37ce00-78f5-4287-b8bb-cca7afe75c9f"
      },
      "outputs": [],
      "source": [
        "df['2012_2008'] = df['2012_2008'].astype(str)\n",
        "df['2012_2008'] = df['2012_2008'].str.replace('.0','')\n",
        "df['2012_2008'].unique()"
      ]
    },
    {
      "cell_type": "code",
      "execution_count": null,
      "metadata": {
        "id": "f4108efa-2d2e-4e8c-a9ed-591a3cea2c52"
      },
      "outputs": [],
      "source": [
        "df['2012_2008'].value_counts()"
      ]
    },
    {
      "cell_type": "code",
      "execution_count": null,
      "metadata": {
        "id": "8a62bf0d-25de-410b-9ec2-99949b129bac"
      },
      "outputs": [],
      "source": [
        "plt.figure(figsize=(10,5))\n",
        "df['2012_2008'].value_counts()[:15].plot(kind='pie')"
      ]
    },
    {
      "cell_type": "code",
      "execution_count": null,
      "metadata": {
        "id": "93cc8a86-e338-40e4-a325-0f411d539765"
      },
      "outputs": [],
      "source": [
        "plt.figure(figsize=(30,5))\n",
        "df['2012_2008'].value_counts()[:15].plot(kind='barh')"
      ]
    },
    {
      "cell_type": "markdown",
      "metadata": {
        "id": "bce12aed-7d09-4769-a245-2eab3618bda3"
      },
      "source": [
        "# Sweetviz report"
      ]
    },
    {
      "cell_type": "code",
      "execution_count": null,
      "metadata": {
        "id": "aba99f5b-39dd-4346-9c29-9e92afac0a54"
      },
      "outputs": [],
      "source": [
        "sweet_report = sv.analyze(df)\n",
        "sweet_report.show_html(f'{path_dir}sw_report_financial statements (TSLA).xlsx_ratio annually.html')"
      ]
    }
  ],
  "metadata": {
    "colab": {
      "provenance": []
    },
    "kernelspec": {
      "display_name": "Python 3",
      "name": "python3"
    },
    "language_info": {
      "name": "python"
    }
  },
  "nbformat": 4,
  "nbformat_minor": 0
}
