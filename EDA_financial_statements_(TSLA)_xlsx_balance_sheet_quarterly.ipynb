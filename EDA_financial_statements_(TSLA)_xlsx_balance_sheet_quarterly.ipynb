{
  "nbformat": 4,
  "nbformat_minor": 0,
  "metadata": {
    "colab": {
      "provenance": [],
      "include_colab_link": true
    },
    "kernelspec": {
      "name": "python3",
      "display_name": "Python 3"
    },
    "language_info": {
      "name": "python"
    }
  },
  "cells": [
    {
      "cell_type": "markdown",
      "metadata": {
        "id": "view-in-github",
        "colab_type": "text"
      },
      "source": [
        "<a href=\"https://colab.research.google.com/github/Al-goritmus/finantial_web_scrapping_python/blob/master/EDA_financial_statements_(TSLA)_xlsx_balance_sheet_quarterly.ipynb\" target=\"_parent\"><img src=\"https://colab.research.google.com/assets/colab-badge.svg\" alt=\"Open In Colab\"/></a>"
      ]
    },
    {
      "cell_type": "markdown",
      "source": [
        "# Import libraries"
      ],
      "metadata": {
        "id": "8ae0ad54-104f-4db5-a103-d1da02135044"
      }
    },
    {
      "cell_type": "code",
      "execution_count": null,
      "metadata": {
        "id": "31bd9b76-c461-4c63-8bdb-f3e7f7179310"
      },
      "outputs": [],
      "source": [
        "!pip install sweetviz\n"
      ]
    },
    {
      "cell_type": "code",
      "outputs": [],
      "execution_count": null,
      "metadata": {
        "id": "238eb49a-d9c9-40e7-8234-907acd726f17"
      },
      "source": [
        "import pandas as pd\n",
        "import psycopg2\n",
        "import numpy as np\n",
        "import matplotlib.pyplot     as plt\n",
        "import matplotlib.patches    as mpatches\n",
        "import seaborn               as sns\n",
        "import sweetviz as sv\n",
        "import sklearn.metrics       as Metrics\n",
        "from google.colab import drive\n",
        "from pandas_profiling import ProfileReport\n",
        "%matplotlib inline"
      ]
    },
    {
      "cell_type": "markdown",
      "source": [
        "# Read file"
      ],
      "metadata": {
        "id": "0630fe28-4810-4297-9645-0858484448d6"
      }
    },
    {
      "cell_type": "code",
      "execution_count": null,
      "metadata": {
        "id": "c7e9f8c3-5cf0-4060-9f20-191bde84b5b9"
      },
      "outputs": [],
      "source": [
        "drive.mount('/content/drive')\n"
      ]
    },
    {
      "cell_type": "code",
      "execution_count": null,
      "metadata": {
        "id": "de8549dc-64ac-45d9-b4c6-a3928558fbc7"
      },
      "outputs": [],
      "source": [
        "path_dir = '/mnt/f/PythonFinanceProjects/'\n",
        "filename = 'financial statements (TSLA).xlsx'\n",
        "sheet = 'balance sheet quarterly'\n"
      ]
    },
    {
      "cell_type": "code",
      "execution_count": null,
      "metadata": {
        "id": "ddc7c080-de97-4ff9-8f97-607d7bea9e8d"
      },
      "outputs": [],
      "source": [
        "df = pd.read_excel(f'{path_dir}{filename}', sheet_name=sheet, header=0)"
      ]
    },
    {
      "cell_type": "code",
      "execution_count": null,
      "metadata": {
        "id": "3474ef88-bb9c-4702-b9ec-81dbcb33d3b7"
      },
      "outputs": [],
      "source": [
        "df"
      ]
    },
    {
      "cell_type": "markdown",
      "source": [
        "# Normalize_cols"
      ],
      "metadata": {
        "id": "37eab962-4be4-434c-ba41-771b911afb06"
      }
    },
    {
      "cell_type": "code",
      "execution_count": null,
      "metadata": {
        "id": "c7ecf35c-58d0-4ca0-9fce-8137200f9113"
      },
      "outputs": [],
      "source": [
        "def remove_accents_cols(df_cols):\n",
        "    return df_cols.str.replace('ñ','ni').str.normalize('NFKD').str.encode('ascii', errors='ignore').str.decode('utf-8')\n",
        "def remove_special_chars(df_cols):\n",
        "    return df_cols.str.replace(r'[$@&/.:-]',' ', regex=True)\n",
        "def regular_camel_case(snake_str):\n",
        "    components = snake_str.split('_')\n",
        "    return components[0] + ''.join(x.title() for x in components[1:])\n",
        "def regular_snake_case(df_cols):\n",
        "    cols = df_cols.str.replace('ñ','ni')\n",
        "    cols = cols.str.lower().str.replace('/',' ').str.replace('.',' ').str.strip()\n",
        "    cols = cols.str.replace(r'\\s+',' ',regex=True)\n",
        "    cols = cols.str.replace(' ','_')\n",
        "    return cols"
      ]
    },
    {
      "cell_type": "code",
      "execution_count": null,
      "metadata": {
        "id": "ee21dd95-c8f9-4a62-8f7f-b8ac2392ab8d"
      },
      "outputs": [],
      "source": [
        "df.columns = remove_accents_cols(df.columns)\n",
        "df.columns = remove_special_chars(df.columns)\n",
        "df.columns = regular_snake_case(df.columns)"
      ]
    },
    {
      "cell_type": "code",
      "execution_count": null,
      "metadata": {
        "id": "fea1ef2e-10b9-48b9-b312-3d43550f2668"
      },
      "outputs": [],
      "source": [
        "df"
      ]
    },
    {
      "cell_type": "markdown",
      "source": [
        "# General stats cells"
      ],
      "metadata": {
        "id": "86eb8445-d9aa-4f9b-a3d1-4086254a4e36"
      }
    },
    {
      "cell_type": "code",
      "execution_count": null,
      "metadata": {
        "id": "b004237f-6b98-40af-b648-e78d305f29c4"
      },
      "outputs": [],
      "source": [
        "df.describe()"
      ]
    },
    {
      "cell_type": "code",
      "execution_count": null,
      "metadata": {
        "id": "f71e5abc-6f6d-43eb-8c28-2951fd3f62a2"
      },
      "outputs": [],
      "source": [
        "df.dtypes\n"
      ]
    },
    {
      "cell_type": "code",
      "execution_count": null,
      "metadata": {
        "id": "a09e1c63-a4fd-4d0f-9c80-dc65a1ca5ffd"
      },
      "outputs": [],
      "source": [
        "df.info()"
      ]
    },
    {
      "cell_type": "code",
      "execution_count": null,
      "metadata": {
        "id": "90b5306a-a19e-49a3-9180-37f9eea83ae4"
      },
      "outputs": [],
      "source": [
        "print('recuento de columnas por tipo: ', df.dtypes.value_counts())\n",
        "print('sumatoria de valores nulos en el dataframe: ', df.isna().sum())"
      ]
    },
    {
      "cell_type": "markdown",
      "source": [
        "# General Analyst by columns"
      ],
      "metadata": {
        "id": "36a8abd3-a447-4c16-814e-76f93750593d"
      }
    },
    {
      "cell_type": "markdown",
      "source": [
        "## year\n",
        "type: object"
      ],
      "metadata": {
        "id": "b59e926b-beb8-41ec-a1cc-0f8ab93c02dd"
      }
    },
    {
      "cell_type": "code",
      "execution_count": null,
      "metadata": {
        "id": "8b0a46b7-2537-4213-9fb5-c4e7289d3303"
      },
      "outputs": [],
      "source": [
        "df['year'] = df['year'].astype(str)\n",
        "df['year'] = df['year'].str.replace('.0','')\n",
        "df['year'].unique()"
      ]
    },
    {
      "cell_type": "code",
      "execution_count": null,
      "metadata": {
        "id": "9195414f-7bd8-4fdc-94c0-98a01b49eb71"
      },
      "outputs": [],
      "source": [
        "df['year'].value_counts()"
      ]
    },
    {
      "cell_type": "code",
      "execution_count": null,
      "metadata": {
        "id": "aaa1669b-a061-46ad-94b5-81301d0e7390"
      },
      "outputs": [],
      "source": [
        "plt.figure(figsize=(10,5))\n",
        "df['year'].value_counts()[:15].plot(kind='pie')"
      ]
    },
    {
      "cell_type": "code",
      "execution_count": null,
      "metadata": {
        "id": "9d14f356-4cd4-4085-8618-258fff741e51"
      },
      "outputs": [],
      "source": [
        "plt.figure(figsize=(30,5))\n",
        "df['year'].value_counts()[:15].plot(kind='barh')"
      ]
    },
    {
      "cell_type": "markdown",
      "source": [
        "## 2022\n",
        "type: object"
      ],
      "metadata": {
        "id": "fcb5c326-f865-4c98-99e9-7729171bbf0b"
      }
    },
    {
      "cell_type": "code",
      "execution_count": null,
      "metadata": {
        "id": "705f5aef-5d7d-45f7-9a10-d45a3f4c328b"
      },
      "outputs": [],
      "source": [
        "df['2022'] = pd.to_numeric(df[f'2022'], errors='coerce')"
      ]
    },
    {
      "cell_type": "code",
      "execution_count": null,
      "metadata": {
        "id": "bd129bd9-1915-4438-886d-3704116d6299"
      },
      "outputs": [],
      "source": [
        "print('la media es: ',df['2022'].mean())"
      ]
    },
    {
      "cell_type": "code",
      "execution_count": null,
      "metadata": {
        "id": "d054f7b0-cf8a-4005-b575-76c0fc0f8314"
      },
      "outputs": [],
      "source": [
        "print('la moda es: ',df['2022'].mode())"
      ]
    },
    {
      "cell_type": "code",
      "execution_count": null,
      "metadata": {
        "id": "f7764548-f7c6-4352-9e07-f34830fd9e51"
      },
      "outputs": [],
      "source": [
        "print('la mediana es: ',df['2022'].median())"
      ]
    },
    {
      "cell_type": "code",
      "execution_count": null,
      "metadata": {
        "id": "522d1f11-0f1e-4449-b1d0-25978bd9a142"
      },
      "outputs": [],
      "source": [
        "print('el valor mínimo de 2022 es: : ',df['2022'].min())"
      ]
    },
    {
      "cell_type": "code",
      "execution_count": null,
      "metadata": {
        "id": "bb4507a5-91b9-4b5f-972c-ff92191f63b1"
      },
      "outputs": [],
      "source": [
        "print('el valor máximo de 2022 es: : ',df['2022'].max())"
      ]
    },
    {
      "cell_type": "code",
      "execution_count": null,
      "metadata": {
        "id": "0c56c750-4edc-4eed-83fb-6e18c33edb5c"
      },
      "outputs": [],
      "source": [
        "print('el rango de 2022 es: : ',df['2022'].max() - df['2022'].min())"
      ]
    },
    {
      "cell_type": "code",
      "execution_count": null,
      "metadata": {
        "id": "661a60c9-d960-42e4-a40c-881f96fd3f71"
      },
      "outputs": [],
      "source": [
        "print('la desviación éstandar de 2022 es: : ',df['2022'].std())"
      ]
    },
    {
      "cell_type": "code",
      "execution_count": null,
      "metadata": {
        "id": "e9822210-fdf3-4361-acbf-5ba0dc89bb00"
      },
      "outputs": [],
      "source": [
        "sns.histplot(data = df,x = '2022')\n",
        "plt.axvline(x=df.2022.mean(),color='red',linestyle='dashed',linewidth=2)"
      ]
    },
    {
      "cell_type": "markdown",
      "source": [
        "## 2021\n",
        "type: object"
      ],
      "metadata": {
        "id": "d81fae9e-446d-43de-9f9a-8d6e73239a3b"
      }
    },
    {
      "cell_type": "code",
      "execution_count": null,
      "metadata": {
        "id": "04ac4cad-2087-4f81-9b87-d57be4c32062"
      },
      "outputs": [],
      "source": [
        "df['2021'] = pd.to_numeric(df[f'2021'], errors='coerce')"
      ]
    },
    {
      "cell_type": "code",
      "execution_count": null,
      "metadata": {
        "id": "43a44f79-5b80-45a1-aeda-a32f66cdc235"
      },
      "outputs": [],
      "source": [
        "print('la media es: ',df['2021'].mean())"
      ]
    },
    {
      "cell_type": "code",
      "execution_count": null,
      "metadata": {
        "id": "2c342bca-51c1-4ddf-a41e-acb4a7048150"
      },
      "outputs": [],
      "source": [
        "print('la moda es: ',df['2021'].mode())"
      ]
    },
    {
      "cell_type": "code",
      "execution_count": null,
      "metadata": {
        "id": "ea1ccc9a-c833-4031-b199-8addbab7c054"
      },
      "outputs": [],
      "source": [
        "print('la mediana es: ',df['2021'].median())"
      ]
    },
    {
      "cell_type": "code",
      "execution_count": null,
      "metadata": {
        "id": "6983dcd0-fdba-479d-98f1-4f368cff2544"
      },
      "outputs": [],
      "source": [
        "print('el valor mínimo de 2021 es: : ',df['2021'].min())"
      ]
    },
    {
      "cell_type": "code",
      "execution_count": null,
      "metadata": {
        "id": "c5adb809-21f4-4166-b73a-45864b4fc2dd"
      },
      "outputs": [],
      "source": [
        "print('el valor máximo de 2021 es: : ',df['2021'].max())"
      ]
    },
    {
      "cell_type": "code",
      "execution_count": null,
      "metadata": {
        "id": "1b33084c-15e0-442e-8cfd-51f385d22e4c"
      },
      "outputs": [],
      "source": [
        "print('el rango de 2021 es: : ',df['2021'].max() - df['2021'].min())"
      ]
    },
    {
      "cell_type": "code",
      "execution_count": null,
      "metadata": {
        "id": "c09f2e02-884c-4ba5-b6da-af75d51cccf2"
      },
      "outputs": [],
      "source": [
        "print('la desviación éstandar de 2021 es: : ',df['2021'].std())"
      ]
    },
    {
      "cell_type": "code",
      "execution_count": null,
      "metadata": {
        "id": "f0d83caa-886b-4a14-a687-8031d14810b3"
      },
      "outputs": [],
      "source": [
        "sns.histplot(data = df,x = '2021')\n",
        "plt.axvline(x=df.2021.mean(),color='red',linestyle='dashed',linewidth=2)"
      ]
    },
    {
      "cell_type": "markdown",
      "source": [
        "## 2020\n",
        "type: object"
      ],
      "metadata": {
        "id": "4e3c1b0d-b120-4734-b301-fe70a5b8e136"
      }
    },
    {
      "cell_type": "code",
      "execution_count": null,
      "metadata": {
        "id": "677db09b-6522-4b24-86ba-997b0b74dd6b"
      },
      "outputs": [],
      "source": [
        "df['2020'] = pd.to_numeric(df[f'2020'], errors='coerce')"
      ]
    },
    {
      "cell_type": "code",
      "execution_count": null,
      "metadata": {
        "id": "d18ae473-a26a-44eb-9d29-eee79649a633"
      },
      "outputs": [],
      "source": [
        "print('la media es: ',df['2020'].mean())"
      ]
    },
    {
      "cell_type": "code",
      "execution_count": null,
      "metadata": {
        "id": "a3b287c3-f1d0-4023-a58f-1595bb3815c9"
      },
      "outputs": [],
      "source": [
        "print('la moda es: ',df['2020'].mode())"
      ]
    },
    {
      "cell_type": "code",
      "execution_count": null,
      "metadata": {
        "id": "5b253696-9856-480a-9cd7-cf0cb8f49161"
      },
      "outputs": [],
      "source": [
        "print('la mediana es: ',df['2020'].median())"
      ]
    },
    {
      "cell_type": "code",
      "execution_count": null,
      "metadata": {
        "id": "e54257f3-26d7-4630-a85a-7d02d6bf815f"
      },
      "outputs": [],
      "source": [
        "print('el valor mínimo de 2020 es: : ',df['2020'].min())"
      ]
    },
    {
      "cell_type": "code",
      "execution_count": null,
      "metadata": {
        "id": "7193f4b3-9d20-492e-b985-b71ee7ca169f"
      },
      "outputs": [],
      "source": [
        "print('el valor máximo de 2020 es: : ',df['2020'].max())"
      ]
    },
    {
      "cell_type": "code",
      "execution_count": null,
      "metadata": {
        "id": "18cadd9e-1846-4c28-8b00-5f6964751fac"
      },
      "outputs": [],
      "source": [
        "print('el rango de 2020 es: : ',df['2020'].max() - df['2020'].min())"
      ]
    },
    {
      "cell_type": "code",
      "execution_count": null,
      "metadata": {
        "id": "6b97cfca-a6be-497a-9e6e-7aad8cf8ae4f"
      },
      "outputs": [],
      "source": [
        "print('la desviación éstandar de 2020 es: : ',df['2020'].std())"
      ]
    },
    {
      "cell_type": "code",
      "execution_count": null,
      "metadata": {
        "id": "1f366534-7e35-422e-a2bb-84c293459287"
      },
      "outputs": [],
      "source": [
        "sns.histplot(data = df,x = '2020')\n",
        "plt.axvline(x=df.2020.mean(),color='red',linestyle='dashed',linewidth=2)"
      ]
    },
    {
      "cell_type": "markdown",
      "source": [
        "## 2019\n",
        "type: object"
      ],
      "metadata": {
        "id": "7ae63331-21c1-4558-97c2-fe8f0723d710"
      }
    },
    {
      "cell_type": "code",
      "execution_count": null,
      "metadata": {
        "id": "dc069dec-1e3f-4f42-858d-eacb4e70a581"
      },
      "outputs": [],
      "source": [
        "df['2019'] = pd.to_numeric(df[f'2019'], errors='coerce')"
      ]
    },
    {
      "cell_type": "code",
      "execution_count": null,
      "metadata": {
        "id": "3350e594-1bb0-4d12-b944-af818314a9e1"
      },
      "outputs": [],
      "source": [
        "print('la media es: ',df['2019'].mean())"
      ]
    },
    {
      "cell_type": "code",
      "execution_count": null,
      "metadata": {
        "id": "a93121e3-efc8-47a1-9611-cab39aad88cb"
      },
      "outputs": [],
      "source": [
        "print('la moda es: ',df['2019'].mode())"
      ]
    },
    {
      "cell_type": "code",
      "execution_count": null,
      "metadata": {
        "id": "40f8507d-bb82-47b4-b289-9af939daf9f1"
      },
      "outputs": [],
      "source": [
        "print('la mediana es: ',df['2019'].median())"
      ]
    },
    {
      "cell_type": "code",
      "execution_count": null,
      "metadata": {
        "id": "e769d4de-06a0-4ea8-acba-92e20731f458"
      },
      "outputs": [],
      "source": [
        "print('el valor mínimo de 2019 es: : ',df['2019'].min())"
      ]
    },
    {
      "cell_type": "code",
      "execution_count": null,
      "metadata": {
        "id": "23759e0f-0347-4e18-a903-aa28c4dbe4ae"
      },
      "outputs": [],
      "source": [
        "print('el valor máximo de 2019 es: : ',df['2019'].max())"
      ]
    },
    {
      "cell_type": "code",
      "execution_count": null,
      "metadata": {
        "id": "c4558054-b854-4f39-acea-8ef4000c7426"
      },
      "outputs": [],
      "source": [
        "print('el rango de 2019 es: : ',df['2019'].max() - df['2019'].min())"
      ]
    },
    {
      "cell_type": "code",
      "execution_count": null,
      "metadata": {
        "id": "71c140ec-1ddd-4233-8376-4e8de3f2bed0"
      },
      "outputs": [],
      "source": [
        "print('la desviación éstandar de 2019 es: : ',df['2019'].std())"
      ]
    },
    {
      "cell_type": "code",
      "execution_count": null,
      "metadata": {
        "id": "0a744742-7e03-4fec-a612-6cd45b5216ed"
      },
      "outputs": [],
      "source": [
        "sns.histplot(data = df,x = '2019')\n",
        "plt.axvline(x=df.2019.mean(),color='red',linestyle='dashed',linewidth=2)"
      ]
    },
    {
      "cell_type": "markdown",
      "source": [
        "## 2018\n",
        "type: object"
      ],
      "metadata": {
        "id": "13b05adc-c85d-46a9-a8cf-11d7e16d6154"
      }
    },
    {
      "cell_type": "code",
      "execution_count": null,
      "metadata": {
        "id": "d2b22589-610c-4b05-abaf-1efdc00e427f"
      },
      "outputs": [],
      "source": [
        "df['2018'] = pd.to_numeric(df[f'2018'], errors='coerce')"
      ]
    },
    {
      "cell_type": "code",
      "execution_count": null,
      "metadata": {
        "id": "f253ba67-0503-4eb3-b476-f12a3a886dcd"
      },
      "outputs": [],
      "source": [
        "print('la media es: ',df['2018'].mean())"
      ]
    },
    {
      "cell_type": "code",
      "execution_count": null,
      "metadata": {
        "id": "87192295-0b67-4f81-b316-5e497adf6e98"
      },
      "outputs": [],
      "source": [
        "print('la moda es: ',df['2018'].mode())"
      ]
    },
    {
      "cell_type": "code",
      "execution_count": null,
      "metadata": {
        "id": "97be7035-c1d3-4bc3-ac17-9dac161fac3f"
      },
      "outputs": [],
      "source": [
        "print('la mediana es: ',df['2018'].median())"
      ]
    },
    {
      "cell_type": "code",
      "execution_count": null,
      "metadata": {
        "id": "0716e8b8-f098-4eea-8d23-0b9c99c5e3d8"
      },
      "outputs": [],
      "source": [
        "print('el valor mínimo de 2018 es: : ',df['2018'].min())"
      ]
    },
    {
      "cell_type": "code",
      "execution_count": null,
      "metadata": {
        "id": "89575b87-a9e6-4172-85a4-2991f53357aa"
      },
      "outputs": [],
      "source": [
        "print('el valor máximo de 2018 es: : ',df['2018'].max())"
      ]
    },
    {
      "cell_type": "code",
      "execution_count": null,
      "metadata": {
        "id": "7d3a811d-9251-45db-bb5a-d9e0f2f0a821"
      },
      "outputs": [],
      "source": [
        "print('el rango de 2018 es: : ',df['2018'].max() - df['2018'].min())"
      ]
    },
    {
      "cell_type": "code",
      "execution_count": null,
      "metadata": {
        "id": "e028e28a-9bdb-4f6c-939c-b8a4c9751829"
      },
      "outputs": [],
      "source": [
        "print('la desviación éstandar de 2018 es: : ',df['2018'].std())"
      ]
    },
    {
      "cell_type": "code",
      "execution_count": null,
      "metadata": {
        "id": "ee9118cf-9456-48f1-8ead-0d21958adb6f"
      },
      "outputs": [],
      "source": [
        "sns.histplot(data = df,x = '2018')\n",
        "plt.axvline(x=df.2018.mean(),color='red',linestyle='dashed',linewidth=2)"
      ]
    },
    {
      "cell_type": "markdown",
      "source": [
        "## 2017\n",
        "type: object"
      ],
      "metadata": {
        "id": "620fbbe2-12e2-445e-9db0-e537d64d90b4"
      }
    },
    {
      "cell_type": "code",
      "execution_count": null,
      "metadata": {
        "id": "252b8381-2c3b-4edd-aef0-e10eba6d2d49"
      },
      "outputs": [],
      "source": [
        "df['2017'] = pd.to_numeric(df[f'2017'], errors='coerce')"
      ]
    },
    {
      "cell_type": "code",
      "execution_count": null,
      "metadata": {
        "id": "9a916e39-2117-45eb-869b-7fc4e668c6df"
      },
      "outputs": [],
      "source": [
        "print('la media es: ',df['2017'].mean())"
      ]
    },
    {
      "cell_type": "code",
      "execution_count": null,
      "metadata": {
        "id": "b8495e4b-678d-4191-af8a-7465c1b3514e"
      },
      "outputs": [],
      "source": [
        "print('la moda es: ',df['2017'].mode())"
      ]
    },
    {
      "cell_type": "code",
      "execution_count": null,
      "metadata": {
        "id": "1bcacac6-f5cc-4896-8f11-ee04d076e924"
      },
      "outputs": [],
      "source": [
        "print('la mediana es: ',df['2017'].median())"
      ]
    },
    {
      "cell_type": "code",
      "execution_count": null,
      "metadata": {
        "id": "c2441d03-bd4a-4191-9e5b-3ac52df4e405"
      },
      "outputs": [],
      "source": [
        "print('el valor mínimo de 2017 es: : ',df['2017'].min())"
      ]
    },
    {
      "cell_type": "code",
      "execution_count": null,
      "metadata": {
        "id": "c5d88814-f9d3-4852-9994-89b85860199f"
      },
      "outputs": [],
      "source": [
        "print('el valor máximo de 2017 es: : ',df['2017'].max())"
      ]
    },
    {
      "cell_type": "code",
      "execution_count": null,
      "metadata": {
        "id": "51b7937b-91c1-4bc2-a312-2f157658e250"
      },
      "outputs": [],
      "source": [
        "print('el rango de 2017 es: : ',df['2017'].max() - df['2017'].min())"
      ]
    },
    {
      "cell_type": "code",
      "execution_count": null,
      "metadata": {
        "id": "bc87e610-f91e-4668-acb2-f8e7224afc27"
      },
      "outputs": [],
      "source": [
        "print('la desviación éstandar de 2017 es: : ',df['2017'].std())"
      ]
    },
    {
      "cell_type": "code",
      "execution_count": null,
      "metadata": {
        "id": "0153f15c-a490-49c4-93ed-f02dd172033c"
      },
      "outputs": [],
      "source": [
        "sns.histplot(data = df,x = '2017')\n",
        "plt.axvline(x=df.2017.mean(),color='red',linestyle='dashed',linewidth=2)"
      ]
    },
    {
      "cell_type": "markdown",
      "source": [
        "## 2016\n",
        "type: object"
      ],
      "metadata": {
        "id": "09e07cc4-6a58-4d6d-83a5-11ed6c71b2b5"
      }
    },
    {
      "cell_type": "code",
      "execution_count": null,
      "metadata": {
        "id": "b683d0bb-1762-4490-a894-ca9ddfa006b1"
      },
      "outputs": [],
      "source": [
        "df['2016'] = pd.to_numeric(df[f'2016'], errors='coerce')"
      ]
    },
    {
      "cell_type": "code",
      "execution_count": null,
      "metadata": {
        "id": "14da264f-c53b-48a4-b1c7-45fdbba495f7"
      },
      "outputs": [],
      "source": [
        "print('la media es: ',df['2016'].mean())"
      ]
    },
    {
      "cell_type": "code",
      "execution_count": null,
      "metadata": {
        "id": "8e99d926-32a3-4719-95a7-4a7afbdd66b0"
      },
      "outputs": [],
      "source": [
        "print('la moda es: ',df['2016'].mode())"
      ]
    },
    {
      "cell_type": "code",
      "execution_count": null,
      "metadata": {
        "id": "735db077-52ca-49b4-86bd-c120c13a3569"
      },
      "outputs": [],
      "source": [
        "print('la mediana es: ',df['2016'].median())"
      ]
    },
    {
      "cell_type": "code",
      "execution_count": null,
      "metadata": {
        "id": "4dfe3605-c097-41fb-8e8d-3ca6be2e1d34"
      },
      "outputs": [],
      "source": [
        "print('el valor mínimo de 2016 es: : ',df['2016'].min())"
      ]
    },
    {
      "cell_type": "code",
      "execution_count": null,
      "metadata": {
        "id": "53a20177-c674-415f-b96b-1c20770a3b16"
      },
      "outputs": [],
      "source": [
        "print('el valor máximo de 2016 es: : ',df['2016'].max())"
      ]
    },
    {
      "cell_type": "code",
      "execution_count": null,
      "metadata": {
        "id": "0f3161e4-ac2a-4c78-9f49-da918f5fbfc7"
      },
      "outputs": [],
      "source": [
        "print('el rango de 2016 es: : ',df['2016'].max() - df['2016'].min())"
      ]
    },
    {
      "cell_type": "code",
      "execution_count": null,
      "metadata": {
        "id": "0dcb7019-ead0-4ac3-9331-83741362e356"
      },
      "outputs": [],
      "source": [
        "print('la desviación éstandar de 2016 es: : ',df['2016'].std())"
      ]
    },
    {
      "cell_type": "code",
      "execution_count": null,
      "metadata": {
        "id": "caf5618a-cc91-4d52-a38c-32a09b316c70"
      },
      "outputs": [],
      "source": [
        "sns.histplot(data = df,x = '2016')\n",
        "plt.axvline(x=df.2016.mean(),color='red',linestyle='dashed',linewidth=2)"
      ]
    },
    {
      "cell_type": "markdown",
      "source": [
        "## 2015\n",
        "type: object"
      ],
      "metadata": {
        "id": "b6894546-1ab9-4974-bdee-34aae0783241"
      }
    },
    {
      "cell_type": "code",
      "execution_count": null,
      "metadata": {
        "id": "b670cd85-f34e-4367-93c2-87dd76cc60d2"
      },
      "outputs": [],
      "source": [
        "df['2015'] = pd.to_numeric(df[f'2015'], errors='coerce')"
      ]
    },
    {
      "cell_type": "code",
      "execution_count": null,
      "metadata": {
        "id": "aa0ae432-bebe-47c6-b595-74aa08f9963a"
      },
      "outputs": [],
      "source": [
        "print('la media es: ',df['2015'].mean())"
      ]
    },
    {
      "cell_type": "code",
      "execution_count": null,
      "metadata": {
        "id": "dbdbcb0c-1dad-4abc-8796-3956e9c1a17b"
      },
      "outputs": [],
      "source": [
        "print('la moda es: ',df['2015'].mode())"
      ]
    },
    {
      "cell_type": "code",
      "execution_count": null,
      "metadata": {
        "id": "59e9f4e1-2ee1-412d-8959-7a33bbd017a5"
      },
      "outputs": [],
      "source": [
        "print('la mediana es: ',df['2015'].median())"
      ]
    },
    {
      "cell_type": "code",
      "execution_count": null,
      "metadata": {
        "id": "869b9f60-52d1-4e89-a645-9e9d37882405"
      },
      "outputs": [],
      "source": [
        "print('el valor mínimo de 2015 es: : ',df['2015'].min())"
      ]
    },
    {
      "cell_type": "code",
      "execution_count": null,
      "metadata": {
        "id": "a448f9e0-d3e8-4bfe-a134-1893e0bf04aa"
      },
      "outputs": [],
      "source": [
        "print('el valor máximo de 2015 es: : ',df['2015'].max())"
      ]
    },
    {
      "cell_type": "code",
      "execution_count": null,
      "metadata": {
        "id": "f0f76904-df73-4b14-a77f-8457aa9c3b3e"
      },
      "outputs": [],
      "source": [
        "print('el rango de 2015 es: : ',df['2015'].max() - df['2015'].min())"
      ]
    },
    {
      "cell_type": "code",
      "execution_count": null,
      "metadata": {
        "id": "57e23782-e199-4bd7-8486-9821f01d992c"
      },
      "outputs": [],
      "source": [
        "print('la desviación éstandar de 2015 es: : ',df['2015'].std())"
      ]
    },
    {
      "cell_type": "code",
      "execution_count": null,
      "metadata": {
        "id": "32f2c254-c0bc-464a-a58e-af3ea66b5d7f"
      },
      "outputs": [],
      "source": [
        "sns.histplot(data = df,x = '2015')\n",
        "plt.axvline(x=df.2015.mean(),color='red',linestyle='dashed',linewidth=2)"
      ]
    },
    {
      "cell_type": "markdown",
      "source": [
        "## 2014\n",
        "type: object"
      ],
      "metadata": {
        "id": "c245e93b-a9e0-4ebf-a7ce-b6f04ea964c4"
      }
    },
    {
      "cell_type": "code",
      "execution_count": null,
      "metadata": {
        "id": "b1a70bfa-aaa2-441e-92de-149edd95f41b"
      },
      "outputs": [],
      "source": [
        "df['2014'] = pd.to_numeric(df[f'2014'], errors='coerce')"
      ]
    },
    {
      "cell_type": "code",
      "execution_count": null,
      "metadata": {
        "id": "d2bacd93-f21b-42a3-81e0-1b69323d60f6"
      },
      "outputs": [],
      "source": [
        "print('la media es: ',df['2014'].mean())"
      ]
    },
    {
      "cell_type": "code",
      "execution_count": null,
      "metadata": {
        "id": "76bf79e0-54a8-42c4-8b85-8e1b1e90e15a"
      },
      "outputs": [],
      "source": [
        "print('la moda es: ',df['2014'].mode())"
      ]
    },
    {
      "cell_type": "code",
      "execution_count": null,
      "metadata": {
        "id": "a0401652-34e9-4a43-8720-f581a7c738a3"
      },
      "outputs": [],
      "source": [
        "print('la mediana es: ',df['2014'].median())"
      ]
    },
    {
      "cell_type": "code",
      "execution_count": null,
      "metadata": {
        "id": "48821380-30ee-4127-9dda-f9fe33e89dfe"
      },
      "outputs": [],
      "source": [
        "print('el valor mínimo de 2014 es: : ',df['2014'].min())"
      ]
    },
    {
      "cell_type": "code",
      "execution_count": null,
      "metadata": {
        "id": "608c381a-3cea-4b45-b77d-46c8b432c777"
      },
      "outputs": [],
      "source": [
        "print('el valor máximo de 2014 es: : ',df['2014'].max())"
      ]
    },
    {
      "cell_type": "code",
      "execution_count": null,
      "metadata": {
        "id": "d7d8ad4b-0bc2-4adf-b2af-87b335966cdf"
      },
      "outputs": [],
      "source": [
        "print('el rango de 2014 es: : ',df['2014'].max() - df['2014'].min())"
      ]
    },
    {
      "cell_type": "code",
      "execution_count": null,
      "metadata": {
        "id": "83cf392e-87d1-4290-a538-35618d44c068"
      },
      "outputs": [],
      "source": [
        "print('la desviación éstandar de 2014 es: : ',df['2014'].std())"
      ]
    },
    {
      "cell_type": "code",
      "execution_count": null,
      "metadata": {
        "id": "59c8d051-5b25-4674-903a-b0e7374b3ca9"
      },
      "outputs": [],
      "source": [
        "sns.histplot(data = df,x = '2014')\n",
        "plt.axvline(x=df.2014.mean(),color='red',linestyle='dashed',linewidth=2)"
      ]
    },
    {
      "cell_type": "markdown",
      "source": [
        "## 2013\n",
        "type: object"
      ],
      "metadata": {
        "id": "704e5e35-fcf1-4588-ae4f-d2126275514e"
      }
    },
    {
      "cell_type": "code",
      "execution_count": null,
      "metadata": {
        "id": "75d5187a-79c0-4e4a-a2b1-0e13b7264cd5"
      },
      "outputs": [],
      "source": [
        "df['2013'] = pd.to_numeric(df[f'2013'], errors='coerce')"
      ]
    },
    {
      "cell_type": "code",
      "execution_count": null,
      "metadata": {
        "id": "6dec97b6-7c18-428f-8618-151732af1f67"
      },
      "outputs": [],
      "source": [
        "print('la media es: ',df['2013'].mean())"
      ]
    },
    {
      "cell_type": "code",
      "execution_count": null,
      "metadata": {
        "id": "1b4eac94-43cd-42a0-968c-75210829826a"
      },
      "outputs": [],
      "source": [
        "print('la moda es: ',df['2013'].mode())"
      ]
    },
    {
      "cell_type": "code",
      "execution_count": null,
      "metadata": {
        "id": "d09e7874-8a24-4494-971f-90f178374ce2"
      },
      "outputs": [],
      "source": [
        "print('la mediana es: ',df['2013'].median())"
      ]
    },
    {
      "cell_type": "code",
      "execution_count": null,
      "metadata": {
        "id": "5b26c546-66dc-4a70-9887-2a72e6383574"
      },
      "outputs": [],
      "source": [
        "print('el valor mínimo de 2013 es: : ',df['2013'].min())"
      ]
    },
    {
      "cell_type": "code",
      "execution_count": null,
      "metadata": {
        "id": "a39f3cda-f401-4633-b750-22f2692dc9aa"
      },
      "outputs": [],
      "source": [
        "print('el valor máximo de 2013 es: : ',df['2013'].max())"
      ]
    },
    {
      "cell_type": "code",
      "execution_count": null,
      "metadata": {
        "id": "502de946-826c-4f39-8cae-ebdc1dab6b0e"
      },
      "outputs": [],
      "source": [
        "print('el rango de 2013 es: : ',df['2013'].max() - df['2013'].min())"
      ]
    },
    {
      "cell_type": "code",
      "execution_count": null,
      "metadata": {
        "id": "7b2a325b-bc1d-4a86-9903-ee393429ec4f"
      },
      "outputs": [],
      "source": [
        "print('la desviación éstandar de 2013 es: : ',df['2013'].std())"
      ]
    },
    {
      "cell_type": "code",
      "execution_count": null,
      "metadata": {
        "id": "a798724f-1264-4e08-9d2b-988d04f24ae1"
      },
      "outputs": [],
      "source": [
        "sns.histplot(data = df,x = '2013')\n",
        "plt.axvline(x=df.2013.mean(),color='red',linestyle='dashed',linewidth=2)"
      ]
    },
    {
      "cell_type": "markdown",
      "source": [
        "## 2012_2008\n",
        "type: object"
      ],
      "metadata": {
        "id": "a31c3a00-3516-469d-b728-2a8920bf1979"
      }
    },
    {
      "cell_type": "code",
      "execution_count": null,
      "metadata": {
        "id": "c8686d89-a8f3-4fa6-a7b9-cc807c3b33f6"
      },
      "outputs": [],
      "source": [
        "df['2012_2008'] = df['2012_2008'].astype(str)\n",
        "df['2012_2008'] = df['2012_2008'].str.replace('.0','')\n",
        "df['2012_2008'].unique()"
      ]
    },
    {
      "cell_type": "code",
      "execution_count": null,
      "metadata": {
        "id": "61c4dde4-2ff3-4415-8382-cc70ef4f2d7c"
      },
      "outputs": [],
      "source": [
        "df['2012_2008'].value_counts()"
      ]
    },
    {
      "cell_type": "code",
      "execution_count": null,
      "metadata": {
        "id": "b9b17613-5d54-4067-956d-fbc980d33672"
      },
      "outputs": [],
      "source": [
        "plt.figure(figsize=(10,5))\n",
        "df['2012_2008'].value_counts()[:15].plot(kind='pie')"
      ]
    },
    {
      "cell_type": "code",
      "execution_count": null,
      "metadata": {
        "id": "c6e173f2-dfb1-4a81-8eec-dab982a7676f"
      },
      "outputs": [],
      "source": [
        "plt.figure(figsize=(30,5))\n",
        "df['2012_2008'].value_counts()[:15].plot(kind='barh')"
      ]
    },
    {
      "cell_type": "markdown",
      "source": [
        "# Sweetviz report"
      ],
      "metadata": {
        "id": "2f833cdb-bfc8-47d9-974e-23c54ef260fc"
      }
    },
    {
      "cell_type": "code",
      "execution_count": null,
      "metadata": {
        "id": "402dffd7-57d5-4283-b70b-f4bf60139969"
      },
      "outputs": [],
      "source": [
        "sweet_report = sv.analyze(df)\n",
        "sweet_report.show_html(f'{path_dir}sw_report_financial statements (TSLA).xlsx_balance sheet quarterly.html')"
      ]
    }
  ]
}