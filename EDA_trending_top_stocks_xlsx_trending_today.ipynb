{
  "nbformat": 4,
  "nbformat_minor": 0,
  "metadata": {
    "colab": {
      "provenance": [],
      "include_colab_link": true
    },
    "kernelspec": {
      "name": "python3",
      "display_name": "Python 3"
    },
    "language_info": {
      "name": "python"
    }
  },
  "cells": [
    {
      "cell_type": "markdown",
      "metadata": {
        "id": "view-in-github",
        "colab_type": "text"
      },
      "source": [
        "<a href=\"https://colab.research.google.com/github/Al-goritmus/finantial_web_scrapping_python/blob/master/EDA_trending_top_stocks_xlsx_trending_today.ipynb\" target=\"_parent\"><img src=\"https://colab.research.google.com/assets/colab-badge.svg\" alt=\"Open In Colab\"/></a>"
      ]
    },
    {
      "cell_type": "markdown",
      "source": [
        "# Import libraries"
      ],
      "metadata": {
        "id": "5a942421-04d7-4470-bd92-b94fb5ff9b62"
      }
    },
    {
      "cell_type": "code",
      "execution_count": null,
      "metadata": {
        "id": "b499c3fb-bee4-4618-9136-c0b533481412"
      },
      "outputs": [],
      "source": [
        "!pip install sweetviz\n"
      ]
    },
    {
      "cell_type": "code",
      "outputs": [],
      "execution_count": null,
      "metadata": {
        "id": "5ee18639-6cc4-4360-9f97-a5310677ad36"
      },
      "source": [
        "import pandas as pd\n",
        "import psycopg2\n",
        "import numpy as np\n",
        "import matplotlib.pyplot     as plt\n",
        "import matplotlib.patches    as mpatches\n",
        "import seaborn               as sns\n",
        "import sweetviz as sv\n",
        "import sklearn.metrics       as Metrics\n",
        "from google.colab import drive\n",
        "from pandas_profiling import ProfileReport\n",
        "%matplotlib inline"
      ]
    },
    {
      "cell_type": "markdown",
      "source": [
        "# Read file"
      ],
      "metadata": {
        "id": "19fbddb6-0fe2-41e8-a784-31805e079489"
      }
    },
    {
      "cell_type": "code",
      "execution_count": null,
      "metadata": {
        "id": "14140b60-2f9f-4a06-a573-6921a444b76a"
      },
      "outputs": [],
      "source": [
        "drive.mount('/content/drive')\n"
      ]
    },
    {
      "cell_type": "code",
      "execution_count": null,
      "metadata": {
        "id": "beeddb85-db21-4f41-90fa-ba2e8e94ed34"
      },
      "outputs": [],
      "source": [
        "path_dir = '/mnt/f/PythonFinanceProjects/'\n",
        "filename = 'trending_top_stocks.xlsx'\n",
        "sheet = 'trending_today'\n"
      ]
    },
    {
      "cell_type": "code",
      "execution_count": null,
      "metadata": {
        "id": "f9f1b22c-000f-4ca7-8fb1-c789b75ec628"
      },
      "outputs": [],
      "source": [
        "df = pd.read_excel(f'{path_dir}{filename}', sheet_name=sheet, header=0)"
      ]
    },
    {
      "cell_type": "code",
      "execution_count": null,
      "metadata": {
        "id": "2810c39e-ac3b-46b8-8866-575b9796189e"
      },
      "outputs": [],
      "source": [
        "df"
      ]
    },
    {
      "cell_type": "markdown",
      "source": [
        "# Normalize_cols"
      ],
      "metadata": {
        "id": "1286c1f1-6e1f-4beb-b543-408e07150449"
      }
    },
    {
      "cell_type": "code",
      "execution_count": null,
      "metadata": {
        "id": "f7d896eb-512b-4cb9-b15c-626e9c049b0f"
      },
      "outputs": [],
      "source": [
        "def remove_accents_cols(df_cols):\n",
        "    return df_cols.str.replace('ñ','ni').str.normalize('NFKD').str.encode('ascii', errors='ignore').str.decode('utf-8')\n",
        "def remove_special_chars(df_cols):\n",
        "    return df_cols.str.replace(r'[$@&/.:-]',' ', regex=True)\n",
        "def regular_camel_case(snake_str):\n",
        "    components = snake_str.split('_')\n",
        "    return components[0] + ''.join(x.title() for x in components[1:])\n",
        "def regular_snake_case(df_cols):\n",
        "    cols = df_cols.str.replace('ñ','ni')\n",
        "    cols = cols.str.lower().str.replace('/',' ').str.replace('.',' ').str.strip()\n",
        "    cols = cols.str.replace(r'\\s+',' ',regex=True)\n",
        "    cols = cols.str.replace(' ','_')\n",
        "    return cols"
      ]
    },
    {
      "cell_type": "code",
      "execution_count": null,
      "metadata": {
        "id": "ed0ed856-4b48-4a8b-9571-3c1b8fa9f67b"
      },
      "outputs": [],
      "source": [
        "df.columns = remove_accents_cols(df.columns)\n",
        "df.columns = remove_special_chars(df.columns)\n",
        "df.columns = regular_snake_case(df.columns)"
      ]
    },
    {
      "cell_type": "code",
      "execution_count": null,
      "metadata": {
        "id": "501bf394-487b-459b-8969-8ce272f476bc"
      },
      "outputs": [],
      "source": [
        "df"
      ]
    },
    {
      "cell_type": "markdown",
      "source": [
        "# General stats cells"
      ],
      "metadata": {
        "id": "fc681dbf-6aa0-44c0-9810-659ebf0f3eba"
      }
    },
    {
      "cell_type": "code",
      "execution_count": null,
      "metadata": {
        "id": "985863a2-1a58-403a-b710-b43972a35012"
      },
      "outputs": [],
      "source": [
        "df.describe()"
      ]
    },
    {
      "cell_type": "code",
      "execution_count": null,
      "metadata": {
        "id": "fea8b5ab-cef1-4bf8-a447-1c529baf16f2"
      },
      "outputs": [],
      "source": [
        "df.dtypes\n"
      ]
    },
    {
      "cell_type": "code",
      "execution_count": null,
      "metadata": {
        "id": "43103f37-194e-4e27-8fe3-9a3b5cb78de4"
      },
      "outputs": [],
      "source": [
        "df.info()"
      ]
    },
    {
      "cell_type": "code",
      "execution_count": null,
      "metadata": {
        "id": "c4be829e-c1c5-4802-a323-03fc8e8f147c"
      },
      "outputs": [],
      "source": [
        "print('recuento de columnas por tipo: ', df.dtypes.value_counts())\n",
        "print('sumatoria de valores nulos en el dataframe: ', df.isna().sum())"
      ]
    },
    {
      "cell_type": "markdown",
      "source": [
        "# General Analyst by columns"
      ],
      "metadata": {
        "id": "5b9a3605-9040-4338-9f0d-7273da75c0b4"
      }
    },
    {
      "cell_type": "markdown",
      "source": [
        "## no\n",
        "type: int64"
      ],
      "metadata": {
        "id": "794ca29f-f263-4f59-a050-826ed0e547c3"
      }
    },
    {
      "cell_type": "code",
      "execution_count": null,
      "metadata": {
        "id": "10b73b95-d515-4d0d-b50a-c319e24c5940"
      },
      "outputs": [],
      "source": [
        "df['no'] = pd.to_numeric(df[f'no'], errors='coerce')"
      ]
    },
    {
      "cell_type": "code",
      "execution_count": null,
      "metadata": {
        "id": "850190bd-1f2c-4dfb-a903-d2ff83377d27"
      },
      "outputs": [],
      "source": [
        "print('la media es: ',df['no'].mean())"
      ]
    },
    {
      "cell_type": "code",
      "execution_count": null,
      "metadata": {
        "id": "7591d641-63de-4286-a3f0-04c0c32217d4"
      },
      "outputs": [],
      "source": [
        "print('la moda es: ',df['no'].mode())"
      ]
    },
    {
      "cell_type": "code",
      "execution_count": null,
      "metadata": {
        "id": "cc015b3d-2949-485d-90d3-e2f49a7ef066"
      },
      "outputs": [],
      "source": [
        "print('la mediana es: ',df['no'].median())"
      ]
    },
    {
      "cell_type": "code",
      "execution_count": null,
      "metadata": {
        "id": "54481d28-6ab4-4105-b4a9-c8d073f2bfce"
      },
      "outputs": [],
      "source": [
        "print('el valor mínimo de no es: : ',df['no'].min())"
      ]
    },
    {
      "cell_type": "code",
      "execution_count": null,
      "metadata": {
        "id": "b44c6842-e3fd-4b06-bfee-7a78fe6f9883"
      },
      "outputs": [],
      "source": [
        "print('el valor máximo de no es: : ',df['no'].max())"
      ]
    },
    {
      "cell_type": "code",
      "execution_count": null,
      "metadata": {
        "id": "1b66750e-d41c-4aa9-ac38-2b1e271b1564"
      },
      "outputs": [],
      "source": [
        "print('el rango de no es: : ',df['no'].max() - df['no'].min())"
      ]
    },
    {
      "cell_type": "code",
      "execution_count": null,
      "metadata": {
        "id": "83734ad4-3329-44b1-97a1-50f7f7a12d28"
      },
      "outputs": [],
      "source": [
        "print('la desviación éstandar de no es: : ',df['no'].std())"
      ]
    },
    {
      "cell_type": "code",
      "execution_count": null,
      "metadata": {
        "id": "fdf2ba8e-c10f-4b33-9322-20769305f9ba"
      },
      "outputs": [],
      "source": [
        "sns.histplot(data = df,x = 'no')\n",
        "plt.axvline(x=df['no'].mean(),color='red',linestyle='dashed',linewidth=2)"
      ]
    },
    {
      "cell_type": "markdown",
      "source": [
        "## symbol\n",
        "type: object"
      ],
      "metadata": {
        "id": "d8057d57-3e24-4bb8-9b4e-b90e3a231ba3"
      }
    },
    {
      "cell_type": "code",
      "execution_count": null,
      "metadata": {
        "id": "01b93f74-37ad-4cd4-9d81-c3ab1b580753"
      },
      "outputs": [],
      "source": [
        "df['symbol'] = df['symbol'].astype(str)\n",
        "df['symbol'] = df['symbol'].str.replace('.0','')\n",
        "df['symbol'].unique()"
      ]
    },
    {
      "cell_type": "code",
      "execution_count": null,
      "metadata": {
        "id": "9aa34bc2-cfaf-4708-9293-ff2a8d251148"
      },
      "outputs": [],
      "source": [
        "df['symbol'].value_counts()"
      ]
    },
    {
      "cell_type": "code",
      "execution_count": null,
      "metadata": {
        "id": "a9d14905-c514-45e6-8cdd-14874cf3ff08"
      },
      "outputs": [],
      "source": [
        "plt.figure(figsize=(10,5))\n",
        "df['symbol'].value_counts()[:15].plot(kind='pie')"
      ]
    },
    {
      "cell_type": "code",
      "execution_count": null,
      "metadata": {
        "id": "7ff05dd7-0bb3-433b-8b22-f59e8b75c97a"
      },
      "outputs": [],
      "source": [
        "plt.figure(figsize=(30,5))\n",
        "df['symbol'].value_counts()[:15].plot(kind='barh')"
      ]
    },
    {
      "cell_type": "markdown",
      "source": [
        "## company_name\n",
        "type: object"
      ],
      "metadata": {
        "id": "067e9ebf-83f9-4b8f-9612-c872cbfb1de2"
      }
    },
    {
      "cell_type": "code",
      "execution_count": null,
      "metadata": {
        "id": "6364bd88-45f1-4381-9598-f6e65564b308"
      },
      "outputs": [],
      "source": [
        "df['company_name'] = df['company_name'].astype(str)\n",
        "df['company_name'] = df['company_name'].str.replace('.0','')\n",
        "df['company_name'].unique()"
      ]
    },
    {
      "cell_type": "code",
      "execution_count": null,
      "metadata": {
        "id": "66f4cbb9-9ca0-409a-919f-c479c7429fdf"
      },
      "outputs": [],
      "source": [
        "df['company_name'].value_counts()"
      ]
    },
    {
      "cell_type": "code",
      "execution_count": null,
      "metadata": {
        "id": "f5b79175-9a06-401b-b61b-3390212f23ae"
      },
      "outputs": [],
      "source": [
        "plt.figure(figsize=(10,5))\n",
        "df['company_name'].value_counts()[:15].plot(kind='pie')"
      ]
    },
    {
      "cell_type": "code",
      "execution_count": null,
      "metadata": {
        "id": "62b786c3-4728-4a6e-b327-22e09711f3b6"
      },
      "outputs": [],
      "source": [
        "plt.figure(figsize=(30,5))\n",
        "df['company_name'].value_counts()[:15].plot(kind='barh')"
      ]
    },
    {
      "cell_type": "markdown",
      "source": [
        "## views\n",
        "type: int64"
      ],
      "metadata": {
        "id": "3a064bb4-38f9-4e3a-9cea-8f9c57450e87"
      }
    },
    {
      "cell_type": "code",
      "execution_count": null,
      "metadata": {
        "id": "cb151607-e775-4c2c-b6f5-b2f25c2d2d5b"
      },
      "outputs": [],
      "source": [
        "df['views'] = pd.to_numeric(df[f'views'], errors='coerce')"
      ]
    },
    {
      "cell_type": "code",
      "execution_count": null,
      "metadata": {
        "id": "a48f58ad-0f5f-4248-8455-7a3c15055e3c"
      },
      "outputs": [],
      "source": [
        "print('la media es: ',df['views'].mean())"
      ]
    },
    {
      "cell_type": "code",
      "execution_count": null,
      "metadata": {
        "id": "3ecd46d1-c49b-4b13-8ab1-8aa7c535be15"
      },
      "outputs": [],
      "source": [
        "print('la moda es: ',df['views'].mode())"
      ]
    },
    {
      "cell_type": "code",
      "execution_count": null,
      "metadata": {
        "id": "6cbaf9c2-eabf-490a-876c-99838b740d79"
      },
      "outputs": [],
      "source": [
        "print('la mediana es: ',df['views'].median())"
      ]
    },
    {
      "cell_type": "code",
      "execution_count": null,
      "metadata": {
        "id": "7cce2acb-dac5-450f-8dbc-e457d85d8a4a"
      },
      "outputs": [],
      "source": [
        "print('el valor mínimo de views es: : ',df['views'].min())"
      ]
    },
    {
      "cell_type": "code",
      "execution_count": null,
      "metadata": {
        "id": "21bc0420-1660-4b8f-b8ef-79515ef9dd88"
      },
      "outputs": [],
      "source": [
        "print('el valor máximo de views es: : ',df['views'].max())"
      ]
    },
    {
      "cell_type": "code",
      "execution_count": null,
      "metadata": {
        "id": "4b93ce7b-f28b-49cb-890d-8b0c5b8be336"
      },
      "outputs": [],
      "source": [
        "print('el rango de views es: : ',df['views'].max() - df['views'].min())"
      ]
    },
    {
      "cell_type": "code",
      "execution_count": null,
      "metadata": {
        "id": "e91d4b17-d1d5-4570-851b-ed03225caf18"
      },
      "outputs": [],
      "source": [
        "print('la desviación éstandar de views es: : ',df['views'].std())"
      ]
    },
    {
      "cell_type": "code",
      "execution_count": null,
      "metadata": {
        "id": "5431da83-91f8-49a7-ae7d-e9af6686553e"
      },
      "outputs": [],
      "source": [
        "sns.histplot(data = df,x = 'views')\n",
        "plt.axvline(x=df['views'].mean(),color='red',linestyle='dashed',linewidth=2)"
      ]
    },
    {
      "cell_type": "markdown",
      "source": [
        "## market_cap\n",
        "type: object"
      ],
      "metadata": {
        "id": "f6322978-8bfa-421b-a939-01103e74b1d2"
      }
    },
    {
      "cell_type": "code",
      "execution_count": null,
      "metadata": {
        "id": "2edb9c3d-6241-4199-a942-1287907063f4"
      },
      "outputs": [],
      "source": [
        "df['market_cap'] = df['market_cap'].astype(str)\n",
        "df['market_cap'] = df['market_cap'].str.replace('.0','')\n",
        "df['market_cap'].unique()"
      ]
    },
    {
      "cell_type": "code",
      "execution_count": null,
      "metadata": {
        "id": "2939a17f-0426-4bfa-ac86-fddc4b96afa2"
      },
      "outputs": [],
      "source": [
        "df['market_cap'].value_counts()"
      ]
    },
    {
      "cell_type": "code",
      "execution_count": null,
      "metadata": {
        "id": "38b3d3ca-28b1-468c-b0eb-108ee354e9d7"
      },
      "outputs": [],
      "source": [
        "plt.figure(figsize=(10,5))\n",
        "df['market_cap'].value_counts()[:15].plot(kind='pie')"
      ]
    },
    {
      "cell_type": "code",
      "execution_count": null,
      "metadata": {
        "id": "7be71c76-22c8-4e76-8a64-3e0d2cb23710"
      },
      "outputs": [],
      "source": [
        "plt.figure(figsize=(30,5))\n",
        "df['market_cap'].value_counts()[:15].plot(kind='barh')"
      ]
    },
    {
      "cell_type": "markdown",
      "source": [
        "## %_change\n",
        "type: object"
      ],
      "metadata": {
        "id": "97114540-f362-432c-9cfa-d9689d797d9c"
      }
    },
    {
      "cell_type": "code",
      "execution_count": null,
      "metadata": {
        "id": "972f380f-c482-4621-9101-c7364c33c0f3"
      },
      "outputs": [],
      "source": [
        "df['%_change'] = df['%_change'].astype(str)\n",
        "df['%_change'] = df['%_change'].str.replace('.0','')\n",
        "df['%_change'].unique()"
      ]
    },
    {
      "cell_type": "code",
      "execution_count": null,
      "metadata": {
        "id": "7eac310b-bf45-4ddf-af37-5d935e9e2241"
      },
      "outputs": [],
      "source": [
        "df['%_change'].value_counts()"
      ]
    },
    {
      "cell_type": "code",
      "execution_count": null,
      "metadata": {
        "id": "01ca5de4-812f-438e-af1c-c2e37346ab91"
      },
      "outputs": [],
      "source": [
        "plt.figure(figsize=(10,5))\n",
        "df['%_change'].value_counts()[:15].plot(kind='pie')"
      ]
    },
    {
      "cell_type": "code",
      "execution_count": null,
      "metadata": {
        "id": "6a996ead-b999-4f72-8367-d10adfed5579"
      },
      "outputs": [],
      "source": [
        "plt.figure(figsize=(30,5))\n",
        "df['%_change'].value_counts()[:15].plot(kind='barh')"
      ]
    },
    {
      "cell_type": "markdown",
      "source": [
        "## volume\n",
        "type: object"
      ],
      "metadata": {
        "id": "4ced7122-e1ca-428d-802a-c2e3642c128e"
      }
    },
    {
      "cell_type": "code",
      "execution_count": null,
      "metadata": {
        "id": "fc4cd083-efbf-4705-8c8f-48e8880d2de9"
      },
      "outputs": [],
      "source": [
        "df['volume'] = pd.to_numeric(df[f'volume'], errors='coerce')"
      ]
    },
    {
      "cell_type": "code",
      "execution_count": null,
      "metadata": {
        "id": "d3f1893e-116b-4a50-a44b-660d0d4a3d42"
      },
      "outputs": [],
      "source": [
        "print('la media es: ',df['volume'].mean())"
      ]
    },
    {
      "cell_type": "code",
      "execution_count": null,
      "metadata": {
        "id": "f94084d9-74c3-4996-b89a-108d91f4afc8"
      },
      "outputs": [],
      "source": [
        "print('la moda es: ',df['volume'].mode())"
      ]
    },
    {
      "cell_type": "code",
      "execution_count": null,
      "metadata": {
        "id": "123219d6-e642-428a-8c02-28b1902812eb"
      },
      "outputs": [],
      "source": [
        "print('la mediana es: ',df['volume'].median())"
      ]
    },
    {
      "cell_type": "code",
      "execution_count": null,
      "metadata": {
        "id": "36420172-3529-411a-8319-c0abdc684b2d"
      },
      "outputs": [],
      "source": [
        "print('el valor mínimo de volume es: : ',df['volume'].min())"
      ]
    },
    {
      "cell_type": "code",
      "execution_count": null,
      "metadata": {
        "id": "c0c6c7a1-43a7-4830-a438-9e1dbd2a6226"
      },
      "outputs": [],
      "source": [
        "print('el valor máximo de volume es: : ',df['volume'].max())"
      ]
    },
    {
      "cell_type": "code",
      "execution_count": null,
      "metadata": {
        "id": "b7f30c02-1e1b-414b-8df3-defa9d0625e2"
      },
      "outputs": [],
      "source": [
        "print('el rango de volume es: : ',df['volume'].max() - df['volume'].min())"
      ]
    },
    {
      "cell_type": "code",
      "execution_count": null,
      "metadata": {
        "id": "431c40e6-1e3c-4584-a972-2f709d946e96"
      },
      "outputs": [],
      "source": [
        "print('la desviación éstandar de volume es: : ',df['volume'].std())"
      ]
    },
    {
      "cell_type": "code",
      "execution_count": null,
      "metadata": {
        "id": "f1d9c8a5-e7db-4496-943c-9eeec2018993"
      },
      "outputs": [],
      "source": [
        "sns.histplot(data = df,x = 'volume')\n",
        "plt.axvline(x=df.volume.mean(),color='red',linestyle='dashed',linewidth=2)"
      ]
    },
    {
      "cell_type": "markdown",
      "source": [
        "# Sweetviz report"
      ],
      "metadata": {
        "id": "e3d8b82e-803e-4662-b922-280ac3029347"
      }
    },
    {
      "cell_type": "code",
      "execution_count": null,
      "metadata": {
        "id": "3715a633-85ae-4175-8f9c-7493bb35004d"
      },
      "outputs": [],
      "source": [
        "sweet_report = sv.analyze(df)\n",
        "sweet_report.show_html(f'{path_dir}sw_report_trending_top_stocks.xlsx_trending_today.html')"
      ]
    }
  ]
}